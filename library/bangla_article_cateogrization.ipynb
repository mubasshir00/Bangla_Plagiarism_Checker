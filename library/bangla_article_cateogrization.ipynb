{
  "nbformat": 4,
  "nbformat_minor": 0,
  "metadata": {
    "colab": {
      "provenance": []
    },
    "kernelspec": {
      "name": "python3",
      "display_name": "Python 3"
    },
    "language_info": {
      "name": "python"
    }
  },
  "cells": [
    {
      "cell_type": "code",
      "source": [
        "from google.colab import drive\n",
        "drive.mount('/content/drive')"
      ],
      "metadata": {
        "colab": {
          "base_uri": "https://localhost:8080/"
        },
        "id": "Rj8OdJnEMrCJ",
        "outputId": "4e5c46cb-a0de-42af-cefa-996c3a557564"
      },
      "execution_count": 72,
      "outputs": [
        {
          "output_type": "stream",
          "name": "stdout",
          "text": [
            "Drive already mounted at /content/drive; to attempt to forcibly remount, call drive.mount(\"/content/drive\", force_remount=True).\n"
          ]
        }
      ]
    },
    {
      "cell_type": "code",
      "source": [
        "import numpy as np\n",
        "import matplotlib.pyplot as plt\n",
        "%matplotlib inline\n",
        "import pandas as pd\n",
        "import seaborn as sns\n",
        "import re,nltk,json, pickle\n",
        "import tensorflow as tf\n",
        "from tensorflow import keras\n",
        "from tensorflow.keras import regularizers\n",
        "from tensorflow.keras.preprocessing.sequence import pad_sequences\n",
        "from tensorflow.keras.layers import LSTM,GRU\n",
        "from tensorflow.keras.models import load_model\n",
        "from sklearn.metrics import confusion_matrix\n",
        "from sklearn.metrics import classification_report \n",
        "from sklearn.model_selection import train_test_split\n",
        "from sklearn.metrics import accuracy_score,precision_score,recall_score,f1_score,roc_auc_score\n",
        "from sklearn.preprocessing import LabelEncoder\n",
        "from tensorflow.keras.preprocessing.text import Tokenizer\n",
        "np.random.seed(42)\n",
        "class color: # Text style\n",
        "   PURPLE = '\\033[95m'\n",
        "   CYAN = '\\033[96m'\n",
        "   DARKCYAN = '\\033[36m'\n",
        "   BLUE = '\\033[94m'\n",
        "   GREEN = '\\033[92m'\n",
        "   YELLOW = '\\033[93m'\n",
        "   RED = '\\033[91m'\n",
        "   BOLD = '\\033[1m'\n",
        "   UNDERLINE = '\\033[4m'\n",
        "   END = '\\033[0m'\n",
        "# Warnings\n",
        "import warnings\n",
        "warnings.simplefilter(action='ignore', category=FutureWarning)\n",
        "# dataset path\n",
        "dataset_path = '/content/drive/My Drive/Colab Notebooks/'\n",
        "path = '/content/drive/My Drive/Colab Notebooks/'"
      ],
      "metadata": {
        "id": "ng5prVPHNMHZ"
      },
      "execution_count": 73,
      "outputs": []
    },
    {
      "cell_type": "code",
      "source": [
        "!pip install tensorflow==2.10.0"
      ],
      "metadata": {
        "colab": {
          "base_uri": "https://localhost:8080/"
        },
        "id": "h5gcIoDCOiNo",
        "outputId": "5f6f0f55-3377-4bd3-d9cc-4c6a89ea5424"
      },
      "execution_count": 74,
      "outputs": [
        {
          "output_type": "stream",
          "name": "stdout",
          "text": [
            "Looking in indexes: https://pypi.org/simple, https://us-python.pkg.dev/colab-wheels/public/simple/\n",
            "Requirement already satisfied: tensorflow==2.10.0 in /usr/local/lib/python3.8/dist-packages (2.10.0)\n",
            "Requirement already satisfied: google-pasta>=0.1.1 in /usr/local/lib/python3.8/dist-packages (from tensorflow==2.10.0) (0.2.0)\n",
            "Requirement already satisfied: grpcio<2.0,>=1.24.3 in /usr/local/lib/python3.8/dist-packages (from tensorflow==2.10.0) (1.51.1)\n",
            "Requirement already satisfied: packaging in /usr/local/lib/python3.8/dist-packages (from tensorflow==2.10.0) (23.0)\n",
            "Requirement already satisfied: keras<2.11,>=2.10.0 in /usr/local/lib/python3.8/dist-packages (from tensorflow==2.10.0) (2.10.0)\n",
            "Requirement already satisfied: astunparse>=1.6.0 in /usr/local/lib/python3.8/dist-packages (from tensorflow==2.10.0) (1.6.3)\n",
            "Requirement already satisfied: gast<=0.4.0,>=0.2.1 in /usr/local/lib/python3.8/dist-packages (from tensorflow==2.10.0) (0.4.0)\n",
            "Requirement already satisfied: termcolor>=1.1.0 in /usr/local/lib/python3.8/dist-packages (from tensorflow==2.10.0) (2.2.0)\n",
            "Requirement already satisfied: setuptools in /usr/local/lib/python3.8/dist-packages (from tensorflow==2.10.0) (57.4.0)\n",
            "Requirement already satisfied: numpy>=1.20 in /usr/local/lib/python3.8/dist-packages (from tensorflow==2.10.0) (1.21.6)\n",
            "Requirement already satisfied: tensorflow-estimator<2.11,>=2.10.0 in /usr/local/lib/python3.8/dist-packages (from tensorflow==2.10.0) (2.10.0)\n",
            "Requirement already satisfied: libclang>=13.0.0 in /usr/local/lib/python3.8/dist-packages (from tensorflow==2.10.0) (15.0.6.1)\n",
            "Requirement already satisfied: tensorflow-io-gcs-filesystem>=0.23.1 in /usr/local/lib/python3.8/dist-packages (from tensorflow==2.10.0) (0.30.0)\n",
            "Requirement already satisfied: six>=1.12.0 in /usr/local/lib/python3.8/dist-packages (from tensorflow==2.10.0) (1.15.0)\n",
            "Requirement already satisfied: absl-py>=1.0.0 in /usr/local/lib/python3.8/dist-packages (from tensorflow==2.10.0) (1.4.0)\n",
            "Requirement already satisfied: typing-extensions>=3.6.6 in /usr/local/lib/python3.8/dist-packages (from tensorflow==2.10.0) (4.4.0)\n",
            "Requirement already satisfied: opt-einsum>=2.3.2 in /usr/local/lib/python3.8/dist-packages (from tensorflow==2.10.0) (3.3.0)\n",
            "Requirement already satisfied: keras-preprocessing>=1.1.1 in /usr/local/lib/python3.8/dist-packages (from tensorflow==2.10.0) (1.1.2)\n",
            "Requirement already satisfied: tensorboard<2.11,>=2.10 in /usr/local/lib/python3.8/dist-packages (from tensorflow==2.10.0) (2.10.1)\n",
            "Requirement already satisfied: wrapt>=1.11.0 in /usr/local/lib/python3.8/dist-packages (from tensorflow==2.10.0) (1.14.1)\n",
            "Requirement already satisfied: flatbuffers>=2.0 in /usr/local/lib/python3.8/dist-packages (from tensorflow==2.10.0) (23.1.21)\n",
            "Requirement already satisfied: protobuf<3.20,>=3.9.2 in /usr/local/lib/python3.8/dist-packages (from tensorflow==2.10.0) (3.19.6)\n",
            "Requirement already satisfied: h5py>=2.9.0 in /usr/local/lib/python3.8/dist-packages (from tensorflow==2.10.0) (3.1.0)\n",
            "Requirement already satisfied: wheel<1.0,>=0.23.0 in /usr/local/lib/python3.8/dist-packages (from astunparse>=1.6.0->tensorflow==2.10.0) (0.38.4)\n",
            "Requirement already satisfied: werkzeug>=1.0.1 in /usr/local/lib/python3.8/dist-packages (from tensorboard<2.11,>=2.10->tensorflow==2.10.0) (1.0.1)\n",
            "Requirement already satisfied: tensorboard-plugin-wit>=1.6.0 in /usr/local/lib/python3.8/dist-packages (from tensorboard<2.11,>=2.10->tensorflow==2.10.0) (1.8.1)\n",
            "Requirement already satisfied: tensorboard-data-server<0.7.0,>=0.6.0 in /usr/local/lib/python3.8/dist-packages (from tensorboard<2.11,>=2.10->tensorflow==2.10.0) (0.6.1)\n",
            "Requirement already satisfied: google-auth<3,>=1.6.3 in /usr/local/lib/python3.8/dist-packages (from tensorboard<2.11,>=2.10->tensorflow==2.10.0) (2.16.0)\n",
            "Requirement already satisfied: google-auth-oauthlib<0.5,>=0.4.1 in /usr/local/lib/python3.8/dist-packages (from tensorboard<2.11,>=2.10->tensorflow==2.10.0) (0.4.6)\n",
            "Requirement already satisfied: requests<3,>=2.21.0 in /usr/local/lib/python3.8/dist-packages (from tensorboard<2.11,>=2.10->tensorflow==2.10.0) (2.25.1)\n",
            "Requirement already satisfied: markdown>=2.6.8 in /usr/local/lib/python3.8/dist-packages (from tensorboard<2.11,>=2.10->tensorflow==2.10.0) (3.4.1)\n",
            "Requirement already satisfied: rsa<5,>=3.1.4 in /usr/local/lib/python3.8/dist-packages (from google-auth<3,>=1.6.3->tensorboard<2.11,>=2.10->tensorflow==2.10.0) (4.9)\n",
            "Requirement already satisfied: cachetools<6.0,>=2.0.0 in /usr/local/lib/python3.8/dist-packages (from google-auth<3,>=1.6.3->tensorboard<2.11,>=2.10->tensorflow==2.10.0) (5.3.0)\n",
            "Requirement already satisfied: pyasn1-modules>=0.2.1 in /usr/local/lib/python3.8/dist-packages (from google-auth<3,>=1.6.3->tensorboard<2.11,>=2.10->tensorflow==2.10.0) (0.2.8)\n",
            "Requirement already satisfied: requests-oauthlib>=0.7.0 in /usr/local/lib/python3.8/dist-packages (from google-auth-oauthlib<0.5,>=0.4.1->tensorboard<2.11,>=2.10->tensorflow==2.10.0) (1.3.1)\n",
            "Requirement already satisfied: importlib-metadata>=4.4 in /usr/local/lib/python3.8/dist-packages (from markdown>=2.6.8->tensorboard<2.11,>=2.10->tensorflow==2.10.0) (6.0.0)\n",
            "Requirement already satisfied: certifi>=2017.4.17 in /usr/local/lib/python3.8/dist-packages (from requests<3,>=2.21.0->tensorboard<2.11,>=2.10->tensorflow==2.10.0) (2022.12.7)\n",
            "Requirement already satisfied: urllib3<1.27,>=1.21.1 in /usr/local/lib/python3.8/dist-packages (from requests<3,>=2.21.0->tensorboard<2.11,>=2.10->tensorflow==2.10.0) (1.24.3)\n",
            "Requirement already satisfied: idna<3,>=2.5 in /usr/local/lib/python3.8/dist-packages (from requests<3,>=2.21.0->tensorboard<2.11,>=2.10->tensorflow==2.10.0) (2.10)\n",
            "Requirement already satisfied: chardet<5,>=3.0.2 in /usr/local/lib/python3.8/dist-packages (from requests<3,>=2.21.0->tensorboard<2.11,>=2.10->tensorflow==2.10.0) (4.0.0)\n",
            "Requirement already satisfied: zipp>=0.5 in /usr/local/lib/python3.8/dist-packages (from importlib-metadata>=4.4->markdown>=2.6.8->tensorboard<2.11,>=2.10->tensorflow==2.10.0) (3.12.1)\n",
            "Requirement already satisfied: pyasn1<0.5.0,>=0.4.6 in /usr/local/lib/python3.8/dist-packages (from pyasn1-modules>=0.2.1->google-auth<3,>=1.6.3->tensorboard<2.11,>=2.10->tensorflow==2.10.0) (0.4.8)\n",
            "Requirement already satisfied: oauthlib>=3.0.0 in /usr/local/lib/python3.8/dist-packages (from requests-oauthlib>=0.7.0->google-auth-oauthlib<0.5,>=0.4.1->tensorboard<2.11,>=2.10->tensorflow==2.10.0) (3.2.2)\n"
          ]
        }
      ]
    },
    {
      "cell_type": "code",
      "source": [
        "import tensorflow as tf\n",
        "print(tf.__version__)"
      ],
      "metadata": {
        "colab": {
          "base_uri": "https://localhost:8080/"
        },
        "id": "-nLCedKOPCU2",
        "outputId": "7309266e-4439-46f8-c295-187cb394485b"
      },
      "execution_count": 75,
      "outputs": [
        {
          "output_type": "stream",
          "name": "stdout",
          "text": [
            "2.11.0\n"
          ]
        }
      ]
    },
    {
      "cell_type": "code",
      "source": [
        "print(tf.keras.__version__)"
      ],
      "metadata": {
        "colab": {
          "base_uri": "https://localhost:8080/"
        },
        "id": "MqzYQtZlPHBw",
        "outputId": "1a0fec8e-a864-42cd-e63b-1923eed39efe"
      },
      "execution_count": 76,
      "outputs": [
        {
          "output_type": "stream",
          "name": "stdout",
          "text": [
            "2.11.0\n"
          ]
        }
      ]
    },
    {
      "cell_type": "code",
      "source": [
        "data = pd.read_csv(dataset_path+'article_test.csv',encoding='utf-8')\n",
        "print(f'Total number of Documents: {len(data)}')\n",
        "print(data)"
      ],
      "metadata": {
        "colab": {
          "base_uri": "https://localhost:8080/"
        },
        "id": "Q2NmKXpKPLUv",
        "outputId": "3e27d39e-de37-470c-e6ab-5802b45a7ef1"
      },
      "execution_count": 77,
      "outputs": [
        {
          "output_type": "stream",
          "name": "stdout",
          "text": [
            "Total number of Documents: 18\n",
            "                                                 Text       Category\n",
            "0   বাংলাদেশের রাজনীতিবিদদের সহিংস, লোভী, জঘন্য, ন...       politics\n",
            "1   এই প্রতিবেদনে ভবন ধসের কারণ হিসাবে নয়টি বিষয়কে...      politics \n",
            "2   গতকাল রোববার নৌ নিরাপত্তা সপ্তাহের শুরুর দিনেই...       politics\n",
            "3   আমাদের মহান ভাষা আন্দোলন থেকে শুরু করে ১৯৬২ স...       politics\n",
            "4   চট্টগ্রাম, মার্চ ১৫ (বিডিনিউজ টোয়েন্টিফোর ডটকম...       business\n",
            "5   ৪৮ বছর ধরে বাংলাদেশের ঘরে ঘরে সমাদৃত মিল্ক ভিট...       business\n",
            "6   বাংলাদেশ পাবলিক সার্ভিস কমিশনের (পিএসসি) দায়ি...       politics\n",
            "7   ঢাকা, ফেব্র“য়ারি ২৮ (বিডিনিউজ টোয়েন্টিফোর ডটকম...         sports\n",
            "8   কয়েক দিন আগে দুর্নীতি দমন কমিশনের একজন দায়িত্ব...       politics\n",
            "9   দিনে অন্তত একবার হলেও লগ-ইন করা হয় ফেইসবুকে, ত...           tech\n",
            "10  রোজা রাখার উদ্দেশ্যে শেষ রাতে উষা উদয়ের আগে য...       religion\n",
            "11  বাঁশের বেষ্টনির ভেতরে পোড়া বইয়ের কালো অঙ্গার থ...     literature\n",
            "12  কিশোরগঞ্জ, মে ৬ (বিডিনিউজ টোয়েন্টিফোর ডটকম)- দ...       politics\n",
            "13  অনলাইনে প্রথম আলো (prothom-alo.com) নিয়মিত পড...       politics\n",
            "14  বছর খানেক ধরেই দেশে-বিদেশে ঘুরেফিরে একটা আলোচন...       politics\n",
            "15  প্রথমবারের মতো স্টেজ শো করতে ভারত গেল ব্যান্ডদ...  entertainment\n",
            "16  অ্যান্টার্কটিকার থোয়াইটস হিমবাহকে ‘ডুমস ডে গ্ল...  international\n",
            "17  তুরস্ক ও সিরিয়ায় শক্তিশালী ভূমিকম্পে নিহত মানু...  international\n"
          ]
        }
      ]
    },
    {
      "cell_type": "code",
      "source": [
        "data = data[['Text','Category']]"
      ],
      "metadata": {
        "id": "N8rq1wD8X4Z-"
      },
      "execution_count": 78,
      "outputs": []
    },
    {
      "cell_type": "code",
      "source": [
        "sns.set(font_scale=1.4)\n",
        "data['Category'].value_counts().plot(kind='barh', figsize=(8, 6))\n",
        "plt.xlabel(\"Number of Articles\", labelpad=12)\n",
        "plt.ylabel(\"Category\", labelpad=12)\n",
        "plt.yticks(rotation = 45)\n",
        "plt.title(\"Dataset Distribution\", y=1.02);"
      ],
      "metadata": {
        "id": "lVrcb3wmYLOP",
        "outputId": "31cc966c-1ed9-4d19-a22f-1ba541526fa6",
        "colab": {
          "base_uri": "https://localhost:8080/",
          "height": 438
        }
      },
      "execution_count": 79,
      "outputs": [
        {
          "output_type": "display_data",
          "data": {
            "text/plain": [
              "<Figure size 576x432 with 1 Axes>"
            ],
            "image/png": "[encoded data removed]"
          },
          "metadata": {}
        }
      ]
    },
    {
      "cell_type": "code",
      "source": [
        "def cleaning_documents(articles):\n",
        "      '''\n",
        "      This function will clean the news articles by removing punctuation marks and stopwords.\n",
        "\n",
        "      Args:\n",
        "      articles: a news text(str)\n",
        "\n",
        "      returns:\n",
        "      news: clean text (str)\n",
        "      '''\n",
        "      news = articles.replace('\\n',' ')\n",
        "      news = re.sub('[^\\u0980-\\u09FF]',' ',str(news)) #removing unnecessary punctuation\n",
        "      # stopwords removal\n",
        "      stp = open(path+'bangla_stopwords.txt','r',encoding='utf-8').read().split()\n",
        "      result = news.split()\n",
        "      news = [word.strip() for word in result if word not in stp ]\n",
        "      news =\" \".join(news)\n",
        "      return news"
      ],
      "metadata": {
        "id": "furXGgb7WyYD"
      },
      "execution_count": 80,
      "outputs": []
    },
    {
      "cell_type": "code",
      "source": [
        "data['cleaned'] = data['Text'].apply(cleaning_documents)  "
      ],
      "metadata": {
        "id": "gsSqZiDTW2Xr"
      },
      "execution_count": 81,
      "outputs": []
    },
    {
      "cell_type": "code",
      "source": [
        "sample_data = [4,5]\n",
        "for i in sample_data:\n",
        "  print('Original:\\n',data.Text[i],'\\nCleaned:\\n',\n",
        "           data.cleaned[i],'\\n','Category:-- ',data.Category[i],'\\n')  "
      ],
      "metadata": {
        "colab": {
          "base_uri": "https://localhost:8080/"
        },
        "id": "zteCteVZW7tV",
        "outputId": "c651ce33-3d7a-44eb-e904-48dbf73226c6"
      },
      "execution_count": 82,
      "outputs": [
        {
          "output_type": "stream",
          "name": "stdout",
          "text": [
            "Original:\n",
            " চট্টগ্রাম, মার্চ ১৫ (বিডিনিউজ টোয়েন্টিফোর ডটকম)- দেশের অর্থনীতি স্থিতিশীল রয়েছে বলে দাবি করেছেন অর্থ উপদেষ্টা এবি মির্জ্জা আজিজুল ইসলাম। তিনি বলেন, \"মধ্যবর্তী সূচকগুলোর অগ্রগতি, ঋণ প্রবাহ, আমদানি ও রপ্তানি হার, আয়, মজুরি ও শ্রম সরবরাহ বৃদ্ধির পরিসংখ্যানগুলো বিবেচনা এনে বলা যায় দেশে অর্থনৈতিক স্থিতিশীলতা বিরাজ করছে।\" শনিবার চট্টগ্রাম সার্কিট হাউজে প্রাক বাজেট আলোচনা সভা শেষে সাংবাদিকরা সাবেক উপদেষ্টা ও রেগুলেটরি রিফর্মস কমিশনের চেয়ারম্যান আকবর আলি খানের মন্তব্য সম্পর্কে দৃষ্টি আকর্ষণ করলে অর্থ উপদেষ্টা এ কথা বলেন। 'দেশে নিরব দুর্ভিক্ষ চলছে'- শুক্রবার জাতীয় প্রেসক্লাবে এক গোলটেবিল বৈঠকে আকবর আলি খানের এই মন্ত্যবের সঙ্গে দ্বিমত প্রকাশ করে বিভিন্ন অঞ্চলের উপর পরিচালিত বিভিন্ন সংস্থার জরিপ উল্লেখ করে তিনি বলেন, \"দেশে মজুরি বৃদ্ধি পেয়েছে ১৭ দশমিক ৫ শতাংশ। সে পরিমাণ মুদ্রাস্ফীতি ঘটেনি। তাহলে অবস্থা এতটা খারাপ হল কিভাবে?\" অর্থ উপদেষ্টা বলেন, ওই মন্তব্য তার (আকবর আলি খান) নিজের ব্যক্তিগত মতামত। অপর এক প্রশ্নের জবাবে তিনি বলেন, আগামী বছরের বাজেট প্রণয়নের ক্ষেত্রে দেশে সা \n",
            "Cleaned:\n",
            " চট্টগ্রাম মার্চ ১৫ বিডিনিউজ টোয়েন্টিফোর ডটকম দেশের অর্থনীতি স্থিতিশীল রয়েছে দাবি অর্থ উপদেষ্টা এবি মির্জ্জা আজিজুল ইসলাম মধ্যবর্তী সূচকগুলোর অগ্রগতি ঋণ প্রবাহ আমদানি রপ্তানি হার আয় মজুরি শ্রম সরবরাহ বৃদ্ধির পরিসংখ্যানগুলো বিবেচনা এনে যায় দেশে অর্থনৈতিক স্থিতিশীলতা বিরাজ শনিবার চট্টগ্রাম সার্কিট হাউজে প্রাক বাজেট আলোচনা সভা শেষে সাংবাদিকরা সাবেক উপদেষ্টা রেগুলেটরি রিফর্মস কমিশনের চেয়ারম্যান আকবর আলি খানের মন্তব্য সম্পর্কে দৃষ্টি আকর্ষণ অর্থ উপদেষ্টা কথা দেশে নিরব দুর্ভিক্ষ চলছে শুক্রবার জাতীয় প্রেসক্লাবে এক গোলটেবিল বৈঠকে আকবর আলি খানের মন্ত্যবের দ্বিমত প্রকাশ অঞ্চলের পরিচালিত সংস্থার জরিপ উল্লেখ দেশে মজুরি বৃদ্ধি পেয়েছে ১৭ দশমিক ৫ শতাংশ পরিমাণ মুদ্রাস্ফীতি ঘটেনি অবস্থা এতটা খারাপ কিভাবে অর্থ উপদেষ্টা মন্তব্য আকবর আলি খান ব্যক্তিগত মতামত অপর এক প্রশ্নের জবাবে বছরের বাজেট প্রণয়নের দেশে সা \n",
            " Category:--  business \n",
            "\n",
            "Original:\n",
            " ৪৮ বছর ধরে বাংলাদেশের ঘরে ঘরে সমাদৃত মিল্ক ভিটা। মানুষের পুষ্টি রক্ষায়, খাদ্যনিরাপত্তায় ও দারিদ্র্য বিমোচনে মিল্ক ভিটার অবদান অনন্য। একদিকে রোগীর পথ্য ও শিশুখাদ্য সরবরাহের নিশ্চয়তা, অন্যদিকে দরিদ্র ও প্রান্তিক কৃষকের জীবিকার ব্যবস্থা—এ মহতী কাজে নিয়োজিত মিল্ক ভিটা। দেশে সমবায় বিপ্লবের মাধ্যমে প্রান্তিক চাষিদের আর্থসামাজিক অবস্থার উন্নয়নের লক্ষ্যেই মিল্ক ভিটার সৃষ্টি হয়েছিল। মিল্ক ভিটা একক কোনো ব্যবসায়ী-উদ্যোক্তার প্রতিষ্ঠান নয়। এটি জাতীয় সমবায় প্রতিষ্ঠান, যার সঙ্গে প্রত্যক্ষ ও পরোক্ষভাবে সম্পৃক্ত ১৩ লক্ষাধিক সমবায়ী ও তাঁদের পরিবার। তাঁরাই মিল্ক ভিটার প্রাণ। তাঁদের পরম স্নেহে লালিত-পালিত হচ্ছে হাজার হাজার উন্নত জাতের গাভি। এসব গাভির দুই থেকে আড়াই লাখ লিটার দুধ দীর্ঘ গ্রামীণ রাস্তা বা নদীপথ পাড়ি দিয়ে ট্রাক্টর, নৌকা, ট্রলার বা ট্রলিযোগে মিল্ক ভিটার কাছে পৌঁছে দেন সমবায়ীরা। অতঃপর এ দুধ মিল্ক ভিটার শীতাতপনিয়ন্ত্রিত ট্যাংকারে দুই-চার শ কিলোমিটার সড়ক-মহাসড়ক অতিক্রম করে আসছে ঢাকায়। বাংলাদেশে পাস্তুরিত দুধ উৎপাদনের সূচনা মিল্ক ভিটার হাতেই। মিল্ক ভিটার ভোক্তা শিশু, শিক্ষার্থী, বৃদ্ধ, রোগী, চিকিৎসকসহ সব শ্রেণী-পেশার মানুষ। প্রতিদিন দুই হাজার প্রাথমিক সমবায় সমিতির এক লাখ খামারি গড়ে কমবেশি দুই থেকে আড়াই লাখ লিটার দুধ মিল্ক ভিটায় সরবরাহ করেন। এ দুধ প্রক্রিয়াজাত হয়ে প্যাকেটজাত তরল দুধ, ঘি, মাখন, দই, আইসক্রিম হিসেবে ঢাকাসহ বিভিন্ন শহরে ভোক্তাদের কাছে যায়। সেনাবাহিনীসহ বিভিন্ন জাতীয় ও আন্তর্জাতিক প্রতিষ্ঠান মিল্ক ভিটার নিয়মিত গ্রাহক। গরুর দুধ উচ্চ পুষ্টিমানসম্পন্ন খাদ্য, যা শিশু, রোগী, বৃদ্ধসহ সাধারণ মানুষের জীবনধারণের অপরিহার্য উপাদান। বিশেষ করে শিশুদের স্বাস্থ্যরক্ষা ও শিক্ষার্থীদের মেধা গঠনে এবং প্রাপ্তবয়স্কদের ক্যালসিয়ামের অভাব পূরণে দুধ আবশ্যকীয়। ফরমালিন ও ভেজালের আতঙ্কে মানুষ যেখানে ফলমূল খাওয়া বন্ধ বা কমিয়ে দিয়েছে, সেখানে বিশুদ্ধ দুধই একমাত্র অবলম্বন। দুধেই রয়েছে শিশুদের দৈহিক ও মানসিক বিকাশ, প্রাপ্তবয়স্কদের শরীরের ক্ষয়পূরণ এবং রোগ প্রতিরোধের ক্ষমতা। বিশুদ্ধ দুধ সরবরাহের প্রতিষ্ঠান হিসেবে মিল্ক ভিটার ওপর সবার আছে ব্যাপক আস্থা। শুধু দুধ উৎপাদন নয়, পাশাপাশি মিল্ক ভিটা ঋণের মাধ্যমে গাভি সরবরাহ, বিনা মূল্যে চিকিৎসাসেবা, প্রতিষেধক ও ওষুধ সরবরাহ এবং কৃত্রিম প্রজননের মাধ্যমে দেশে শ্বেত বিপ্লব ঘটাচ্ছে। জনগণের প্রাণপ্রিয় প্রতিষ্ঠান মিল্ক ভিটা সাম্প্রতিক অবরোধ ও হরতালে এখন স্থবির। শিশু, শিক্ষার্থী এবং রোগীদের কাছে পৌঁছানো যাচ্ছে না দুধ। রোগীদের দুর্ভোগ, শিশুদের কান্না এবং শিক্ষার্থীদের বেদনা কি সংশ্লিষ্ট অবরোধকারীদের বিবেককে নাড়া দিচ্ছে না? অথচ দুধের নিরবচ্ছিন্ন সরবরাহ পাওয়া মৌলিক মানবিক অধিকার। অবরোধের কারণে খামারিরা দুধ সরবরাহ করতে না পেরে অবলীলায় নদী-নালা, খালে-বিলে দুধ ফেলে দিচ্ছেন। শুধু চট্টগ্রামের পটিয়ায় দৈনিক চার-পাঁচ হাজার লিটার দুধ ফেলে দিচ্ছেন খামারিরা। সড়কপথে নিরাপত্তাঝুঁকির কারণে মিল্ক ভিটার দুধ সংগ্রহ ও বিতরণ নেটওয়ার্ক সম্পূর্ণ ভেঙে পড়েছে। অবরোধে শুধু খামারিদের ক্ষতি নয়, দুধ পরিবহনে নিয়োজিত শ্রমিকদের মজুরি, দুধ বিক্রির সঙ্গে জড়িত পরিবেশক এবং তাঁদের কর্মচারীদের বেতন-ভাতাও বন্ধ। এভাবে মিল্ক ভিটার সঙ্গে সম্পৃক্ত বিভিন্ন পর্যায়ের সুবিধাভোগী ব্যক্তি ও শ্রেণীর জীবিকার পথ বন্ধ হয়ে আছে। এমনকি গোখাদ্য সরবরাহ বন্ধ থাকায় গবাদিপশুর খাদ্যসংকট দেখা দিয়েছে। গোখাদ্যের সংকটে পড়ে খামারিরা অসহায় এবং তাঁদের পালিত অবলা পশুরাও এখন নিরুপায়। এখন সারা দেশে পরীক্ষার মৌসুম। এ সময় শিক্ষার্থীদের দুধ পানের প্রবণতা বাড়ে। কিন্তু দুধ না খেয়ে শিক্ষার্থীরা ছুটছে পরীক্ষার হলে। এ পুষ্টিহীনতা অনিবার্যভাবে বয়ে আনবে মেধাহীনতা। হরতাল-অবরোধে বিভিন্ন পর্যায়ে ক্ষতি বিশ্লেষণ করে দেখা গেছে, দৈনিক মিল্ক ভিটার আর্থিক ক্ষতি ৫০ লাখ টাকা, সমবায়ী কৃষকদের ক্ষতি ৩০ লাখ টাকা, সমিতির কর্মচারীদের বেতন-ভাতা বন্ধজনিত ক্ষতি চার লাখ টাকা, দুধ পরিবহনকারী শ্রমিকদের মজুরি বন্ধজনিত ক্ষতি ৪.৫ লাখ টাকা, পরিবেশকদের আর্থিক ক্ষতি ৪.২৬ লাখ টাকা, খুচরা বিক্রেতাদের আর্থিক ক্ষতি ১০.৭০ লাখ টাকা, ভ্যানচালক-শ্রমিকদের মজুরি বন্ধজনিত ক্ষতি ২.৫ লাখ টাকা। এভাবে প্রতিদিন সম্মিলিত আর্থিক ক্ষতি দাঁড়ায় এক কোটি পাঁচ লাখ টাকা। তরল দুধের এ সংকটে অপরিহার্যভাবে গুঁড়া দুধের আমদানি ও ব্যবহার বেড়ে যাবে। গুঁড়া দুধে ভেজাল, তেজস্ক্রিয়তা ও মেলামিনের ঝুঁকি থাকে। দেশের জনসংখ্যার মাথাপিছু দৈনিক দুধের প্রাপ্তি মাত্র ৬০-৭০ মিলিলিটার অথচ ন্যূনতম চাহিদা ২৫০ মিলিলিটার। অব্যাহত অবরোধে ক্ষতিগ্রস্ত সমবায়ীরা গাভি পালন এবং দুধ উৎপাদন থেকে সরে দাঁড়ালে হারিয়ে যাবে সম্ভাবনাময় এ শিল্প। অথচ কৃষিজমি সাশ্রয় এবং পরিবেশ রক্ষার জন্য দুগ্ধ শিল্প বিকাশের বিকল্প নেই, যা পরিবেশবান্ধব শিল্প। যেখানে ইটভাটার লেলিহান শিখায় গ্রামগঞ্জে পরিবেশ বিপন্ন, সেখানে একমাত্র দুগ্ধ শিল্পের মাধ্যমে জাতির স্বাস্থ্যরক্ষা এবং দূষণমুক্ত পরিবেশের নিশ্চয়তা সম্ভব। ১৯৯০ সাল থেকে মিল্ক ভিটা এযাবৎ ১০০ কোটি ৪২ লাখ লিটার কাঁচা তরল দুধ সমবায়ীদের কাছ থেকে সংগ্রহ করে মূল্য বাবদ তাঁদের হাতে তুলে দিয়েছে দুই হাজার ২৫২ কোটি ৪২ লাখ টাকা। একই সঙ্গে সম্পূরক দুগ্ধ মূল্য (প্রণোদনা) দিয়েছে ৭৪ কোটি ৫২ লাখ টাকা। মিল্ক ভিটার সামনে অনেক স্বপ্ন, অনেক প্রত্যাশা। কিন্তু আছে পর্বতপ্রমাণ প্রতিকূলতা। সে প্রতিকূলতা ডিঙিয়ে কোমলমতি শিশু, কিশোর, শিক্ষার্থী ও রোগীদের জীবন, মেধা ও স্বাস্থ্যরক্ষার স্বার্থে সংশ্লিষ্ট সবাইকে মানবিকতার চেতনা নিয়ে এগিয়ে আসার বিনীত অনুরোধ জানাচ্ছি এ ক্রান্তিলগ্নে। মোহাম্মাদ মুনীর চৌধুরী: ব্যবস্থাপনা পরিচালক, মিল্ক ভিটা।  \n",
            "Cleaned:\n",
            " ৪৮ বছর বাংলাদেশের ঘরে ঘরে সমাদৃত মিল্ক ভিটা মানুষের পুষ্টি রক্ষায় খাদ্যনিরাপত্তায় দারিদ্র্য বিমোচনে মিল্ক ভিটার অবদান অনন্য একদিকে রোগীর পথ্য শিশুখাদ্য সরবরাহের নিশ্চয়তা অন্যদিকে দরিদ্র প্রান্তিক কৃষকের জীবিকার ব্যবস্থা মহতী নিয়োজিত মিল্ক ভিটা দেশে সমবায় বিপ্লবের প্রান্তিক চাষিদের আর্থসামাজিক অবস্থার উন্নয়নের লক্ষ্যেই মিল্ক ভিটার সৃষ্টি মিল্ক ভিটা একক ব্যবসায়ী উদ্যোক্তার প্রতিষ্ঠান জাতীয় সমবায় প্রতিষ্ঠান প্রত্যক্ষ পরোক্ষভাবে সম্পৃক্ত ১৩ লক্ষাধিক সমবায়ী পরিবার তাঁরাই মিল্ক ভিটার প্রাণ পরম স্নেহে লালিত পালিত উন্নত জাতের গাভি এসব গাভির আড়াই লাখ লিটার দুধ দীর্ঘ গ্রামীণ রাস্তা নদীপথ পাড়ি ট্রাক্টর নৌকা ট্রলার ট্রলিযোগে মিল্ক ভিটার পৌঁছে সমবায়ীরা অতঃপর দুধ মিল্ক ভিটার শীতাতপনিয়ন্ত্রিত ট্যাংকারে শ কিলোমিটার সড়ক মহাসড়ক অতিক্রম আসছে ঢাকায় বাংলাদেশে পাস্তুরিত দুধ উৎপাদনের সূচনা মিল্ক ভিটার হাতেই মিল্ক ভিটার ভোক্তা শিশু শিক্ষার্থী বৃদ্ধ রোগী চিকিৎসকসহ শ্রেণী পেশার মানুষ প্রতিদিন সমবায় সমিতির এক লাখ খামারি গড়ে কমবেশি আড়াই লাখ লিটার দুধ মিল্ক ভিটায় সরবরাহ দুধ প্রক্রিয়াজাত প্যাকেটজাত তরল দুধ ঘি মাখন দই আইসক্রিম হিসেবে ঢাকাসহ শহরে ভোক্তাদের সেনাবাহিনীসহ জাতীয় আন্তর্জাতিক প্রতিষ্ঠান মিল্ক ভিটার নিয়মিত গ্রাহক গরুর দুধ উচ্চ পুষ্টিমানসম্পন্ন খাদ্য শিশু রোগী বৃদ্ধসহ মানুষের জীবনধারণের অপরিহার্য উপাদান শিশুদের স্বাস্থ্যরক্ষা শিক্ষার্থীদের মেধা গঠনে প্রাপ্তবয়স্কদের ক্যালসিয়ামের অভাব পূরণে দুধ আবশ্যকীয় ফরমালিন ভেজালের আতঙ্কে মানুষ ফলমূল খাওয়া বন্ধ কমিয়ে বিশুদ্ধ দুধই একমাত্র অবলম্বন দুধেই শিশুদের দৈহিক মানসিক বিকাশ প্রাপ্তবয়স্কদের শরীরের ক্ষয়পূরণ রোগ প্রতিরোধের ক্ষমতা বিশুদ্ধ দুধ সরবরাহের প্রতিষ্ঠান হিসেবে মিল্ক ভিটার ওপর ব্যাপক আস্থা দুধ উৎপাদন পাশাপাশি মিল্ক ভিটা ঋণের গাভি সরবরাহ মূল্যে চিকিৎসাসেবা প্রতিষেধক ওষুধ সরবরাহ কৃত্রিম প্রজননের দেশে শ্বেত বিপ্লব ঘটাচ্ছে জনগণের প্রাণপ্রিয় প্রতিষ্ঠান মিল্ক ভিটা সাম্প্রতিক অবরোধ হরতালে স্থবির শিশু শিক্ষার্থী রোগীদের পৌঁছানো দুধ রোগীদের দুর্ভোগ শিশুদের কান্না শিক্ষার্থীদের বেদনা সংশ্লিষ্ট অবরোধকারীদের বিবেককে নাড়া দিচ্ছে দুধের নিরবচ্ছিন্ন সরবরাহ মৌলিক মানবিক অধিকার অবরোধের কারণে খামারিরা দুধ সরবরাহ পেরে অবলীলায় নদী নালা খালে বিলে দুধ ফেলে দিচ্ছেন চট্টগ্রামের পটিয়ায় দৈনিক পাঁচ লিটার দুধ ফেলে দিচ্ছেন খামারিরা সড়কপথে নিরাপত্তাঝুঁকির কারণে মিল্ক ভিটার দুধ সংগ্রহ বিতরণ নেটওয়ার্ক সম্পূর্ণ ভেঙে পড়েছে অবরোধে খামারিদের ক্ষতি দুধ পরিবহনে নিয়োজিত শ্রমিকদের মজুরি দুধ বিক্রির জড়িত পরিবেশক কর্মচারীদের বেতন ভাতাও বন্ধ এভাবে মিল্ক ভিটার সম্পৃক্ত পর্যায়ের সুবিধাভোগী ব্যক্তি শ্রেণীর জীবিকার পথ বন্ধ এমনকি গোখাদ্য সরবরাহ বন্ধ গবাদিপশুর খাদ্যসংকট গোখাদ্যের সংকটে পড়ে খামারিরা অসহায় পালিত অবলা পশুরাও নিরুপায় সারা দেশে পরীক্ষার মৌসুম সময় শিক্ষার্থীদের দুধ পানের প্রবণতা বাড়ে দুধ খেয়ে শিক্ষার্থীরা ছুটছে পরীক্ষার পুষ্টিহীনতা অনিবার্যভাবে বয়ে আনবে মেধাহীনতা হরতাল অবরোধে পর্যায়ে ক্ষতি বিশ্লেষণ দৈনিক মিল্ক ভিটার আর্থিক ক্ষতি ৫০ লাখ টাকা সমবায়ী কৃষকদের ক্ষতি ৩০ লাখ টাকা সমিতির কর্মচারীদের বেতন ভাতা বন্ধজনিত ক্ষতি লাখ টাকা দুধ পরিবহনকারী শ্রমিকদের মজুরি বন্ধজনিত ক্ষতি ৪ ৫ লাখ টাকা পরিবেশকদের আর্থিক ক্ষতি ৪ ২৬ লাখ টাকা খুচরা বিক্রেতাদের আর্থিক ক্ষতি ১০ ৭০ লাখ টাকা ভ্যানচালক শ্রমিকদের মজুরি বন্ধজনিত ক্ষতি ২ ৫ লাখ টাকা এভাবে প্রতিদিন সম্মিলিত আর্থিক ক্ষতি দাঁড়ায় এক পাঁচ লাখ টাকা তরল দুধের সংকটে অপরিহার্যভাবে গুঁড়া দুধের আমদানি বেড়ে গুঁড়া দুধে ভেজাল তেজস্ক্রিয়তা মেলামিনের ঝুঁকি দেশের জনসংখ্যার মাথাপিছু দৈনিক দুধের প্রাপ্তি ৬০ ৭০ মিলিলিটার ন্যূনতম চাহিদা ২৫০ মিলিলিটার অব্যাহত অবরোধে ক্ষতিগ্রস্ত সমবায়ীরা গাভি পালন দুধ উৎপাদন সরে দাঁড়ালে হারিয়ে সম্ভাবনাময় শিল্প কৃষিজমি সাশ্রয় পরিবেশ রক্ষার দুগ্ধ শিল্প বিকাশের বিকল্প পরিবেশবান্ধব শিল্প ইটভাটার লেলিহান শিখায় গ্রামগঞ্জে পরিবেশ বিপন্ন একমাত্র দুগ্ধ শিল্পের জাতির স্বাস্থ্যরক্ষা দূষণমুক্ত পরিবেশের নিশ্চয়তা সম্ভব ১৯৯০ সাল মিল্ক ভিটা এযাবৎ ১০০ ৪২ লাখ লিটার কাঁচা তরল দুধ সমবায়ীদের সংগ্রহ মূল্য বাবদ হাতে ২৫২ ৪২ লাখ টাকা সম্পূরক দুগ্ধ মূল্য প্রণোদনা ৭৪ ৫২ লাখ টাকা মিল্ক ভিটার স্বপ্ন প্রত্যাশা পর্বতপ্রমাণ প্রতিকূলতা প্রতিকূলতা ডিঙিয়ে কোমলমতি শিশু কিশোর শিক্ষার্থী রোগীদের জীবন মেধা স্বাস্থ্যরক্ষার স্বার্থে সংশ্লিষ্ট সবাইকে মানবিকতার চেতনা এগিয়ে আসার বিনীত অনুরোধ জানাচ্ছি ক্রান্তিলগ্নে মোহাম্মাদ মুনীর চৌধুরী ব্যবস্থাপনা পরিচালক মিল্ক ভিটা \n",
            " Category:--  business \n",
            "\n"
          ]
        }
      ]
    },
    {
      "cell_type": "code",
      "source": [
        "# Stopwords pickle \n",
        "stp = open(path+'bangla_stopwords.txt','r',encoding='utf-8').read().split()\n",
        "# open a file, where you ant to store the data\n",
        "file = open(path+'bangla_stopwords.pkl', 'wb')\n",
        "# dump information to that file\n",
        "pickle.dump(stp, file)"
      ],
      "metadata": {
        "id": "Ne5FexEpXDOj"
      },
      "execution_count": 83,
      "outputs": []
    },
    {
      "cell_type": "code",
      "source": [
        "stp = open(path+'bangla_stopwords.pkl','rb')\n",
        "stp = pickle.load(stp)\n",
        "len(stp)"
      ],
      "metadata": {
        "colab": {
          "base_uri": "https://localhost:8080/"
        },
        "id": "obkRCwOpXGsY",
        "outputId": "45a919bd-08ae-4ced-90eb-f95251fbca4b"
      },
      "execution_count": 86,
      "outputs": [
        {
          "output_type": "execute_result",
          "data": {
            "text/plain": [
              "398"
            ]
          },
          "metadata": {},
          "execution_count": 86
        }
      ]
    },
    {
      "cell_type": "code",
      "source": [
        "data['Length'] = data.cleaned.apply(lambda x:len(x.split()))\n",
        "\n",
        "# Remove the Documents with least words\n",
        "dataset = data.loc[data.Length>20]\n",
        "dataset = dataset.reset_index(drop = True)\n",
        "print(\"After Cleaning:\",\"\\nRemoved {} Small Documents\".format(len(data)-len(dataset)),\n",
        "      \"\\nTotal Remaining Documents:\",len(dataset))"
      ],
      "metadata": {
        "colab": {
          "base_uri": "https://localhost:8080/"
        },
        "id": "Ej19o-T6Xjx8",
        "outputId": "44d08669-f991-4f21-a6df-ccb1fd13c0c4"
      },
      "execution_count": 87,
      "outputs": [
        {
          "output_type": "stream",
          "name": "stdout",
          "text": [
            "After Cleaning: \n",
            "Removed 0 Small Documents \n",
            "Total Remaining Documents: 18\n"
          ]
        }
      ]
    },
    {
      "cell_type": "code",
      "source": [
        "dataset.to_csv(dataset_path+'cleaned_news.csv')"
      ],
      "metadata": {
        "id": "N9zX6GB3X9_Z"
      },
      "execution_count": 88,
      "outputs": []
    },
    {
      "cell_type": "code",
      "source": [
        "dataset = pd.read_csv(dataset_path+'cleaned_news.csv')\n",
        "dataset.columns"
      ],
      "metadata": {
        "colab": {
          "base_uri": "https://localhost:8080/"
        },
        "id": "OexLdUOSYBtS",
        "outputId": "cc666efa-66cb-418c-b8eb-6c9c1bb8ef17"
      },
      "execution_count": 89,
      "outputs": [
        {
          "output_type": "execute_result",
          "data": {
            "text/plain": [
              "Index(['Unnamed: 0', 'Text', 'Category', 'cleaned', 'Length'], dtype='object')"
            ]
          },
          "metadata": {},
          "execution_count": 89
        }
      ]
    },
    {
      "cell_type": "code",
      "source": [
        "import matplotlib\n",
        "matplotlib.rc_file_defaults()\n",
        "frequency = dict()\n",
        "for i in dataset.Length:\n",
        "    frequency[i] = frequency.get(i, 0)+1\n",
        "\n",
        "plt.figure(figsize = (6,4))\n",
        "plt.bar(frequency.keys(), frequency.values(), color=(0.2, 0.4, 0.6, 0.6))\n",
        "plt.xlim(21, 700)\n",
        "# in this notbook color is not working but it should work.\n",
        "plt.xlabel('Length of the Documents')\n",
        "plt.ylabel('Frequency')\n",
        "plt.title('Length-Frequency Distribution')\n",
        "#plt.savefig(path+'len_dist.png',dpi = 1000,bbox_inches ='tight')\n",
        "plt.show()  \n",
        "print(f\"Maximum Length of a Document: {max(dataset.Length)}\")\n",
        "print(f\"Minimum Length of a Document: {min(dataset.Length)}\")\n",
        "print(f\"Average Length of a Document: {round(np.mean(dataset.Length),0)}\")"
      ],
      "metadata": {
        "colab": {
          "base_uri": "https://localhost:8080/",
          "height": 462
        },
        "id": "w7JzJZmKYGw9",
        "outputId": "388968d3-e2c9-44e9-c303-e82c892994b6"
      },
      "execution_count": 90,
      "outputs": [
        {
          "output_type": "display_data",
          "data": {
            "text/plain": [
              "<Figure size 600x400 with 1 Axes>"
            ],
            "image/png": "[encoded data removed]"
          },
          "metadata": {}
        },
        {
          "output_type": "stream",
          "name": "stdout",
          "text": [
            "Maximum Length of a Document: 737\n",
            "Minimum Length of a Document: 84\n",
            "Average Length of a Document: 322.0\n"
          ]
        }
      ]
    },
    {
      "cell_type": "code",
      "source": [
        "def data_summary(dataset):\n",
        "  '''\n",
        "  This function will print the summary of the dataset\n",
        "\n",
        "  Args:\n",
        "  dataset: cleaned texts\n",
        "\n",
        "  returns:\n",
        "  documents: Number of document per class\n",
        "  words: Number of words per class\n",
        "  u_words: Number of unique words per class\n",
        "  class_label: name of the categories\n",
        "  '''\n",
        "  documents = []\n",
        "  words = []\n",
        "  u_words = []\n",
        "  #total_u_word = [word.strip().lower() for t in list(dataset.cleaned) for word in t.strip().split()]\n",
        "  # find class names\n",
        "  class_label = [k for k,v in dataset.Category.value_counts().to_dict().items()]\n",
        "  for label in class_label: \n",
        "    word_list = [word.strip().lower() for t in list(dataset[dataset.Category==label].cleaned) for word in t.strip().split()]\n",
        "    counts = dict()\n",
        "    for word in word_list:\n",
        "      counts[word] = counts.get(word, 0)+1\n",
        "    # sort the dictionary of word list  \n",
        "    ordered = sorted(counts.items(), key= lambda item: item[1],reverse = True)\n",
        "    # Documents per class\n",
        "    documents.append(len(list(dataset[dataset.Category==label].cleaned)))\n",
        "    # Total Word per class\n",
        "    words.append(len(word_list))\n",
        "    # Unique words per class \n",
        "    u_words.append(len(np.unique(word_list)))\n",
        "       \n",
        "    print(\"\\nClass Name : \",label)\n",
        "    print(\"Number of Documents:{}\".format(len(list(dataset[dataset.Category==label].cleaned))))  \n",
        "    print(\"Number of Words:{}\".format(len(word_list))) \n",
        "    print(\"Number of Unique Words:{}\".format(len(np.unique(word_list)))) \n",
        "    print(\"Most Frequent Words:\\n\")\n",
        "    for k,v in ordered[:10]:\n",
        "      print(\"{}\\t{}\".format(k,v))\n",
        "  return documents,words,u_words,class_label\n",
        "\n",
        "# pass the whole dataset into the function\n",
        "\n",
        "documents,words,u_words,class_names = data_summary(dataset)"
      ],
      "metadata": {
        "colab": {
          "base_uri": "https://localhost:8080/"
        },
        "id": "7s_YTFuNYKxC",
        "outputId": "9e91c220-eb7b-4233-be68-045b6c94794e"
      },
      "execution_count": 91,
      "outputs": [
        {
          "output_type": "stream",
          "name": "stdout",
          "text": [
            "\n",
            "Class Name :  politics\n",
            "Number of Documents:8\n",
            "Number of Words:2092\n",
            "Number of Unique Words:1354\n",
            "Most Frequent Words:\n",
            "\n",
            "নির্বাচন\t23\n",
            "দল\t12\n",
            "বাংলাদেশের\t10\n",
            "এসব\t10\n",
            "আওয়ামী\t10\n",
            "রাজনৈতিক\t10\n",
            "একজন\t9\n",
            "কথা\t9\n",
            "বিএনপির\t9\n",
            "এক\t8\n",
            "\n",
            "Class Name :  business\n",
            "Number of Documents:2\n",
            "Number of Words:679\n",
            "Number of Unique Words:463\n",
            "Most Frequent Words:\n",
            "\n",
            "দুধ\t22\n",
            "মিল্ক\t21\n",
            "লাখ\t14\n",
            "ভিটার\t13\n",
            "ক্ষতি\t10\n",
            "টাকা\t10\n",
            "সরবরাহ\t7\n",
            "দেশে\t7\n",
            "ভিটা\t7\n",
            "মজুরি\t5\n",
            "\n",
            "Class Name :  international\n",
            "Number of Documents:2\n",
            "Number of Words:339\n",
            "Number of Unique Words:254\n",
            "Most Frequent Words:\n",
            "\n",
            "সংখ্যা\t7\n",
            "হিমবাহের\t6\n",
            "গলে\t5\n",
            "বরফ\t5\n",
            "হয়েছে\t5\n",
            "ভূমিকম্পে\t5\n",
            "পানি\t4\n",
            "তথ্য\t4\n",
            "শিমিট\t4\n",
            "মৃতের\t4\n",
            "\n",
            "Class Name :  politics \n",
            "Number of Documents:1\n",
            "Number of Words:478\n",
            "Number of Unique Words:313\n",
            "Most Frequent Words:\n",
            "\n",
            "ভবন\t15\n",
            "হয়েছে\t10\n",
            "কারখানা\t10\n",
            "রানা\t9\n",
            "মালিক\t9\n",
            "ভবনে\t7\n",
            "ধসের\t6\n",
            "পোশাক\t5\n",
            "প্রতিবেদনে\t4\n",
            "তলা\t4\n",
            "\n",
            "Class Name :  sports\n",
            "Number of Documents:1\n",
            "Number of Words:293\n",
            "Number of Unique Words:202\n",
            "Most Frequent Words:\n",
            "\n",
            "বরিশাল\t6\n",
            "সংবাদ\t5\n",
            "গভর্নিং\t5\n",
            "বিপিএল\t4\n",
            "ম্যাচ\t4\n",
            "সোমবার\t4\n",
            "সিদ্ধান্ত\t4\n",
            "আলমগীর\t4\n",
            "সভাপতি\t4\n",
            "চট্টগ্রাম\t4\n",
            "\n",
            "Class Name :  tech\n",
            "Number of Documents:1\n",
            "Number of Words:486\n",
            "Number of Unique Words:361\n",
            "Most Frequent Words:\n",
            "\n",
            "ফেইসবুকের\t16\n",
            "ফেইসবুক\t11\n",
            "জাকারবার্গের\t8\n",
            "ফেইসবুকে\t6\n",
            "সময়\t5\n",
            "নীল\t5\n",
            "এক\t4\n",
            "জাকারবার্গ\t4\n",
            "রং\t4\n",
            "স্যুট\t4\n",
            "\n",
            "Class Name :  religion\n",
            "Number of Documents:1\n",
            "Number of Words:510\n",
            "Number of Unique Words:315\n",
            "Most Frequent Words:\n",
            "\n",
            "সেহরি\t37\n",
            "রোজা\t10\n",
            "শেষ\t9\n",
            "খাওয়ার\t9\n",
            "সা\t9\n",
            "খাওয়া\t8\n",
            "রাতে\t7\n",
            "সময়\t7\n",
            "খেয়ে\t6\n",
            "সুবহে\t5\n",
            "\n",
            "Class Name :  literature\n",
            "Number of Documents:1\n",
            "Number of Words:737\n",
            "Number of Unique Words:499\n",
            "Most Frequent Words:\n",
            "\n",
            "বাংলা\t11\n",
            "মেলার\t9\n",
            "পুড়ে\t8\n",
            "বিক্রি\t8\n",
            "বই\t7\n",
            "আগুনে\t7\n",
            "প্রকাশক\t6\n",
            "অগ্নিকাণ্ডের\t6\n",
            "একাডেমী\t6\n",
            "কমিটি\t6\n",
            "\n",
            "Class Name :  entertainment\n",
            "Number of Documents:1\n",
            "Number of Words:180\n",
            "Number of Unique Words:133\n",
            "Most Frequent Words:\n",
            "\n",
            "সোনার\t6\n",
            "বাংলা\t6\n",
            "গান\t6\n",
            "সার্কাস\t5\n",
            "গাইবে\t4\n",
            "কলকাতার\t4\n",
            "কনসার্ট\t3\n",
            "ব্যান্ডের\t3\n",
            "স্টেজ\t2\n",
            "শো\t2\n"
          ]
        }
      ]
    },
    {
      "cell_type": "code",
      "source": [
        "data_matrix = pd.DataFrame({'Total Documents':documents,\n",
        "                            'Total Words':words,\n",
        "                            'Unique Words':u_words,\n",
        "                            'Class Names':class_names})\n",
        "data_matrix"
      ],
      "metadata": {
        "colab": {
          "base_uri": "https://localhost:8080/",
          "height": 332
        },
        "id": "WdZ4a8OxYPbo",
        "outputId": "6f4a3c70-1a5d-4ad0-e5ef-2a3852a5b4c3"
      },
      "execution_count": 92,
      "outputs": [
        {
          "output_type": "execute_result",
          "data": {
            "text/plain": [
              "   Total Documents  Total Words  Unique Words    Class Names\n",
              "0                8         2092          1354       politics\n",
              "1                2          679           463       business\n",
              "2                2          339           254  international\n",
              "3                1          478           313      politics \n",
              "4                1          293           202         sports\n",
              "5                1          486           361           tech\n",
              "6                1          510           315       religion\n",
              "7                1          737           499     literature\n",
              "8                1          180           133  entertainment"
            ],
            "text/html": [
              "\n",
              "  <div id=\"df-eae0cd4b-3bdb-4d85-840a-8df6c04faac6\">\n",
              "    <div class=\"colab-df-container\">\n",
              "      <div>\n",
              "<style scoped>\n",
              "    .dataframe tbody tr th:only-of-type {\n",
              "        vertical-align: middle;\n",
              "    }\n",
              "\n",
              "    .dataframe tbody tr th {\n",
              "        vertical-align: top;\n",
              "    }\n",
              "\n",
              "    .dataframe thead th {\n",
              "        text-align: right;\n",
              "    }\n",
              "</style>\n",
              "<table border=\"1\" class=\"dataframe\">\n",
              "  <thead>\n",
              "    <tr style=\"text-align: right;\">\n",
              "      <th></th>\n",
              "      <th>Total Documents</th>\n",
              "      <th>Total Words</th>\n",
              "      <th>Unique Words</th>\n",
              "      <th>Class Names</th>\n",
              "    </tr>\n",
              "  </thead>\n",
              "  <tbody>\n",
              "    <tr>\n",
              "      <th>0</th>\n",
              "      <td>8</td>\n",
              "      <td>2092</td>\n",
              "      <td>1354</td>\n",
              "      <td>politics</td>\n",
              "    </tr>\n",
              "    <tr>\n",
              "      <th>1</th>\n",
              "      <td>2</td>\n",
              "      <td>679</td>\n",
              "      <td>463</td>\n",
              "      <td>business</td>\n",
              "    </tr>\n",
              "    <tr>\n",
              "      <th>2</th>\n",
              "      <td>2</td>\n",
              "      <td>339</td>\n",
              "      <td>254</td>\n",
              "      <td>international</td>\n",
              "    </tr>\n",
              "    <tr>\n",
              "      <th>3</th>\n",
              "      <td>1</td>\n",
              "      <td>478</td>\n",
              "      <td>313</td>\n",
              "      <td>politics</td>\n",
              "    </tr>\n",
              "    <tr>\n",
              "      <th>4</th>\n",
              "      <td>1</td>\n",
              "      <td>293</td>\n",
              "      <td>202</td>\n",
              "      <td>sports</td>\n",
              "    </tr>\n",
              "    <tr>\n",
              "      <th>5</th>\n",
              "      <td>1</td>\n",
              "      <td>486</td>\n",
              "      <td>361</td>\n",
              "      <td>tech</td>\n",
              "    </tr>\n",
              "    <tr>\n",
              "      <th>6</th>\n",
              "      <td>1</td>\n",
              "      <td>510</td>\n",
              "      <td>315</td>\n",
              "      <td>religion</td>\n",
              "    </tr>\n",
              "    <tr>\n",
              "      <th>7</th>\n",
              "      <td>1</td>\n",
              "      <td>737</td>\n",
              "      <td>499</td>\n",
              "      <td>literature</td>\n",
              "    </tr>\n",
              "    <tr>\n",
              "      <th>8</th>\n",
              "      <td>1</td>\n",
              "      <td>180</td>\n",
              "      <td>133</td>\n",
              "      <td>entertainment</td>\n",
              "    </tr>\n",
              "  </tbody>\n",
              "</table>\n",
              "</div>\n",
              "      <button class=\"colab-df-convert\" onclick=\"convertToInteractive('df-eae0cd4b-3bdb-4d85-840a-8df6c04faac6')\"\n",
              "              title=\"Convert this dataframe to an interactive table.\"\n",
              "              style=\"display:none;\">\n",
              "        \n",
              "  <svg xmlns=\"http://www.w3.org/2000/svg\" height=\"24px\"viewBox=\"0 0 24 24\"\n",
              "       width=\"24px\">\n",
              "    <path d=\"M0 0h24v24H0V0z\" fill=\"none\"/>\n",
              "    <path d=\"M18.56 5.44l.94 2.06.94-2.06 2.06-.94-2.06-.94-.94-2.06-.94 2.06-2.06.94zm-11 1L8.5 8.5l.94-2.06 2.06-.94-2.06-.94L8.5 2.5l-.94 2.06-2.06.94zm10 10l.94 2.06.94-2.06 2.06-.94-2.06-.94-.94-2.06-.94 2.06-2.06.94z\"/><path d=\"M17.41 7.96l-1.37-1.37c-.4-.4-.92-.59-1.43-.59-.52 0-1.04.2-1.43.59L10.3 9.45l-7.72 7.72c-.78.78-.78 2.05 0 2.83L4 21.41c.39.39.9.59 1.41.59.51 0 1.02-.2 1.41-.59l7.78-7.78 2.81-2.81c.8-.78.8-2.07 0-2.86zM5.41 20L4 18.59l7.72-7.72 1.47 1.35L5.41 20z\"/>\n",
              "  </svg>\n",
              "      </button>\n",
              "      \n",
              "  <style>\n",
              "    .colab-df-container {\n",
              "      display:flex;\n",
              "      flex-wrap:wrap;\n",
              "      gap: 12px;\n",
              "    }\n",
              "\n",
              "    .colab-df-convert {\n",
              "      background-color: #E8F0FE;\n",
              "      border: none;\n",
              "      border-radius: 50%;\n",
              "      cursor: pointer;\n",
              "      display: none;\n",
              "      fill: #1967D2;\n",
              "      height: 32px;\n",
              "      padding: 0 0 0 0;\n",
              "      width: 32px;\n",
              "    }\n",
              "\n",
              "    .colab-df-convert:hover {\n",
              "      background-color: #E2EBFA;\n",
              "      box-shadow: 0px 1px 2px rgba(60, 64, 67, 0.3), 0px 1px 3px 1px rgba(60, 64, 67, 0.15);\n",
              "      fill: #174EA6;\n",
              "    }\n",
              "\n",
              "    [theme=dark] .colab-df-convert {\n",
              "      background-color: #3B4455;\n",
              "      fill: #D2E3FC;\n",
              "    }\n",
              "\n",
              "    [theme=dark] .colab-df-convert:hover {\n",
              "      background-color: #434B5C;\n",
              "      box-shadow: 0px 1px 3px 1px rgba(0, 0, 0, 0.15);\n",
              "      filter: drop-shadow(0px 1px 2px rgba(0, 0, 0, 0.3));\n",
              "      fill: #FFFFFF;\n",
              "    }\n",
              "  </style>\n",
              "\n",
              "      <script>\n",
              "        const buttonEl =\n",
              "          document.querySelector('#df-eae0cd4b-3bdb-4d85-840a-8df6c04faac6 button.colab-df-convert');\n",
              "        buttonEl.style.display =\n",
              "          google.colab.kernel.accessAllowed ? 'block' : 'none';\n",
              "\n",
              "        async function convertToInteractive(key) {\n",
              "          const element = document.querySelector('#df-eae0cd4b-3bdb-4d85-840a-8df6c04faac6');\n",
              "          const dataTable =\n",
              "            await google.colab.kernel.invokeFunction('convertToInteractive',\n",
              "                                                     [key], {});\n",
              "          if (!dataTable) return;\n",
              "\n",
              "          const docLinkHtml = 'Like what you see? Visit the ' +\n",
              "            '<a target=\"_blank\" href=https://colab.research.google.com/notebooks/data_table.ipynb>data table notebook</a>'\n",
              "            + ' to learn more about interactive tables.';\n",
              "          element.innerHTML = '';\n",
              "          dataTable['output_type'] = 'display_data';\n",
              "          await google.colab.output.renderOutput(dataTable, element);\n",
              "          const docLink = document.createElement('div');\n",
              "          docLink.innerHTML = docLinkHtml;\n",
              "          element.appendChild(docLink);\n",
              "        }\n",
              "      </script>\n",
              "    </div>\n",
              "  </div>\n",
              "  "
            ]
          },
          "metadata": {},
          "execution_count": 92
        }
      ]
    },
    {
      "cell_type": "code",
      "source": [
        "sns.set()\n",
        "plt.figure(figsize =(10, 8))\n",
        "ax = plt.subplot()\n",
        "sns.heatmap(data_matrix.iloc[:,0:3], annot=True,fmt=\"d\", linewidths=0.5,linecolor = 'Black',cmap = \"YlGnBu\",ax = ax)\n",
        "# labels, title and ticks\n",
        "ax.set_ylabel('Class Names') \n",
        "ax.set_title('Data Statistics')\n",
        "y_label = [\"Total Documents\", \"Total Words\", \"Unique Words\"] \n",
        "ax.xaxis.set_ticklabels(y_label, rotation=45); ax.yaxis.set_ticklabels(class_names, rotation=45);\n",
        "ax.xaxis.tick_top()"
      ],
      "metadata": {
        "colab": {
          "base_uri": "https://localhost:8080/",
          "height": 799
        },
        "id": "1rURIrRpYSvj",
        "outputId": "2e0d6367-7db7-43b6-c880-8f4258a617c1"
      },
      "execution_count": 93,
      "outputs": [
        {
          "output_type": "display_data",
          "data": {
            "text/plain": [
              "<Figure size 1000x800 with 2 Axes>"
            ],
            "image/png": "[encoded data removed]"
          },
          "metadata": {}
        }
      ]
    },
    {
      "cell_type": "code",
      "source": [
        "def label_encoding(dataset,bool):\n",
        "  '''\n",
        "  This function will convert categorical class names into a numeric label\n",
        "\n",
        "  Args:\n",
        "  dataset: A dataset\n",
        "  bool : a boolean (True or False)\n",
        "\n",
        "  returns:\n",
        "  labels: encoded labels \n",
        "  '''\n",
        "  le = LabelEncoder()\n",
        "  le.fit(dataset.Category)\n",
        "  encoded_labels = le.transform(dataset.Category)\n",
        "  labels = np.array(encoded_labels) # Converting into numpy array\n",
        "  class_names =le.classes_ ## Define the class names again\n",
        "  if bool == True:\n",
        "    print(color.BOLD+\"\\n\\t\\t\\t===== Label Encoding =====\"+color.END,\"\\nClass Names:-->\",le.classes_)\n",
        "  return labels  \n",
        "\n",
        "                   #===========================================================\n",
        "                   ################# Dataset Splitting Function ###############\n",
        "                   #=========================================================== \n",
        "\n",
        "def dataset_split(news,category):\n",
        "  '''\n",
        "  This function will split the dataset into Train-Test-Validation set\n",
        "\n",
        "  Args:\n",
        "  news: encoded texts\n",
        "  category: class names\n",
        "\n",
        "  returns:\n",
        "  X_train: Encoded Training News  \n",
        "  X_valid: Encoded Validation News\n",
        "  X_test:  Encoded Test news\n",
        "  y_train: Encoded Training labels\n",
        "  y_valid: Encoded Validation labels\n",
        "  y_test:  Encoded Test labels\n",
        "  '''\n",
        "\n",
        "  X,X_test,y,y_test = train_test_split(news,category,train_size = 0.9,\n",
        "                                                  test_size = 0.1,random_state =0)\n",
        "  X_train,X_valid,y_train,y_valid = train_test_split(X,y,train_size = 0.8,\n",
        "                                                  test_size = 0.2,random_state =0)\n",
        "  print(color.BOLD+\"Feature Size :======>\"+color.END,X_train.shape[1])\n",
        "  print(color.BOLD+\"\\nDataset Distribution:\\n\"+color.END)\n",
        "  print(\"\\tSet Name\",\"\\t\\tSize\")\n",
        "  print(\"\\t========\\t\\t======\")\n",
        "\n",
        "  print(\"\\tFull\\t\\t\\t\",news.shape[0],\n",
        "        \"\\n\\tTraining\\t\\t\",X_train.shape[0],\n",
        "        \"\\n\\tTest\\t\\t\\t\",X_test.shape[0],\n",
        "        \"\\n\\tValidation\\t\\t\",X_valid.shape[0])\n",
        "  \n",
        "  return X_train,X_valid,X_test,y_train,y_valid,y_test"
      ],
      "metadata": {
        "id": "JsLAMAUVYXB6"
      },
      "execution_count": 94,
      "outputs": []
    },
    {
      "cell_type": "code",
      "source": [
        "def encoded_texts(dataset,padding_length,max_words):\n",
        "\n",
        "  '''\n",
        "  This function will encoded the text into a sequence of numbers\n",
        "\n",
        "  Args:\n",
        "  dataset: a dataset\n",
        "  padding_length: maximum length of a encoded texte\n",
        "  max_words : Number of words \n",
        "\n",
        "  returns:\n",
        "  corpus: Number of encoded texts\n",
        "  labels: encoded labels\n",
        "  '''\n",
        "  \n",
        "  tokenizer = Tokenizer(num_words = max_words, filters='!\"#$%&()*+,-./:;<=>?@[\\]^_`{|}~\\t\\n-', \n",
        "                      split=' ', char_level=False, oov_token='', document_count=0)\n",
        "  \n",
        " \n",
        "\n",
        " # Fit the tokenizer\n",
        "  tokenizer.fit_on_texts(dataset.cleaned)\n",
        "  #============================== Tokenizer Info =================================\n",
        "  (word_counts,word_docs,word_index,document_count) = (tokenizer.word_counts,\n",
        "                                                       tokenizer.word_docs,\n",
        "                                                       tokenizer.word_index,\n",
        "                                                       tokenizer.document_count)\n",
        "  def tokenizer_info(mylist,bool):\n",
        "    ordered = sorted(mylist.items(), key= lambda item: item[1],reverse = bool)\n",
        "    for w,c in ordered[:10]:\n",
        "      print(w,\"\\t\",c)\n",
        "  #=============================== Print all the information =========================\n",
        "  print(color.BOLD+\"\\t\\t\\t====== Tokenizer Info ======\"+color.END)   \n",
        "  print(\"Words --> Counts:\")\n",
        "  tokenizer_info(word_counts,bool =True )\n",
        "  print(\"\\nWords --> Documents:\")\n",
        "  tokenizer_info(word_docs,bool =True )\n",
        "  print(\"\\nWords --> Index:\")\n",
        "  tokenizer_info(word_index,bool =True )    \n",
        "  print(\"\\nTotal Documents -->\",document_count)\n",
        "\n",
        "  #=========================== Convert string into list of integer indices =================\n",
        "  sequences = tokenizer.texts_to_sequences(dataset.cleaned)\n",
        "  word_index = tokenizer.word_index\n",
        "  print(color.BOLD+\"\\n\\t\\t\\t====== Encoded Sequences ======\"+color.END,\"\\nFound {} unique tokens\".format(len(word_index)))  \n",
        "  print(dataset.cleaned[10],\"\\n\",sequences[10]) \n",
        "\n",
        "  #==================================== Pad Sequences ============================== \n",
        "  corpus = keras.preprocessing.sequence.pad_sequences(sequences, value=0.0,\n",
        "                                                      padding='post', maxlen= padding_length)\n",
        "  print(\"\\n\\t\\t\\t====== Paded Sequences ======\\n\",dataset.cleaned[10],\"\\n\",corpus[10])   \n",
        "\n",
        "  #=================================     Label Encoding ================================\n",
        "  labels = label_encoding(dataset,True)\n",
        "\n",
        "   # save the tokenizer into a pickle file\n",
        "  with open(path+'tokenizer.pickle', 'wb') as handle:\n",
        "    pickle.dump(tokenizer, handle, protocol=pickle.HIGHEST_PROTOCOL)\n",
        "\n",
        "  return corpus,labels\n",
        "  \n",
        "#call the function\n",
        "num_words = 5000\n",
        "corpus,labels = encoded_texts(dataset,\n",
        "                                300,num_words)\n",
        "print(\"\\nShape of Encoded Corpus =====>\",corpus.shape)"
      ],
      "metadata": {
        "colab": {
          "base_uri": "https://localhost:8080/"
        },
        "id": "6L3okPVRYYiO",
        "outputId": "b8ede228-e434-4058-9aaf-61be9c60b3e0"
      },
      "execution_count": 95,
      "outputs": [
        {
          "output_type": "stream",
          "name": "stdout",
          "text": [
            "\u001b[1m\t\t\t====== Tokenizer Info ======\u001b[0m\n",
            "Words --> Counts:\n",
            "সেহরি \t 37\n",
            "হয়েছে \t 28\n",
            "সময় \t 24\n",
            "নির্বাচন \t 23\n",
            "এক \t 22\n",
            "দুধ \t 22\n",
            "মিল্ক \t 21\n",
            "লাখ \t 18\n",
            "বাংলা \t 18\n",
            "দেশে \t 17\n",
            "\n",
            "Words --> Documents:\n",
            "কারণে \t 11\n",
            "এক \t 10\n",
            "সময় \t 10\n",
            "হয়েছে \t 9\n",
            "মতামত \t 8\n",
            "কথা \t 8\n",
            "যায় \t 7\n",
            "গত \t 7\n",
            "দেশের \t 7\n",
            "দেশে \t 7\n",
            "\n",
            "Words --> Index:\n",
            "ছাড়াতে \t 3212\n",
            "হয়েছেন \t 3211\n",
            "বেনলামিল \t 3210\n",
            "মোস্তাফা \t 3209\n",
            "সমন্বয়ক \t 3208\n",
            "আবাসিক \t 3207\n",
            "লাখের \t 3206\n",
            "অভাবে \t 3205\n",
            "জ্বালানির \t 3204\n",
            "সুপেয় \t 3203\n",
            "\n",
            "Total Documents --> 18\n",
            "\u001b[1m\n",
            "\t\t\t====== Encoded Sequences ======\u001b[0m \n",
            "Found 3212 unique tokens\n",
            "রোজা রাখার উদ্দেশ্যে শেষ রাতে উষা উদয়ের পানাহার সেহরি হিসেবে পরিচিত সেহরি উর্দু শব্দ মূল আরবি সুহুর শাব্দিক অর্থ নিদ্রাভঙ্গ ঘুম জেগে ওঠা রাত্রি জাগরণ রোজা পালনের সুবহে সাদিকের ভোররাতে খাওয়া উর্দুতে সাহরি আরবিতে সুহুর প্রচলিতভাবে সেহ্্রি দেশীয় উচ্চারণ রোজা পালনের সেহরি খাওয়া সুন্নত অধিক পুণ্যের ক্ষুধা থাকলেও রমজান মাসে শেষ রাতে খাবার খাওয়া সেহরি সামান্য একটু পানি পান করাকেও সেহরি হিসেবে গণ্য সেহরি খাওয়ার রাসুলুল্লাহ সা সুন্নতের ওপর আমল সেহরি খাওয়ার অফুরন্ত রহমত বরকত নিয়ামত কল্যাণ নবী করিম সা তোমরা সেহরি খাও সেহরি খাওয়ার বরকত নিহিত রয়েছে বুখারি মুসলিম সেহরি খাওয়ার রোজা রাখার শক্তি অর্জিত সেহরি খেলে রোজাদার সহজে দুর্বল মনোবলহীন হয়ে পড়েন সারা দীর্ঘ সময়ের উপবাস অনাহারে থাকলেও কর্মঠ থাকার প্রাণশক্তি আসে সিয়াম পালন সহ্যসীমার রমজান মাসে শেষ রাতে ক্ষুধা থাকলেও খুরমা খেজুর কোনো জিনিস খাবেন একটু পানি পান সুন্নত আদায় হয়ে পেট ভরে সেহরি খাওয়া জরুরি সামান্যই নবী করিম সা জোটে খেজুর এক গ্লাস পানি পান করো হাদিস শরিফে বর্ণিত তোমরা সেহরি খাও এক ঢোঁক পানিও অন্যত্র হয়েছে তোমরা সেহরি খাও এক লোকমা রমজান মাসে সেহরি যথাসম্ভব দেরি খাওয়া ভালো সুবহে সাদিকের রাতের শেষ ভাগে সেহরি খাওয়া মুস্তাহাব পছন্দনীয় রোজাদার ব্যক্তির সাধ্যাতীত কোনো কষ্ট রাসুলুল্লাহ সা সেহরিকে সুন্নত বিলম্বে সেহরি গ্রহণ করাকে মুস্তাহাব ঘোষণা সেহরি খাওয়ার আসল সময় সূর্যাস্ত সুবহে সাদিক কয় ঘণ্টা সময় ছয় ভাগের শেষ ষষ্ঠ ভাগ ভাত খান চা পান ষষ্ঠাংশে এতেও মুস্তাহাবের সওয়াব পাবেন শেষ রাতে ঘুম ভাঙে সেহরি খেতে সেহরি খেয়ে রোজা রাখবেন সেহরি খাওয়ার কারণে রোজা ছেড়ে বড়ই গুনাহর নিদ্রা কোনো কারণে সেহরি খেতে সেহরি খাওয়ায় রোজার কোনো ক্ষতি যতক্ষণ সুবহে সাদিক অর্থাৎ পূর্ব দিগন্তে সাদা বর্ণ যায় ততক্ষণ সেহরি খাওয়া দুরস্ত সুবহে সাদিক হয়ে খাওয়াদাওয়ার সুযোগ সেহরি খাওয়ার সময়সীমা সম্পর্কে পবিত্র কোরআনে ইরশাদ হয়েছে তোমরা পানাহার করো যতক্ষণ কালো রেখা ভোরের শুভ্র রেখা পরিষ্কার যায় অতঃপর রাত রোজা পূর্ণ করো সূরা আল বাকারা আয়াত ১৮৭ রাসুলুল্লাহ সা স্বয়ং সেহরি খেয়েছেন অন্যদের খাওয়ার তাগিদ দিয়েছেন সাহাবায়ে কিরামও সেহরি খেয়ে রোজা রাখতেন সম্পর্কে সাহাবি হজরত জায়িদ ইবনে সাবিত রা রাসুলে করিম সা খেয়েছি জিজ্ঞাসা হলো সেহরি নামাজের ফজরের পরিমাণ সময় উত্তরে ৫০ আয়াত তিলাওয়াতের সমান মোটকথা সেহরি দেরিতে খাওয়া উত্তম আগেভাগে খেয়ে সুন্নতের বরখেলাফ মহানবী সা সেহরি বরকতময় আল্লাহ তোমাদের দান তোমরা ত্যাগ করো সেহরির সময় আরামের ঘুম পরিহার জাগ্রত হওয়া আল্লাহর সন্তুষ্টি অর্জনের প্রকৃষ্ট উদাহরণ ইবাদত শেষ রাতে ওঠার অভ্যাস কেননা শেষ রাতে আল্লাহর রহমত অবিরাম ধারায় বর্ষিত সময় আল্লাহ প্রেমিকেরা সৃষ্টিকর্তার কায়মনোবাক্যে মোনাজাত নফল নামাজ পবিত্র কোরআন তিলাওয়াত জিকিরে লিপ্ত সময়টি আল্লাহর পক্ষ মাগফিরাত ক্ষমা লাভের সর্বোত্তম সময় সেহরির সময় জাগ্রত হওয়ার রোজার বান্দার আগ্রহের বহিঃপ্রকাশ ঘটে সেহরির ফজিলত সম্পর্কে বর্ণিত নিশ্চয়ই আল্লাহ ফেরেশতারা সেহরি গ্রহণকারীদের দোয়া নবী করিম সা ব্যক্তি সেহরি খায় ওপর আল্লাহ ফেরেশতারা রহমত বর্ষণ তাবারানি রমজান মাসে রোজাদার ব্যক্তি নিয়মিত সেহরি খান অত্যন্ত ক্লান্ত শ্রান্ত অবসন্ন হয়ে পড়বেন পরের রোজা রাখার সাহস হারিয়ে ফেলবেন কাহিল হয়ে পড়তে পক্ষান্তরে রোজাদার ব্যক্তি শেষ রাতে পরিমাণমতো সেহরি খেয়ে পুরো খেয়ে থাকার প্রস্তুতি গ্রহণ শারীরিক মানসিকভাবে মজবুত অতিশয় ক্ষুধায় কষ্ট পাবেন সেহরি খাওয়ার গুরুত্ব উপকারিতা খুঁজে পাওয়া যায় রাসুলুল্লাহ সা সেহরি ইফতারের সীমা নির্ধারণ উম্মতের রোজা পালন সহজ দিয়েছেন রোজাদারদের সময়মতো মাহে রমজানে সেহরি খেয়ে রোজার বরকত পুণ্য লাভ ড মুহাম্মদ আবদুল মুনিম খান বিশ্ববিদ্যালয়ের সহযোগী অধ্যাপক গবেষক কলাম লেখক \n",
            " [36, 153, 823, 18, 26, 2086, 2087, 824, 2, 20, 2088, 2, 2089, 561, 69, 2090, 825, 2091, 237, 2092, 432, 2093, 826, 2094, 2095, 36, 827, 190, 828, 2096, 61, 2097, 2098, 2099, 825, 2100, 2101, 2102, 2103, 36, 827, 2, 61, 433, 2104, 2105, 434, 150, 279, 187, 18, 26, 829, 61, 2, 2106, 189, 53, 186, 2107, 2, 20, 2108, 2, 45, 280, 35, 830, 247, 2109, 2, 45, 2110, 435, 436, 2111, 2112, 281, 282, 35, 191, 2, 437, 2, 45, 436, 2113, 163, 2114, 2115, 2, 45, 36, 153, 2116, 2117, 2, 2118, 283, 2119, 438, 2120, 74, 2121, 674, 351, 756, 2122, 2123, 150, 2124, 266, 2125, 413, 2126, 51, 2127, 279, 187, 18, 26, 434, 150, 2128, 831, 183, 2129, 2130, 189, 53, 186, 433, 613, 74, 2131, 2132, 2, 61, 439, 2133, 281, 282, 35, 2134, 831, 6, 2135, 53, 186, 284, 2136, 2137, 832, 191, 2, 437, 6, 2138, 2139, 2140, 3, 191, 2, 437, 6, 2141, 279, 187, 2, 2142, 2143, 61, 2144, 190, 828, 440, 18, 2145, 2, 61, 833, 2146, 283, 834, 2147, 183, 285, 280, 35, 2148, 433, 2149, 2, 347, 2150, 833, 754, 2, 45, 2151, 4, 2152, 190, 441, 2153, 2154, 4, 228, 2155, 18, 2156, 2157, 2158, 55, 2159, 186, 2160, 2161, 2162, 2163, 835, 18, 26, 432, 836, 2, 837, 2, 123, 36, 2164, 2, 45, 12, 36, 2165, 2166, 2167, 2168, 183, 12, 2, 837, 2, 2169, 442, 183, 22, 838, 190, 441, 391, 839, 2170, 2171, 2172, 28, 2173, 2, 61, 2174, 190, 441, 74, 2175, 767, 2, 45, 2176, 113, 840, 2177, 2178, 3, 191, 824, 284, 838, 2179, 841, 2180, 2181, 841, 2182, 28, 648, 842, 36, 2183, 284, 2184, 2185, 2186, 843, 2187, 280, 35, 2188, 2, 2189, 844, 45, 2190, 107, 2191, 2192, 2, 123, 36, 2193, 113, 2194, 2195, 2196, 2197, 2198, 2199, 2200, 282, 35, 2201, 2202, 2203, 2, 2204, 2205, 630, 4, 2206, 115, 843, 2207, 732, 2208, 2, 2209, 61, 2210, 2211, 123, 830, 2212, 2213, 35, 2, 2214, 286, 2215, 2216, 191, 748, 284, 443, 4, 2217, 432, 2218, 307, 845, 444, 2219, 2220, 2221, 2222, 2223, 18, 26, 2224, 2225, 708, 18, 26, 444, 435, 2226, 2227, 2228, 4, 286, 2229, 2230, 2231, 2232, 2233, 2234, 840, 2235, 2236, 2237, 2238, 2239, 444, 555, 2240, 2241, 2242, 2243, 4, 443, 4, 307, 530, 442, 2244, 2245, 2246, 332, 443, 2247, 113, 832, 2248, 286, 846, 2, 2249, 2250, 281, 282, 35, 86, 2, 2251, 247, 286, 846, 435, 2252, 2253, 279, 187, 283, 86, 819, 2, 55, 847, 2254, 2255, 2256, 74, 2257, 2258, 36, 153, 607, 2259, 2260, 2261, 74, 848, 2262, 283, 86, 18, 26, 2263, 2, 123, 2264, 123, 266, 2265, 347, 2266, 2267, 2268, 2269, 2270, 285, 835, 2, 45, 2271, 2272, 796, 423, 28, 280, 35, 2, 2273, 2274, 2275, 2276, 36, 51, 2277, 107, 2278, 2279, 2280, 2281, 2, 123, 442, 436, 2282, 2283, 849, 2284, 445, 2285, 55, 850, 763, 851, 852, 2286, 287]\n",
            "\n",
            "\t\t\t====== Paded Sequences ======\n",
            " রোজা রাখার উদ্দেশ্যে শেষ রাতে উষা উদয়ের পানাহার সেহরি হিসেবে পরিচিত সেহরি উর্দু শব্দ মূল আরবি সুহুর শাব্দিক অর্থ নিদ্রাভঙ্গ ঘুম জেগে ওঠা রাত্রি জাগরণ রোজা পালনের সুবহে সাদিকের ভোররাতে খাওয়া উর্দুতে সাহরি আরবিতে সুহুর প্রচলিতভাবে সেহ্্রি দেশীয় উচ্চারণ রোজা পালনের সেহরি খাওয়া সুন্নত অধিক পুণ্যের ক্ষুধা থাকলেও রমজান মাসে শেষ রাতে খাবার খাওয়া সেহরি সামান্য একটু পানি পান করাকেও সেহরি হিসেবে গণ্য সেহরি খাওয়ার রাসুলুল্লাহ সা সুন্নতের ওপর আমল সেহরি খাওয়ার অফুরন্ত রহমত বরকত নিয়ামত কল্যাণ নবী করিম সা তোমরা সেহরি খাও সেহরি খাওয়ার বরকত নিহিত রয়েছে বুখারি মুসলিম সেহরি খাওয়ার রোজা রাখার শক্তি অর্জিত সেহরি খেলে রোজাদার সহজে দুর্বল মনোবলহীন হয়ে পড়েন সারা দীর্ঘ সময়ের উপবাস অনাহারে থাকলেও কর্মঠ থাকার প্রাণশক্তি আসে সিয়াম পালন সহ্যসীমার রমজান মাসে শেষ রাতে ক্ষুধা থাকলেও খুরমা খেজুর কোনো জিনিস খাবেন একটু পানি পান সুন্নত আদায় হয়ে পেট ভরে সেহরি খাওয়া জরুরি সামান্যই নবী করিম সা জোটে খেজুর এক গ্লাস পানি পান করো হাদিস শরিফে বর্ণিত তোমরা সেহরি খাও এক ঢোঁক পানিও অন্যত্র হয়েছে তোমরা সেহরি খাও এক লোকমা রমজান মাসে সেহরি যথাসম্ভব দেরি খাওয়া ভালো সুবহে সাদিকের রাতের শেষ ভাগে সেহরি খাওয়া মুস্তাহাব পছন্দনীয় রোজাদার ব্যক্তির সাধ্যাতীত কোনো কষ্ট রাসুলুল্লাহ সা সেহরিকে সুন্নত বিলম্বে সেহরি গ্রহণ করাকে মুস্তাহাব ঘোষণা সেহরি খাওয়ার আসল সময় সূর্যাস্ত সুবহে সাদিক কয় ঘণ্টা সময় ছয় ভাগের শেষ ষষ্ঠ ভাগ ভাত খান চা পান ষষ্ঠাংশে এতেও মুস্তাহাবের সওয়াব পাবেন শেষ রাতে ঘুম ভাঙে সেহরি খেতে সেহরি খেয়ে রোজা রাখবেন সেহরি খাওয়ার কারণে রোজা ছেড়ে বড়ই গুনাহর নিদ্রা কোনো কারণে সেহরি খেতে সেহরি খাওয়ায় রোজার কোনো ক্ষতি যতক্ষণ সুবহে সাদিক অর্থাৎ পূর্ব দিগন্তে সাদা বর্ণ যায় ততক্ষণ সেহরি খাওয়া দুরস্ত সুবহে সাদিক হয়ে খাওয়াদাওয়ার সুযোগ সেহরি খাওয়ার সময়সীমা সম্পর্কে পবিত্র কোরআনে ইরশাদ হয়েছে তোমরা পানাহার করো যতক্ষণ কালো রেখা ভোরের শুভ্র রেখা পরিষ্কার যায় অতঃপর রাত রোজা পূর্ণ করো সূরা আল বাকারা আয়াত ১৮৭ রাসুলুল্লাহ সা স্বয়ং সেহরি খেয়েছেন অন্যদের খাওয়ার তাগিদ দিয়েছেন সাহাবায়ে কিরামও সেহরি খেয়ে রোজা রাখতেন সম্পর্কে সাহাবি হজরত জায়িদ ইবনে সাবিত রা রাসুলে করিম সা খেয়েছি জিজ্ঞাসা হলো সেহরি নামাজের ফজরের পরিমাণ সময় উত্তরে ৫০ আয়াত তিলাওয়াতের সমান মোটকথা সেহরি দেরিতে খাওয়া উত্তম আগেভাগে খেয়ে সুন্নতের বরখেলাফ মহানবী সা সেহরি বরকতময় আল্লাহ তোমাদের দান তোমরা ত্যাগ করো সেহরির সময় আরামের ঘুম পরিহার জাগ্রত হওয়া আল্লাহর সন্তুষ্টি অর্জনের প্রকৃষ্ট উদাহরণ ইবাদত শেষ রাতে ওঠার অভ্যাস কেননা শেষ রাতে আল্লাহর রহমত অবিরাম ধারায় বর্ষিত সময় আল্লাহ প্রেমিকেরা সৃষ্টিকর্তার কায়মনোবাক্যে মোনাজাত নফল নামাজ পবিত্র কোরআন তিলাওয়াত জিকিরে লিপ্ত সময়টি আল্লাহর পক্ষ মাগফিরাত ক্ষমা লাভের সর্বোত্তম সময় সেহরির সময় জাগ্রত হওয়ার রোজার বান্দার আগ্রহের বহিঃপ্রকাশ ঘটে সেহরির ফজিলত সম্পর্কে বর্ণিত নিশ্চয়ই আল্লাহ ফেরেশতারা সেহরি গ্রহণকারীদের দোয়া নবী করিম সা ব্যক্তি সেহরি খায় ওপর আল্লাহ ফেরেশতারা রহমত বর্ষণ তাবারানি রমজান মাসে রোজাদার ব্যক্তি নিয়মিত সেহরি খান অত্যন্ত ক্লান্ত শ্রান্ত অবসন্ন হয়ে পড়বেন পরের রোজা রাখার সাহস হারিয়ে ফেলবেন কাহিল হয়ে পড়তে পক্ষান্তরে রোজাদার ব্যক্তি শেষ রাতে পরিমাণমতো সেহরি খেয়ে পুরো খেয়ে থাকার প্রস্তুতি গ্রহণ শারীরিক মানসিকভাবে মজবুত অতিশয় ক্ষুধায় কষ্ট পাবেন সেহরি খাওয়ার গুরুত্ব উপকারিতা খুঁজে পাওয়া যায় রাসুলুল্লাহ সা সেহরি ইফতারের সীমা নির্ধারণ উম্মতের রোজা পালন সহজ দিয়েছেন রোজাদারদের সময়মতো মাহে রমজানে সেহরি খেয়ে রোজার বরকত পুণ্য লাভ ড মুহাম্মদ আবদুল মুনিম খান বিশ্ববিদ্যালয়ের সহযোগী অধ্যাপক গবেষক কলাম লেখক \n",
            " [2156 2157 2158   55 2159  186 2160 2161 2162 2163  835   18   26  432\n",
            "  836    2  837    2  123   36 2164    2   45   12   36 2165 2166 2167\n",
            " 2168  183   12    2  837    2 2169  442  183   22  838  190  441  391\n",
            "  839 2170 2171 2172   28 2173    2   61 2174  190  441   74 2175  767\n",
            "    2   45 2176  113  840 2177 2178    3  191  824  284  838 2179  841\n",
            " 2180 2181  841 2182   28  648  842   36 2183  284 2184 2185 2186  843\n",
            " 2187  280   35 2188    2 2189  844   45 2190  107 2191 2192    2  123\n",
            "   36 2193  113 2194 2195 2196 2197 2198 2199 2200  282   35 2201 2202\n",
            " 2203    2 2204 2205  630    4 2206  115  843 2207  732 2208    2 2209\n",
            "   61 2210 2211  123  830 2212 2213   35    2 2214  286 2215 2216  191\n",
            "  748  284  443    4 2217  432 2218  307  845  444 2219 2220 2221 2222\n",
            " 2223   18   26 2224 2225  708   18   26  444  435 2226 2227 2228    4\n",
            "  286 2229 2230 2231 2232 2233 2234  840 2235 2236 2237 2238 2239  444\n",
            "  555 2240 2241 2242 2243    4  443    4  307  530  442 2244 2245 2246\n",
            "  332  443 2247  113  832 2248  286  846    2 2249 2250  281  282   35\n",
            "   86    2 2251  247  286  846  435 2252 2253  279  187  283   86  819\n",
            "    2   55  847 2254 2255 2256   74 2257 2258   36  153  607 2259 2260\n",
            " 2261   74  848 2262  283   86   18   26 2263    2  123 2264  123  266\n",
            " 2265  347 2266 2267 2268 2269 2270  285  835    2   45 2271 2272  796\n",
            "  423   28  280   35    2 2273 2274 2275 2276   36   51 2277  107 2278\n",
            " 2279 2280 2281    2  123  442  436 2282 2283  849 2284  445 2285   55\n",
            "  850  763  851  852 2286  287]\n",
            "\u001b[1m\n",
            "\t\t\t===== Label Encoding =====\u001b[0m \n",
            "Class Names:--> ['business' 'entertainment' 'international' 'literature' 'politics'\n",
            " 'politics ' 'religion' 'sports' 'tech']\n",
            "\n",
            "Shape of Encoded Corpus =====> (18, 300)\n"
          ]
        }
      ]
    },
    {
      "cell_type": "code",
      "source": [
        "X_train,X_valid,X_test,y_train,y_valid,y_test = dataset_split(corpus,labels)\n"
      ],
      "metadata": {
        "colab": {
          "base_uri": "https://localhost:8080/"
        },
        "id": "TIryyebuYfBJ",
        "outputId": "29832235-9769-4307-d78f-94a9e258ceb2"
      },
      "execution_count": 96,
      "outputs": [
        {
          "output_type": "stream",
          "name": "stdout",
          "text": [
            "\u001b[1mFeature Size :======>\u001b[0m 300\n",
            "\u001b[1m\n",
            "Dataset Distribution:\n",
            "\u001b[0m\n",
            "\tSet Name \t\tSize\n",
            "\t========\t\t======\n",
            "\tFull\t\t\t 18 \n",
            "\tTraining\t\t 12 \n",
            "\tTest\t\t\t 2 \n",
            "\tValidation\t\t 4\n"
          ]
        }
      ]
    },
    {
      "cell_type": "code",
      "source": [
        "\n",
        "embedding_dimension = 128\n",
        "input_length = 300\n",
        "vocab_size = 5000\n",
        "num_classes = 12\n",
        "batch_size = 64\n",
        "num_epochs = 10\n",
        "\n",
        "accuracy_threshold = 0.97\n",
        "\n",
        "\n",
        "class myCallback(keras.callbacks.Callback):\n",
        "  def on_epoch_end(self, epoch, logs={}):\n",
        "      if(logs.get('accuracy')>accuracy_threshold):\n",
        "        print(\"\\nReached %2.2f%% accuracy so we will stop trianing\" % (accuracy_threshold*100))\n",
        "        self.model.stop_training = True\n",
        "\n",
        "acc_callback = myCallback()\n",
        "# Saved the Best Model\n",
        "filepath = path+\"Model.h5\"\n",
        "checkpoint = keras.callbacks.ModelCheckpoint(filepath, monitor='val_accuracy', verbose=2, save_best_only=True, \n",
        "                                             save_weights_only=False, mode='max')\n",
        "# callback list\n",
        "callback_list = [acc_callback, checkpoint] \n",
        "\n",
        "                            ###############################     CNN network architecture ################\n",
        "model = tf.keras.models.Sequential([\n",
        "tf.keras.layers.Embedding(vocab_size, embedding_dimension, input_length = input_length),\n",
        "tf.keras.layers.Conv1D(128, 5, activation= 'relu'),\n",
        "tf.keras.layers.MaxPooling1D(5),\n",
        "tf.keras.layers.Bidirectional(LSTM(64, return_sequences=True,dropout = 0.2)),\n",
        "tf.keras.layers.Bidirectional(LSTM(64, return_sequences=True,dropout = 0.2)),\n",
        "tf.keras.layers.Dense(28, activation='relu'),\n",
        "tf.keras.layers.Dense(14, activation='relu'),\n",
        "keras.layers.Flatten(),\n",
        "tf.keras.layers.Dense(num_classes , activation='softmax')])\n",
        "\n",
        "model.summary()\n",
        "\n",
        "model.compile(optimizer=keras.optimizers.Adam(),\n",
        "    loss='sparse_categorical_crossentropy',\n",
        "    metrics=['accuracy'])\n",
        "   \n",
        "history = model.fit(X_train,\n",
        "    y_train,\n",
        "    epochs=num_epochs,\n",
        "    batch_size = batch_size,\n",
        "    validation_data=(X_valid, y_valid),\n",
        "    verbose =1)\n",
        "    #callbacks = callback_list)\n",
        "\n",
        "     \n"
      ],
      "metadata": {
        "colab": {
          "base_uri": "https://localhost:8080/"
        },
        "id": "Y1hNIPyrYis-",
        "outputId": "b9c554b2-c781-46b8-e0eb-f773bc07821b"
      },
      "execution_count": 97,
      "outputs": [
        {
          "output_type": "stream",
          "name": "stdout",
          "text": [
            "Model: \"sequential_2\"\n",
            "_________________________________________________________________\n",
            " Layer (type)                Output Shape              Param #   \n",
            "=================================================================\n",
            " embedding_2 (Embedding)     (None, 300, 128)          640000    \n",
            "                                                                 \n",
            " conv1d_2 (Conv1D)           (None, 296, 128)          82048     \n",
            "                                                                 \n",
            " max_pooling1d_2 (MaxPooling  (None, 59, 128)          0         \n",
            " 1D)                                                             \n",
            "                                                                 \n",
            " bidirectional_4 (Bidirectio  (None, 59, 128)          98816     \n",
            " nal)                                                            \n",
            "                                                                 \n",
            " bidirectional_5 (Bidirectio  (None, 59, 128)          98816     \n",
            " nal)                                                            \n",
            "                                                                 \n",
            " dense_6 (Dense)             (None, 59, 28)            3612      \n",
            "                                                                 \n",
            " dense_7 (Dense)             (None, 59, 14)            406       \n",
            "                                                                 \n",
            " flatten_2 (Flatten)         (None, 826)               0         \n",
            "                                                                 \n",
            " dense_8 (Dense)             (None, 12)                9924      \n",
            "                                                                 \n",
            "=================================================================\n",
            "Total params: 933,622\n",
            "Trainable params: 933,622\n",
            "Non-trainable params: 0\n",
            "_________________________________________________________________\n",
            "Epoch 1/10\n"
          ]
        },
        {
          "output_type": "stream",
          "name": "stderr",
          "text": [
            "WARNING:tensorflow:AutoGraph could not transform <function Model.make_train_function.<locals>.train_function at 0x7f8e82745940> and will run it as-is.\n",
            "Please report this to the TensorFlow team. When filing the bug, set the verbosity to 10 (on Linux, `export AUTOGRAPH_VERBOSITY=10`) and attach the full output.\n",
            "Cause: closure mismatch, requested ('self', 'step_function'), but source function had ()\n",
            "To silence this warning, decorate the function with @tf.autograph.experimental.do_not_convert\n"
          ]
        },
        {
          "output_type": "stream",
          "name": "stdout",
          "text": [
            "WARNING: AutoGraph could not transform <function Model.make_train_function.<locals>.train_function at 0x7f8e82745940> and will run it as-is.\n",
            "Please report this to the TensorFlow team. When filing the bug, set the verbosity to 10 (on Linux, `export AUTOGRAPH_VERBOSITY=10`) and attach the full output.\n",
            "Cause: closure mismatch, requested ('self', 'step_function'), but source function had ()\n",
            "To silence this warning, decorate the function with @tf.autograph.experimental.do_not_convert\n",
            "1/1 [==============================] - ETA: 0s - loss: 2.4974 - accuracy: 0.0833"
          ]
        },
        {
          "output_type": "stream",
          "name": "stderr",
          "text": [
            "WARNING:tensorflow:AutoGraph could not transform <function Model.make_test_function.<locals>.test_function at 0x7f8e94188160> and will run it as-is.\n",
            "Please report this to the TensorFlow team. When filing the bug, set the verbosity to 10 (on Linux, `export AUTOGRAPH_VERBOSITY=10`) and attach the full output.\n",
            "Cause: closure mismatch, requested ('self', 'step_function'), but source function had ()\n",
            "To silence this warning, decorate the function with @tf.autograph.experimental.do_not_convert\n"
          ]
        },
        {
          "output_type": "stream",
          "name": "stdout",
          "text": [
            "WARNING: AutoGraph could not transform <function Model.make_test_function.<locals>.test_function at 0x7f8e94188160> and will run it as-is.\n",
            "Please report this to the TensorFlow team. When filing the bug, set the verbosity to 10 (on Linux, `export AUTOGRAPH_VERBOSITY=10`) and attach the full output.\n",
            "Cause: closure mismatch, requested ('self', 'step_function'), but source function had ()\n",
            "To silence this warning, decorate the function with @tf.autograph.experimental.do_not_convert\n",
            "1/1 [==============================] - 38s 38s/step - loss: 2.4974 - accuracy: 0.0833 - val_loss: 2.4799 - val_accuracy: 0.2500\n",
            "Epoch 2/10\n",
            "1/1 [==============================] - 0s 367ms/step - loss: 2.4528 - accuracy: 0.5000 - val_loss: 2.4819 - val_accuracy: 0.2500\n",
            "Epoch 3/10\n",
            "1/1 [==============================] - 0s 274ms/step - loss: 2.3979 - accuracy: 0.5833 - val_loss: 2.4874 - val_accuracy: 0.2500\n",
            "Epoch 4/10\n",
            "1/1 [==============================] - 0s 267ms/step - loss: 2.3051 - accuracy: 0.5833 - val_loss: 2.5026 - val_accuracy: 0.2500\n",
            "Epoch 5/10\n",
            "1/1 [==============================] - 0s 275ms/step - loss: 2.1519 - accuracy: 0.5833 - val_loss: 2.5410 - val_accuracy: 0.2500\n",
            "Epoch 6/10\n",
            "1/1 [==============================] - 0s 305ms/step - loss: 1.9250 - accuracy: 0.5833 - val_loss: 2.6570 - val_accuracy: 0.2500\n",
            "Epoch 7/10\n",
            "1/1 [==============================] - 0s 302ms/step - loss: 1.6635 - accuracy: 0.5833 - val_loss: 2.9791 - val_accuracy: 0.2500\n",
            "Epoch 8/10\n",
            "1/1 [==============================] - 0s 313ms/step - loss: 1.4295 - accuracy: 0.5000 - val_loss: 3.6910 - val_accuracy: 0.2500\n",
            "Epoch 9/10\n",
            "1/1 [==============================] - 0s 311ms/step - loss: 1.4300 - accuracy: 0.5000 - val_loss: 4.1671 - val_accuracy: 0.2500\n",
            "Epoch 10/10\n",
            "1/1 [==============================] - 0s 299ms/step - loss: 1.3833 - accuracy: 0.5000 - val_loss: 4.2932 - val_accuracy: 0.2500\n"
          ]
        }
      ]
    },
    {
      "cell_type": "code",
      "source": [
        "tf.keras.models.save_model(model, path+'Document_Test.h5', save_format='h5')\n"
      ],
      "metadata": {
        "id": "ifeGSegGY87w"
      },
      "execution_count": 98,
      "outputs": []
    },
    {
      "cell_type": "code",
      "source": [
        "loss_values = history.history['loss']\n",
        "val_loss_values = history.history['val_loss']\n",
        "acc = history.history['accuracy']\n",
        "val_acc = history.history['val_accuracy']\n",
        "epochs = range(1, len(acc) + 1)\n",
        "sns.set_style('darkgrid')\n",
        "                  #=========================================================\n",
        "                  ############### Epochs vs Validation Accuracy Plot ##########\n",
        "                  #==========================================================\n",
        "\n",
        "plt.plot(epochs, acc, color='midnightblue', linewidth = 2, \n",
        "          marker='o', markersize=8,label='Training Accuracy')\n",
        "plt.plot(epochs, val_acc, color='darkred', linewidth = 2, \n",
        "          marker='o', markersize=8,label='Training Accuracy')\n",
        "plt.title('Training and validation accuracy',fontsize=12,fontweight='bold')\n",
        "plt.xlabel('Epochs',fontsize=12,fontweight='bold')\n",
        "plt.ylabel('Accuracy',fontsize=12,fontweight='bold')\n",
        "plt.legend(['Training Accuracy','Validation Accuracy'])"
      ],
      "metadata": {
        "colab": {
          "base_uri": "https://localhost:8080/",
          "height": 497
        },
        "id": "6r4gRrSfY_01",
        "outputId": "bb1c5580-c4ca-4b7a-beba-3d3c383cc0bf"
      },
      "execution_count": 99,
      "outputs": [
        {
          "output_type": "execute_result",
          "data": {
            "text/plain": [
              "<matplotlib.legend.Legend at 0x7f8e873f84f0>"
            ]
          },
          "metadata": {},
          "execution_count": 99
        },
        {
          "output_type": "display_data",
          "data": {
            "text/plain": [
              "<Figure size 640x480 with 1 Axes>"
            ],
            "image/png": "[encoded data removed]"
          },
          "metadata": {}
        }
      ]
    },
    {
      "cell_type": "code",
      "source": [
        "model = load_model(path+'Document_Test.h5')"
      ],
      "metadata": {
        "id": "IqZV4hUhZFTM"
      },
      "execution_count": 100,
      "outputs": []
    },
    {
      "cell_type": "code",
      "source": [
        "class_names = ['entertainment','international' ,'opinion' ,'politics','sports','business','literature',  'religion','tech']\n",
        "predictions = model.predict(X_test)\n",
        "y_pred = np.argmax(predictions, axis=1)\n",
        "report = pd.DataFrame(classification_report(y_true = y_test, y_pred = y_pred, output_dict=True)).transpose()\n",
        "report = report.rename(index={'0': 'entertainment','1':'international','2':'opinion','3':'politics','4':'sports','5':'business',\n",
        "                              '6': 'literature','7':'religion','8':'tech'})\n",
        "report[['precision','recall','f1-score']]=report[['precision','recall','f1-score']].apply(lambda x: round(x*100,2))\n",
        "report"
      ],
      "metadata": {
        "colab": {
          "base_uri": "https://localhost:8080/",
          "height": 487
        },
        "id": "d8iVZ_O4Zrkn",
        "outputId": "ceb0fd4c-af04-4b8f-d4a6-76795252e75d"
      },
      "execution_count": 101,
      "outputs": [
        {
          "output_type": "stream",
          "name": "stderr",
          "text": [
            "WARNING:tensorflow:AutoGraph could not transform <function Model.make_predict_function.<locals>.predict_function at 0x7f8e94066e50> and will run it as-is.\n",
            "Please report this to the TensorFlow team. When filing the bug, set the verbosity to 10 (on Linux, `export AUTOGRAPH_VERBOSITY=10`) and attach the full output.\n",
            "Cause: closure mismatch, requested ('self', 'step_function'), but source function had ()\n",
            "To silence this warning, decorate the function with @tf.autograph.experimental.do_not_convert\n"
          ]
        },
        {
          "output_type": "stream",
          "name": "stdout",
          "text": [
            "WARNING: AutoGraph could not transform <function Model.make_predict_function.<locals>.predict_function at 0x7f8e94066e50> and will run it as-is.\n",
            "Please report this to the TensorFlow team. When filing the bug, set the verbosity to 10 (on Linux, `export AUTOGRAPH_VERBOSITY=10`) and attach the full output.\n",
            "Cause: closure mismatch, requested ('self', 'step_function'), but source function had ()\n",
            "To silence this warning, decorate the function with @tf.autograph.experimental.do_not_convert\n",
            "1/1 [==============================] - 3s 3s/step\n"
          ]
        },
        {
          "output_type": "stream",
          "name": "stderr",
          "text": [
            "/usr/local/lib/python3.8/dist-packages/sklearn/metrics/_classification.py:1318: UndefinedMetricWarning: Precision and F-score are ill-defined and being set to 0.0 in labels with no predicted samples. Use `zero_division` parameter to control this behavior.\n",
            "  _warn_prf(average, modifier, msg_start, len(result))\n",
            "/usr/local/lib/python3.8/dist-packages/sklearn/metrics/_classification.py:1318: UndefinedMetricWarning: Precision and F-score are ill-defined and being set to 0.0 in labels with no predicted samples. Use `zero_division` parameter to control this behavior.\n",
            "  _warn_prf(average, modifier, msg_start, len(result))\n",
            "/usr/local/lib/python3.8/dist-packages/sklearn/metrics/_classification.py:1318: UndefinedMetricWarning: Precision and F-score are ill-defined and being set to 0.0 in labels with no predicted samples. Use `zero_division` parameter to control this behavior.\n",
            "  _warn_prf(average, modifier, msg_start, len(result))\n"
          ]
        },
        {
          "output_type": "execute_result",
          "data": {
            "text/plain": [
              "              precision  recall  f1-score  support\n",
              "sports             50.0   100.0     66.67      1.0\n",
              "business            0.0     0.0      0.00      1.0\n",
              "accuracy           50.0    50.0     50.00      0.5\n",
              "macro avg          25.0    50.0     33.33      2.0\n",
              "weighted avg       25.0    50.0     33.33      2.0"
            ],
            "text/html": [
              "\n",
              "  <div id=\"df-ec7ce292-408b-48b1-87ab-62f6cc48a60a\">\n",
              "    <div class=\"colab-df-container\">\n",
              "      <div>\n",
              "<style scoped>\n",
              "    .dataframe tbody tr th:only-of-type {\n",
              "        vertical-align: middle;\n",
              "    }\n",
              "\n",
              "    .dataframe tbody tr th {\n",
              "        vertical-align: top;\n",
              "    }\n",
              "\n",
              "    .dataframe thead th {\n",
              "        text-align: right;\n",
              "    }\n",
              "</style>\n",
              "<table border=\"1\" class=\"dataframe\">\n",
              "  <thead>\n",
              "    <tr style=\"text-align: right;\">\n",
              "      <th></th>\n",
              "      <th>precision</th>\n",
              "      <th>recall</th>\n",
              "      <th>f1-score</th>\n",
              "      <th>support</th>\n",
              "    </tr>\n",
              "  </thead>\n",
              "  <tbody>\n",
              "    <tr>\n",
              "      <th>sports</th>\n",
              "      <td>50.0</td>\n",
              "      <td>100.0</td>\n",
              "      <td>66.67</td>\n",
              "      <td>1.0</td>\n",
              "    </tr>\n",
              "    <tr>\n",
              "      <th>business</th>\n",
              "      <td>0.0</td>\n",
              "      <td>0.0</td>\n",
              "      <td>0.00</td>\n",
              "      <td>1.0</td>\n",
              "    </tr>\n",
              "    <tr>\n",
              "      <th>accuracy</th>\n",
              "      <td>50.0</td>\n",
              "      <td>50.0</td>\n",
              "      <td>50.00</td>\n",
              "      <td>0.5</td>\n",
              "    </tr>\n",
              "    <tr>\n",
              "      <th>macro avg</th>\n",
              "      <td>25.0</td>\n",
              "      <td>50.0</td>\n",
              "      <td>33.33</td>\n",
              "      <td>2.0</td>\n",
              "    </tr>\n",
              "    <tr>\n",
              "      <th>weighted avg</th>\n",
              "      <td>25.0</td>\n",
              "      <td>50.0</td>\n",
              "      <td>33.33</td>\n",
              "      <td>2.0</td>\n",
              "    </tr>\n",
              "  </tbody>\n",
              "</table>\n",
              "</div>\n",
              "      <button class=\"colab-df-convert\" onclick=\"convertToInteractive('df-ec7ce292-408b-48b1-87ab-62f6cc48a60a')\"\n",
              "              title=\"Convert this dataframe to an interactive table.\"\n",
              "              style=\"display:none;\">\n",
              "        \n",
              "  <svg xmlns=\"http://www.w3.org/2000/svg\" height=\"24px\"viewBox=\"0 0 24 24\"\n",
              "       width=\"24px\">\n",
              "    <path d=\"M0 0h24v24H0V0z\" fill=\"none\"/>\n",
              "    <path d=\"M18.56 5.44l.94 2.06.94-2.06 2.06-.94-2.06-.94-.94-2.06-.94 2.06-2.06.94zm-11 1L8.5 8.5l.94-2.06 2.06-.94-2.06-.94L8.5 2.5l-.94 2.06-2.06.94zm10 10l.94 2.06.94-2.06 2.06-.94-2.06-.94-.94-2.06-.94 2.06-2.06.94z\"/><path d=\"M17.41 7.96l-1.37-1.37c-.4-.4-.92-.59-1.43-.59-.52 0-1.04.2-1.43.59L10.3 9.45l-7.72 7.72c-.78.78-.78 2.05 0 2.83L4 21.41c.39.39.9.59 1.41.59.51 0 1.02-.2 1.41-.59l7.78-7.78 2.81-2.81c.8-.78.8-2.07 0-2.86zM5.41 20L4 18.59l7.72-7.72 1.47 1.35L5.41 20z\"/>\n",
              "  </svg>\n",
              "      </button>\n",
              "      \n",
              "  <style>\n",
              "    .colab-df-container {\n",
              "      display:flex;\n",
              "      flex-wrap:wrap;\n",
              "      gap: 12px;\n",
              "    }\n",
              "\n",
              "    .colab-df-convert {\n",
              "      background-color: #E8F0FE;\n",
              "      border: none;\n",
              "      border-radius: 50%;\n",
              "      cursor: pointer;\n",
              "      display: none;\n",
              "      fill: #1967D2;\n",
              "      height: 32px;\n",
              "      padding: 0 0 0 0;\n",
              "      width: 32px;\n",
              "    }\n",
              "\n",
              "    .colab-df-convert:hover {\n",
              "      background-color: #E2EBFA;\n",
              "      box-shadow: 0px 1px 2px rgba(60, 64, 67, 0.3), 0px 1px 3px 1px rgba(60, 64, 67, 0.15);\n",
              "      fill: #174EA6;\n",
              "    }\n",
              "\n",
              "    [theme=dark] .colab-df-convert {\n",
              "      background-color: #3B4455;\n",
              "      fill: #D2E3FC;\n",
              "    }\n",
              "\n",
              "    [theme=dark] .colab-df-convert:hover {\n",
              "      background-color: #434B5C;\n",
              "      box-shadow: 0px 1px 3px 1px rgba(0, 0, 0, 0.15);\n",
              "      filter: drop-shadow(0px 1px 2px rgba(0, 0, 0, 0.3));\n",
              "      fill: #FFFFFF;\n",
              "    }\n",
              "  </style>\n",
              "\n",
              "      <script>\n",
              "        const buttonEl =\n",
              "          document.querySelector('#df-ec7ce292-408b-48b1-87ab-62f6cc48a60a button.colab-df-convert');\n",
              "        buttonEl.style.display =\n",
              "          google.colab.kernel.accessAllowed ? 'block' : 'none';\n",
              "\n",
              "        async function convertToInteractive(key) {\n",
              "          const element = document.querySelector('#df-ec7ce292-408b-48b1-87ab-62f6cc48a60a');\n",
              "          const dataTable =\n",
              "            await google.colab.kernel.invokeFunction('convertToInteractive',\n",
              "                                                     [key], {});\n",
              "          if (!dataTable) return;\n",
              "\n",
              "          const docLinkHtml = 'Like what you see? Visit the ' +\n",
              "            '<a target=\"_blank\" href=https://colab.research.google.com/notebooks/data_table.ipynb>data table notebook</a>'\n",
              "            + ' to learn more about interactive tables.';\n",
              "          element.innerHTML = '';\n",
              "          dataTable['output_type'] = 'display_data';\n",
              "          await google.colab.output.renderOutput(dataTable, element);\n",
              "          const docLink = document.createElement('div');\n",
              "          docLink.innerHTML = docLinkHtml;\n",
              "          element.appendChild(docLink);\n",
              "        }\n",
              "      </script>\n",
              "    </div>\n",
              "  </div>\n",
              "  "
            ]
          },
          "metadata": {},
          "execution_count": 101
        }
      ]
    },
    {
      "cell_type": "code",
      "source": [
        "from sklearn.metrics import classification_report, confusion_matrix\n",
        "predictions = model.predict(X_test)\n",
        "y_pred = np.argmax(predictions, axis=1)\n",
        "\n",
        "cm = confusion_matrix(y_test, y_pred) \n",
        "\n",
        "class_names = ['entertainment','international' ,'opinion' ,'politics','sports','business','literature',  'religion','tech']\n",
        "# Transform to df for easier plotting\n",
        "cm_df = pd.DataFrame(cm,\n",
        "                     index = class_names, \n",
        "                     columns = class_names)\n",
        "\n",
        "plt.figure(figsize=(8,6))\n",
        "sns.heatmap(cm_df, annot=True,cmap=\"Greens\", fmt='g')\n",
        "plt.title('CNN-BiLSTM \\nAccuracy: {0:.2f}'.format(accuracy_score(y_test, y_pred)*100))\n",
        "plt.ylabel('True label')\n",
        "plt.xlabel('Predicted label')\n",
        "plt.xticks(rotation = 45)\n",
        "plt.yticks(rotation = 45)\n",
        "plt.show()"
      ],
      "metadata": {
        "colab": {
          "base_uri": "https://localhost:8080/",
          "height": 397
        },
        "id": "bYnB85lec4Xj",
        "outputId": "9c93bba7-41fe-453c-a1ee-ce2a3d57809c"
      },
      "execution_count": 114,
      "outputs": [
        {
          "output_type": "stream",
          "name": "stdout",
          "text": [
            "1/1 [==============================] - 0s 49ms/step\n"
          ]
        },
        {
          "output_type": "error",
          "ename": "ValueError",
          "evalue": "ignored",
          "traceback": [
            "\u001b[0;31m---------------------------------------------------------------------------\u001b[0m",
            "\u001b[0;31mValueError\u001b[0m                                Traceback (most recent call last)",
            "\u001b[0;32m<ipython-input-114-7677cfff1b08>\u001b[0m in \u001b[0;36m<module>\u001b[0;34m\u001b[0m\n\u001b[1;32m      7\u001b[0m \u001b[0mclass_names\u001b[0m \u001b[0;34m=\u001b[0m \u001b[0;34m[\u001b[0m\u001b[0;34m'entertainment'\u001b[0m\u001b[0;34m,\u001b[0m\u001b[0;34m'international'\u001b[0m \u001b[0;34m,\u001b[0m\u001b[0;34m'opinion'\u001b[0m \u001b[0;34m,\u001b[0m\u001b[0;34m'politics'\u001b[0m\u001b[0;34m,\u001b[0m\u001b[0;34m'sports'\u001b[0m\u001b[0;34m,\u001b[0m\u001b[0;34m'business'\u001b[0m\u001b[0;34m,\u001b[0m\u001b[0;34m'literature'\u001b[0m\u001b[0;34m,\u001b[0m  \u001b[0;34m'religion'\u001b[0m\u001b[0;34m,\u001b[0m\u001b[0;34m'tech'\u001b[0m\u001b[0;34m]\u001b[0m\u001b[0;34m\u001b[0m\u001b[0;34m\u001b[0m\u001b[0m\n\u001b[1;32m      8\u001b[0m \u001b[0;31m# Transform to df for easier plotting\u001b[0m\u001b[0;34m\u001b[0m\u001b[0;34m\u001b[0m\u001b[0;34m\u001b[0m\u001b[0m\n\u001b[0;32m----> 9\u001b[0;31m cm_df = pd.DataFrame(cm,\n\u001b[0m\u001b[1;32m     10\u001b[0m                      \u001b[0mindex\u001b[0m \u001b[0;34m=\u001b[0m \u001b[0mclass_names\u001b[0m\u001b[0;34m,\u001b[0m\u001b[0;34m\u001b[0m\u001b[0;34m\u001b[0m\u001b[0m\n\u001b[1;32m     11\u001b[0m                      columns = class_names)\n",
            "\u001b[0;32m/usr/local/lib/python3.8/dist-packages/pandas/core/frame.py\u001b[0m in \u001b[0;36m__init__\u001b[0;34m(self, data, index, columns, dtype, copy)\u001b[0m\n\u001b[1;32m    670\u001b[0m                 )\n\u001b[1;32m    671\u001b[0m             \u001b[0;32melse\u001b[0m\u001b[0;34m:\u001b[0m\u001b[0;34m\u001b[0m\u001b[0;34m\u001b[0m\u001b[0m\n\u001b[0;32m--> 672\u001b[0;31m                 mgr = ndarray_to_mgr(\n\u001b[0m\u001b[1;32m    673\u001b[0m                     \u001b[0mdata\u001b[0m\u001b[0;34m,\u001b[0m\u001b[0;34m\u001b[0m\u001b[0;34m\u001b[0m\u001b[0m\n\u001b[1;32m    674\u001b[0m                     \u001b[0mindex\u001b[0m\u001b[0;34m,\u001b[0m\u001b[0;34m\u001b[0m\u001b[0;34m\u001b[0m\u001b[0m\n",
            "\u001b[0;32m/usr/local/lib/python3.8/dist-packages/pandas/core/internals/construction.py\u001b[0m in \u001b[0;36mndarray_to_mgr\u001b[0;34m(values, index, columns, dtype, copy, typ)\u001b[0m\n\u001b[1;32m    322\u001b[0m     )\n\u001b[1;32m    323\u001b[0m \u001b[0;34m\u001b[0m\u001b[0m\n\u001b[0;32m--> 324\u001b[0;31m     \u001b[0m_check_values_indices_shape_match\u001b[0m\u001b[0;34m(\u001b[0m\u001b[0mvalues\u001b[0m\u001b[0;34m,\u001b[0m \u001b[0mindex\u001b[0m\u001b[0;34m,\u001b[0m \u001b[0mcolumns\u001b[0m\u001b[0;34m)\u001b[0m\u001b[0;34m\u001b[0m\u001b[0;34m\u001b[0m\u001b[0m\n\u001b[0m\u001b[1;32m    325\u001b[0m \u001b[0;34m\u001b[0m\u001b[0m\n\u001b[1;32m    326\u001b[0m     \u001b[0;32mif\u001b[0m \u001b[0mtyp\u001b[0m \u001b[0;34m==\u001b[0m \u001b[0;34m\"array\"\u001b[0m\u001b[0;34m:\u001b[0m\u001b[0;34m\u001b[0m\u001b[0;34m\u001b[0m\u001b[0m\n",
            "\u001b[0;32m/usr/local/lib/python3.8/dist-packages/pandas/core/internals/construction.py\u001b[0m in \u001b[0;36m_check_values_indices_shape_match\u001b[0;34m(values, index, columns)\u001b[0m\n\u001b[1;32m    391\u001b[0m         \u001b[0mpassed\u001b[0m \u001b[0;34m=\u001b[0m \u001b[0mvalues\u001b[0m\u001b[0;34m.\u001b[0m\u001b[0mshape\u001b[0m\u001b[0;34m\u001b[0m\u001b[0;34m\u001b[0m\u001b[0m\n\u001b[1;32m    392\u001b[0m         \u001b[0mimplied\u001b[0m \u001b[0;34m=\u001b[0m \u001b[0;34m(\u001b[0m\u001b[0mlen\u001b[0m\u001b[0;34m(\u001b[0m\u001b[0mindex\u001b[0m\u001b[0;34m)\u001b[0m\u001b[0;34m,\u001b[0m \u001b[0mlen\u001b[0m\u001b[0;34m(\u001b[0m\u001b[0mcolumns\u001b[0m\u001b[0;34m)\u001b[0m\u001b[0;34m)\u001b[0m\u001b[0;34m\u001b[0m\u001b[0;34m\u001b[0m\u001b[0m\n\u001b[0;32m--> 393\u001b[0;31m         \u001b[0;32mraise\u001b[0m \u001b[0mValueError\u001b[0m\u001b[0;34m(\u001b[0m\u001b[0;34mf\"Shape of passed values is {passed}, indices imply {implied}\"\u001b[0m\u001b[0;34m)\u001b[0m\u001b[0;34m\u001b[0m\u001b[0;34m\u001b[0m\u001b[0m\n\u001b[0m\u001b[1;32m    394\u001b[0m \u001b[0;34m\u001b[0m\u001b[0m\n\u001b[1;32m    395\u001b[0m \u001b[0;34m\u001b[0m\u001b[0m\n",
            "\u001b[0;31mValueError\u001b[0m: Shape of passed values is (2, 2), indices imply (9, 9)"
          ]
        }
      ]
    },
    {
      "cell_type": "code",
      "source": [
        "sample_news = '‘সোনার বাংলা সার্কাস’। একটি দুটি নয়, পাঁচটি ভিন্ন ভিন্ন মঞ্চে গাইবে তারা। কনসার্টের মৌসুমে দেশের বিভিন্ন স্থানে ব্যস্ত সময় পার করছে দলটি। এরই মধ্যে কনসার্ট করতে আজ ভারতের উদ্দেশ্যে উড়াল দিয়েছে ‘সোনার বাংলা সার্কাস’।আগামীকাল শনিবার থেকে ২৫ ফেব্রুয়ারি কলকাতায় ৫টি স্টেজ শোতে গান গাইবেন '\n",
        "cleaned_news = cleaning_documents(sample_news)\n",
        "\n",
        "class_names = ['entertainment','international' ,'opinion' ,'politics','sports','business','literature',  'religion','tech']\n",
        "\n",
        "#print(cleaned_news)\n",
        "# load the saved tokenizer\n",
        "with open(path+'tokenizer.pickle', 'rb') as handle:\n",
        "    loaded_tokenizer = pickle.load(handle)\n",
        "#print(len(loaded_tokenizer.word_index))\n",
        "seq= loaded_tokenizer.texts_to_sequences([cleaned_news])\n",
        "padded = pad_sequences(seq, value=0.0,padding='post', maxlen= 300 )\n",
        "pred = model.predict(padded)\n",
        "#print(pred) \n",
        "class_names[np.argmax(pred)]   "
      ],
      "metadata": {
        "colab": {
          "base_uri": "https://localhost:8080/",
          "height": 53
        },
        "id": "VAXq5IB9dac_",
        "outputId": "fe125993-5930-47cb-c896-8fe1637ed379"
      },
      "execution_count": 112,
      "outputs": [
        {
          "output_type": "stream",
          "name": "stdout",
          "text": [
            "1/1 [==============================] - 0s 270ms/step\n"
          ]
        },
        {
          "output_type": "execute_result",
          "data": {
            "text/plain": [
              "'sports'"
            ],
            "application/vnd.google.colaboratory.intrinsic+json": {
              "type": "string"
            }
          },
          "metadata": {},
          "execution_count": 112
        }
      ]
    },
    {
      "cell_type": "code",
      "source": [
        "# print top most classes\n",
        "y_pred = pred.reshape(-1)\n",
        "class_labels=[(class_names[i],round(prob*100,2)) for i,prob in enumerate(y_pred) if prob > 0.1]\n",
        "\n",
        "for k, v in class_labels:\n",
        "  print(k,'====>',v,'%')"
      ],
      "metadata": {
        "colab": {
          "base_uri": "https://localhost:8080/"
        },
        "id": "ufJR5z6mdhRF",
        "outputId": "1d34acc8-4d5f-4381-d2be-b231dfaa9028"
      },
      "execution_count": 113,
      "outputs": [
        {
          "output_type": "stream",
          "name": "stdout",
          "text": [
            "entertainment ====> 15.23 %\n",
            "sports ====> 69.26 %\n"
          ]
        }
      ]
    }
  ]
}