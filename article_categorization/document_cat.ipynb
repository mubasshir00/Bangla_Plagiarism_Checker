{
  "nbformat": 4,
  "nbformat_minor": 0,
  "metadata": {
    "colab": {
      "provenance": []
    },
    "kernelspec": {
      "name": "python3",
      "display_name": "Python 3"
    },
    "accelerator": "GPU"
  },
  "cells": [
    {
      "cell_type": "code",
      "metadata": {
        "id": "0X_E_-yNyM78",
        "colab": {
          "base_uri": "https://localhost:8080/"
        },
        "outputId": "946a822d-bf9d-4727-bfeb-c96b07581217"
      },
      "source": [
        "from google.colab import drive\n",
        "drive.mount('/content/drive')"
      ],
      "execution_count": 1,
      "outputs": [
        {
          "output_type": "stream",
          "name": "stdout",
          "text": [
            "Mounted at /content/drive\n"
          ]
        }
      ]
    },
    {
      "cell_type": "markdown",
      "metadata": {
        "id": "5xAgmr1MywtI"
      },
      "source": [
        "#Libraries"
      ]
    },
    {
      "cell_type": "code",
      "metadata": {
        "id": "IcuDgC3VyzTa"
      },
      "source": [
        "import numpy as np\n",
        "import matplotlib.pyplot as plt\n",
        "%matplotlib inline\n",
        "import pandas as pd\n",
        "import seaborn as sns\n",
        "import re,nltk,json, pickle\n",
        "import tensorflow as tf\n",
        "from tensorflow import keras\n",
        "from tensorflow.keras import regularizers\n",
        "from tensorflow.keras.preprocessing.sequence import pad_sequences\n",
        "from tensorflow.keras.layers import LSTM,GRU\n",
        "from tensorflow.keras.models import load_model\n",
        "from sklearn.metrics import confusion_matrix\n",
        "from sklearn.metrics import classification_report \n",
        "from sklearn.model_selection import train_test_split\n",
        "from sklearn.metrics import accuracy_score,precision_score,recall_score,f1_score,roc_auc_score\n",
        "from sklearn.preprocessing import LabelEncoder\n",
        "from tensorflow.keras.preprocessing.text import Tokenizer\n",
        "np.random.seed(42)\n",
        "class color: # Text style\n",
        "   PURPLE = '\\033[95m'\n",
        "   CYAN = '\\033[96m'\n",
        "   DARKCYAN = '\\033[36m'\n",
        "   BLUE = '\\033[94m'\n",
        "   GREEN = '\\033[92m'\n",
        "   YELLOW = '\\033[93m'\n",
        "   RED = '\\033[91m'\n",
        "   BOLD = '\\033[1m'\n",
        "   UNDERLINE = '\\033[4m'\n",
        "   END = '\\033[0m'\n",
        "# Warnings\n",
        "import warnings\n",
        "warnings.simplefilter(action='ignore', category=FutureWarning)\n",
        "# dataset path\n",
        "dataset_path = '/content/drive/My Drive/Colab Notebooks/'\n",
        "path = '/content/drive/My Drive/Colab Notebooks/'\n"
      ],
      "execution_count": 2,
      "outputs": []
    },
    {
      "cell_type": "code",
      "metadata": {
        "id": "ppsGUWZZj3ND",
        "colab": {
          "base_uri": "https://localhost:8080/"
        },
        "outputId": "c7e92d2e-6f71-4fd3-ed30-f95abb601d61"
      },
      "source": [
        "!pip install tensorflow==2.1.0"
      ],
      "execution_count": 3,
      "outputs": [
        {
          "output_type": "stream",
          "name": "stdout",
          "text": [
            "Looking in indexes: https://pypi.org/simple, https://us-python.pkg.dev/colab-wheels/public/simple/\n",
            "\u001b[31mERROR: Could not find a version that satisfies the requirement tensorflow==2.1.0 (from versions: 2.8.0rc0, 2.8.0rc1, 2.8.0, 2.8.1, 2.8.2, 2.8.3, 2.8.4, 2.9.0rc0, 2.9.0rc1, 2.9.0rc2, 2.9.0, 2.9.1, 2.9.2, 2.9.3, 2.10.0rc0, 2.10.0rc1, 2.10.0rc2, 2.10.0rc3, 2.10.0, 2.10.1, 2.11.0rc0, 2.11.0rc1, 2.11.0rc2, 2.11.0, 2.11.1, 2.12.0rc0, 2.12.0rc1, 2.12.0)\u001b[0m\u001b[31m\n",
            "\u001b[0m\u001b[31mERROR: No matching distribution found for tensorflow==2.1.0\u001b[0m\u001b[31m\n",
            "\u001b[0m"
          ]
        }
      ]
    },
    {
      "cell_type": "code",
      "metadata": {
        "id": "hRqs5vc0lGH6",
        "colab": {
          "base_uri": "https://localhost:8080/"
        },
        "outputId": "a5302022-28c1-401c-817d-482939d740eb"
      },
      "source": [
        "import tensorflow as tf\n",
        "print(tf.__version__)"
      ],
      "execution_count": 4,
      "outputs": [
        {
          "output_type": "stream",
          "name": "stdout",
          "text": [
            "2.12.0\n"
          ]
        }
      ]
    },
    {
      "cell_type": "code",
      "metadata": {
        "id": "kkM55uTsc4se",
        "colab": {
          "base_uri": "https://localhost:8080/"
        },
        "outputId": "de5b705c-c6bf-424d-b29f-eddcf5773932"
      },
      "source": [
        "print(tf.keras.__version__)"
      ],
      "execution_count": 5,
      "outputs": [
        {
          "output_type": "stream",
          "name": "stdout",
          "text": [
            "2.12.0\n"
          ]
        }
      ]
    },
    {
      "cell_type": "markdown",
      "metadata": {
        "id": "eXQTUfnozI20"
      },
      "source": [
        "#Importing Dataset"
      ]
    },
    {
      "cell_type": "code",
      "metadata": {
        "id": "fD0awvBrzLVY",
        "colab": {
          "base_uri": "https://localhost:8080/"
        },
        "outputId": "a9c5d96c-19ac-42e5-f2de-6117811e9006"
      },
      "source": [
        "# Read the data\n",
        "data = pd.read_csv(dataset_path+'headliness_ch.csv',encoding='utf-8')\n",
        "print(f'Total number of Documents: {len(data)}')\n",
        "print(data)"
      ],
      "execution_count": 6,
      "outputs": [
        {
          "output_type": "stream",
          "name": "stdout",
          "text": [
            "Total number of Documents: 18\n",
            "                                                 Text    Category  \\\n",
            "0   দেশের ঐতিহ্যবাহী দল বাংলাদেশ আওয়ামী লীগের ২২তম...    Politics   \n",
            "1   চার দিন পরেই দেশের প্রথম মেট্রোরেল উদ্বোধন করা...    Politics   \n",
            "2   শিশুর জন্য দুধ বা দুগ্ধজাতীয় খাবার খুবই উপকারী...      Health   \n",
            "3   ফলে আমাদের পাকস্থলী সহজে একে শোষণ করতে পারে। শ...      Health   \n",
            "4   বাংলাদেশের বাজারে শতভাগ পুনর্ব্যবহৃত বা রিসাইক...   Corporate   \n",
            "5   বাংলাদেশ সরকারি কর্ম কমিশন (পিএসসি) একাধিক নন-...  Employment   \n",
            "6   বিসিএসের স্বপ্নপূরণের প্রথম পদক্ষেপ হলো সঠিকভা...      Chakri   \n",
            "7   এখানে একটা সুন্দর বিশ্ববিদ্যালয় (জাহাঙ্গীরনগর ...   Amusement   \n",
            "8           এবার শুটিং সেটে সালমানকে অতএব হত্যাচেষ্টা   Lifestyle   \n",
            "9   স্মৃতি। অনেক অনেক স্মৃতি, যেগুলো পুরোনো অনেক স...   Lifestyle   \n",
            "10  চিত্রনাট্যটা ছিল উত্থান-পতন, হাসি-কান্না, দ্বন...   Lifestyle   \n",
            "11  কিন্তু তাতে কী? আগে থেকেই তো ঠিক করা আছে, ব্র...     Opinion   \n",
            "12  কেরানীগঞ্জ থেকে সদরঘাট আসতে খুব একটা সময় লাগল ...   Amusement   \n",
            "13  শুধু তা–ই নয়, পছন্দের ক্লাব আর্সেনালের প্রিয় খ...      Sports   \n",
            "14  নিয়ম করে প্রতিনিয়ত একতরফাভাবে অন্যদের ধমক দেওয়...    Accident   \n",
            "15  আর্থিক অনিয়মের কারণে সাম্প্রতিক সময়ে শেয়ারবাজা...    Business   \n",
            "16  জানা যায়, সম্প্রতি কোম্পানিটিতে নিয়োগের জন্য ১...    Business   \n",
            "17  বুদ্ধি–পরামর্শের জন্য আসেন তাঁর কাছে। নিজে বইপ...         Art   \n",
            "\n",
            "   newspaper name  \n",
            "0        Jugantor  \n",
            "1        Jugantor  \n",
            "2        Jugantor  \n",
            "3        Jugantor  \n",
            "4        Jugantor  \n",
            "5        Jugantor  \n",
            "6        Jugantor  \n",
            "7        Jugantor  \n",
            "8        Jugantor  \n",
            "9        Jugantor  \n",
            "10       Jugantor  \n",
            "11       Jugantor  \n",
            "12       Jugantor  \n",
            "13       Jugantor  \n",
            "14       Jugantor  \n",
            "15       Jugantor  \n",
            "16       Jugantor  \n",
            "17       Jugantor  \n"
          ]
        }
      ]
    },
    {
      "cell_type": "code",
      "metadata": {
        "id": "tsY51cTI0Ou6"
      },
      "source": [
        "data = data[['Text','Category']]"
      ],
      "execution_count": 7,
      "outputs": []
    },
    {
      "cell_type": "code",
      "metadata": {
        "id": "Of-9xsPxzdvm",
        "colab": {
          "base_uri": "https://localhost:8080/",
          "height": 607
        },
        "outputId": "8e669a6f-b85b-477f-d7a2-fde4ed31a112"
      },
      "source": [
        "# Plot the Class distribution\n",
        "sns.set(font_scale=1.4)\n",
        "data['Category'].value_counts().plot(kind='barh', figsize=(8, 6))\n",
        "plt.xlabel(\"Number of Articles\", labelpad=12)\n",
        "plt.ylabel(\"Category\", labelpad=12)\n",
        "plt.yticks(rotation = 45)\n",
        "plt.title(\"Dataset Distribution\", y=1.02);"
      ],
      "execution_count": 8,
      "outputs": [
        {
          "output_type": "display_data",
          "data": {
            "text/plain": [
              "<Figure size 800x600 with 1 Axes>"
            ],
            "image/png": "[encoded data removed]"
          },
          "metadata": {}
        }
      ]
    },
    {
      "cell_type": "markdown",
      "metadata": {
        "id": "P78udrKC0wM3"
      },
      "source": [
        "The dataset has total 12 News Categories data and politics class has maximum number of articles. "
      ]
    },
    {
      "cell_type": "markdown",
      "metadata": {
        "id": "gOUPdVxO1U6q"
      },
      "source": [
        "#Data Preparation and Cleaning"
      ]
    },
    {
      "cell_type": "code",
      "metadata": {
        "id": "4NTMIxZu1EQr"
      },
      "source": [
        "# Cleaning Data [Remove unncessary symbols]\n",
        "def cleaning_documents(articles):\n",
        "      '''\n",
        "      This function will clean the news articles by removing punctuation marks and stopwords.\n",
        "\n",
        "      Args:\n",
        "      articles: a news text(str)\n",
        "\n",
        "      returns:\n",
        "      news: clean text (str)\n",
        "      '''\n",
        "      news = articles.replace('\\n',' ')\n",
        "      news = re.sub('[^\\u0980-\\u09FF]',' ',str(news)) #removing unnecessary punctuation\n",
        "      # stopwords removal\n",
        "      stp = open(path+'bangla_stopwords.txt','r',encoding='utf-8').read().split()\n",
        "      result = news.split()\n",
        "      news = [word.strip() for word in result if word not in stp ]\n",
        "      news =\" \".join(news)\n",
        "      return news"
      ],
      "execution_count": 9,
      "outputs": []
    },
    {
      "cell_type": "code",
      "metadata": {
        "id": "MtfaphnVsJlc",
        "colab": {
          "base_uri": "https://localhost:8080/"
        },
        "outputId": "0fbafaaa-8ac7-4782-93b5-1b7f4bb658d9"
      },
      "source": [
        "# Apply the function into the dataframe\n",
        "data['cleaned'] = data['Text'] \n",
        "print(data)"
      ],
      "execution_count": 10,
      "outputs": [
        {
          "output_type": "stream",
          "name": "stdout",
          "text": [
            "                                                 Text    Category  \\\n",
            "0   দেশের ঐতিহ্যবাহী দল বাংলাদেশ আওয়ামী লীগের ২২তম...    Politics   \n",
            "1   চার দিন পরেই দেশের প্রথম মেট্রোরেল উদ্বোধন করা...    Politics   \n",
            "2   শিশুর জন্য দুধ বা দুগ্ধজাতীয় খাবার খুবই উপকারী...      Health   \n",
            "3   ফলে আমাদের পাকস্থলী সহজে একে শোষণ করতে পারে। শ...      Health   \n",
            "4   বাংলাদেশের বাজারে শতভাগ পুনর্ব্যবহৃত বা রিসাইক...   Corporate   \n",
            "5   বাংলাদেশ সরকারি কর্ম কমিশন (পিএসসি) একাধিক নন-...  Employment   \n",
            "6   বিসিএসের স্বপ্নপূরণের প্রথম পদক্ষেপ হলো সঠিকভা...      Chakri   \n",
            "7   এখানে একটা সুন্দর বিশ্ববিদ্যালয় (জাহাঙ্গীরনগর ...   Amusement   \n",
            "8           এবার শুটিং সেটে সালমানকে অতএব হত্যাচেষ্টা   Lifestyle   \n",
            "9   স্মৃতি। অনেক অনেক স্মৃতি, যেগুলো পুরোনো অনেক স...   Lifestyle   \n",
            "10  চিত্রনাট্যটা ছিল উত্থান-পতন, হাসি-কান্না, দ্বন...   Lifestyle   \n",
            "11  কিন্তু তাতে কী? আগে থেকেই তো ঠিক করা আছে, ব্র...     Opinion   \n",
            "12  কেরানীগঞ্জ থেকে সদরঘাট আসতে খুব একটা সময় লাগল ...   Amusement   \n",
            "13  শুধু তা–ই নয়, পছন্দের ক্লাব আর্সেনালের প্রিয় খ...      Sports   \n",
            "14  নিয়ম করে প্রতিনিয়ত একতরফাভাবে অন্যদের ধমক দেওয়...    Accident   \n",
            "15  আর্থিক অনিয়মের কারণে সাম্প্রতিক সময়ে শেয়ারবাজা...    Business   \n",
            "16  জানা যায়, সম্প্রতি কোম্পানিটিতে নিয়োগের জন্য ১...    Business   \n",
            "17  বুদ্ধি–পরামর্শের জন্য আসেন তাঁর কাছে। নিজে বইপ...         Art   \n",
            "\n",
            "                                              cleaned  \n",
            "0   দেশের ঐতিহ্যবাহী দল বাংলাদেশ আওয়ামী লীগের ২২তম...  \n",
            "1   চার দিন পরেই দেশের প্রথম মেট্রোরেল উদ্বোধন করা...  \n",
            "2   শিশুর জন্য দুধ বা দুগ্ধজাতীয় খাবার খুবই উপকারী...  \n",
            "3   ফলে আমাদের পাকস্থলী সহজে একে শোষণ করতে পারে। শ...  \n",
            "4   বাংলাদেশের বাজারে শতভাগ পুনর্ব্যবহৃত বা রিসাইক...  \n",
            "5   বাংলাদেশ সরকারি কর্ম কমিশন (পিএসসি) একাধিক নন-...  \n",
            "6   বিসিএসের স্বপ্নপূরণের প্রথম পদক্ষেপ হলো সঠিকভা...  \n",
            "7   এখানে একটা সুন্দর বিশ্ববিদ্যালয় (জাহাঙ্গীরনগর ...  \n",
            "8           এবার শুটিং সেটে সালমানকে অতএব হত্যাচেষ্টা  \n",
            "9   স্মৃতি। অনেক অনেক স্মৃতি, যেগুলো পুরোনো অনেক স...  \n",
            "10  চিত্রনাট্যটা ছিল উত্থান-পতন, হাসি-কান্না, দ্বন...  \n",
            "11  কিন্তু তাতে কী? আগে থেকেই তো ঠিক করা আছে, ব্র...  \n",
            "12  কেরানীগঞ্জ থেকে সদরঘাট আসতে খুব একটা সময় লাগল ...  \n",
            "13  শুধু তা–ই নয়, পছন্দের ক্লাব আর্সেনালের প্রিয় খ...  \n",
            "14  নিয়ম করে প্রতিনিয়ত একতরফাভাবে অন্যদের ধমক দেওয়...  \n",
            "15  আর্থিক অনিয়মের কারণে সাম্প্রতিক সময়ে শেয়ারবাজা...  \n",
            "16  জানা যায়, সম্প্রতি কোম্পানিটিতে নিয়োগের জন্য ১...  \n",
            "17  বুদ্ধি–পরামর্শের জন্য আসেন তাঁর কাছে। নিজে বইপ...  \n"
          ]
        }
      ]
    },
    {
      "cell_type": "code",
      "metadata": {
        "id": "0DSYpDzx4rK7",
        "colab": {
          "base_uri": "https://localhost:8080/"
        },
        "outputId": "ff9d131d-ccd6-42af-a48e-e6b044363cd4"
      },
      "source": [
        "# print some cleaned documents from the dataset\n",
        "sample_data = [10]\n",
        "for i in sample_data:\n",
        "  print('Original:\\n',data.Text[i],'\\nCleaned:\\n',\n",
        "           data.cleaned[i],'\\n','Category:-- ',data.Category[i],'\\n')   "
      ],
      "execution_count": 11,
      "outputs": [
        {
          "output_type": "stream",
          "name": "stdout",
          "text": [
            "Original:\n",
            " চিত্রনাট্যটা ছিল উত্থান-পতন, হাসি-কান্না, দ্বন্দ্ব-সংঘাত, ক্লাইমেক্সে ঠাসা। অক্সফোর্ড বলবে, এবার চ্যাম্পিয়ন হবে ব্রাজিল। ফাইনাল হবে বেলজিয়ামের সঙ্গে। আর ফিফার গেমসাইট বলবে, এবার চ্যাম্পিয়ন হবে আর্জেন্টিনা। এর আগের দুবারও ফিফা গেম যা বলেছিল, তা-ই হয়েছে। জার্মানি এবং ফ্রান্স চ্যাম্পিয়ন হবে, এই ছিল তাদের ভবিষ্যদ্বাণী। এবার তাদের পূর্বাভাস ছিল, চ্যাম্পিয়ন হবে আর্জেন্টিনা। ফিফা গেমের ভবিষ্যদ্বাণী কি আর বৃথা যায়? \n",
            "Cleaned:\n",
            " চিত্রনাট্যটা ছিল উত্থান-পতন, হাসি-কান্না, দ্বন্দ্ব-সংঘাত, ক্লাইমেক্সে ঠাসা। অক্সফোর্ড বলবে, এবার চ্যাম্পিয়ন হবে ব্রাজিল। ফাইনাল হবে বেলজিয়ামের সঙ্গে। আর ফিফার গেমসাইট বলবে, এবার চ্যাম্পিয়ন হবে আর্জেন্টিনা। এর আগের দুবারও ফিফা গেম যা বলেছিল, তা-ই হয়েছে। জার্মানি এবং ফ্রান্স চ্যাম্পিয়ন হবে, এই ছিল তাদের ভবিষ্যদ্বাণী। এবার তাদের পূর্বাভাস ছিল, চ্যাম্পিয়ন হবে আর্জেন্টিনা। ফিফা গেমের ভবিষ্যদ্বাণী কি আর বৃথা যায়? \n",
            " Category:--  Lifestyle \n",
            "\n"
          ]
        }
      ]
    },
    {
      "cell_type": "code",
      "metadata": {
        "id": "CkJC0Qza6Ngk"
      },
      "source": [
        "# Stopwords pickle \n",
        "stp = open(path+'bangla_stopwords.txt','r',encoding='utf-8').read().split()\n",
        "# open a file, where you ant to store the data\n",
        "file = open(path+'bangla_stopwords.pkl', 'wb')\n",
        "# dump information to that file\n",
        "pickle.dump(stp, file)"
      ],
      "execution_count": 15,
      "outputs": []
    },
    {
      "cell_type": "code",
      "metadata": {
        "id": "bjetvNZG6dAL",
        "colab": {
          "base_uri": "https://localhost:8080/"
        },
        "outputId": "136e7872-14d4-4fee-c846-52f78d2b9db7"
      },
      "source": [
        "stp = open(path+'bangla_stopwords.pkl','rb')\n",
        "stp = pickle.load(stp)\n",
        "len(stp)"
      ],
      "execution_count": 16,
      "outputs": [
        {
          "output_type": "execute_result",
          "data": {
            "text/plain": [
              "398"
            ]
          },
          "metadata": {},
          "execution_count": 16
        }
      ]
    },
    {
      "cell_type": "markdown",
      "metadata": {
        "id": "5_cNNTmL5w-J"
      },
      "source": [
        "## Handle Low Length Documents"
      ]
    },
    {
      "cell_type": "code",
      "metadata": {
        "id": "PCVoq9WZ53Y3",
        "colab": {
          "base_uri": "https://localhost:8080/"
        },
        "outputId": "0c756d68-0a2a-4335-9e8e-720afcf40d54"
      },
      "source": [
        "# Calculate the Length of each Document\n",
        "data['Length'] = data.cleaned.apply(lambda x:len(x.split()))\n",
        "\n",
        "# Remove the Documents with least words\n",
        "dataset = data.loc[data.Length>2]\n",
        "dataset = dataset.reset_index(drop = True)\n",
        "print(\"After Cleaning:\",\"\\nRemoved {} Small Documents\".format(len(data)-len(dataset)),\n",
        "      \"\\nTotal Remaining Documents:\",len(dataset))"
      ],
      "execution_count": 17,
      "outputs": [
        {
          "output_type": "stream",
          "name": "stdout",
          "text": [
            "After Cleaning: \n",
            "Removed 0 Small Documents \n",
            "Total Remaining Documents: 18\n"
          ]
        }
      ]
    },
    {
      "cell_type": "code",
      "metadata": {
        "id": "_spgtq0VY3QH"
      },
      "source": [
        "# Save the Cleaned data for reuse\n",
        "dataset.to_csv(dataset_path+'cleaned_news.csv')"
      ],
      "execution_count": 18,
      "outputs": []
    },
    {
      "cell_type": "code",
      "metadata": {
        "id": "fUZv0LqMZViI",
        "colab": {
          "base_uri": "https://localhost:8080/"
        },
        "outputId": "910aa0da-620d-48f7-ba03-2c4fdbb5b0ac"
      },
      "source": [
        "# Load the Cleaned News\n",
        "dataset = pd.read_csv(dataset_path+'cleaned_news.csv')\n",
        "dataset.columns"
      ],
      "execution_count": 19,
      "outputs": [
        {
          "output_type": "execute_result",
          "data": {
            "text/plain": [
              "Index(['Unnamed: 0', 'Text', 'Category', 'cleaned', 'Length'], dtype='object')"
            ]
          },
          "metadata": {},
          "execution_count": 19
        }
      ]
    },
    {
      "cell_type": "markdown",
      "metadata": {
        "id": "HgW31ZhL5IwU"
      },
      "source": [
        "#Document Length Distribution"
      ]
    },
    {
      "cell_type": "code",
      "metadata": {
        "id": "tj0bVmRn5M50",
        "colab": {
          "base_uri": "https://localhost:8080/",
          "height": 462
        },
        "outputId": "205008ab-5055-492a-e9e0-53971b07d567"
      },
      "source": [
        "import matplotlib\n",
        "matplotlib.rc_file_defaults()\n",
        "frequency = dict()\n",
        "for i in dataset.Length:\n",
        "    frequency[i] = frequency.get(i, 0)+1\n",
        "\n",
        "plt.figure(figsize = (6,4))\n",
        "plt.bar(frequency.keys(), frequency.values(), color=(0.2, 0.4, 0.6, 0.6))\n",
        "plt.xlim(21, 700)\n",
        "# in this notbook color is not working but it should work.\n",
        "plt.xlabel('Length of the Documents')\n",
        "plt.ylabel('Frequency')\n",
        "plt.title('Length-Frequency Distribution')\n",
        "#plt.savefig(path+'len_dist.png',dpi = 1000,bbox_inches ='tight')\n",
        "plt.show()  \n",
        "print(f\"Maximum Length of a Document: {max(dataset.Length)}\")\n",
        "print(f\"Minimum Length of a Document: {min(dataset.Length)}\")\n",
        "print(f\"Average Length of a Document: {round(np.mean(dataset.Length),0)}\")\n"
      ],
      "execution_count": 20,
      "outputs": [
        {
          "output_type": "display_data",
          "data": {
            "text/plain": [
              "<Figure size 600x400 with 1 Axes>"
            ],
            "image/png": "[encoded data removed]"
          },
          "metadata": {}
        },
        {
          "output_type": "stream",
          "name": "stdout",
          "text": [
            "Maximum Length of a Document: 73\n",
            "Minimum Length of a Document: 6\n",
            "Average Length of a Document: 44.0\n"
          ]
        }
      ]
    },
    {
      "cell_type": "markdown",
      "metadata": {
        "id": "pImiPM1IRBsE"
      },
      "source": [
        "# Dataset Summary"
      ]
    },
    {
      "cell_type": "code",
      "metadata": {
        "id": "0m3e8DctREzS",
        "colab": {
          "base_uri": "https://localhost:8080/"
        },
        "outputId": "e0b0147b-3be7-442e-f329-607ff117b23f"
      },
      "source": [
        "def data_summary(dataset):\n",
        "  '''\n",
        "  This function will print the summary of the dataset\n",
        "\n",
        "  Args:\n",
        "  dataset: cleaned texts\n",
        "\n",
        "  returns:\n",
        "  documents: Number of document per class\n",
        "  words: Number of words per class\n",
        "  u_words: Number of unique words per class\n",
        "  class_label: name of the categories\n",
        "  '''\n",
        "  documents = []\n",
        "  words = []\n",
        "  u_words = []\n",
        "  #total_u_word = [word.strip().lower() for t in list(dataset.cleaned) for word in t.strip().split()]\n",
        "  # find class names\n",
        "  class_label = [k for k,v in dataset.Category.value_counts().to_dict().items()]\n",
        "  for label in class_label: \n",
        "    word_list = [word.strip().lower() for t in list(dataset[dataset.Category==label].cleaned) for word in t.strip().split()]\n",
        "    counts = dict()\n",
        "    for word in word_list:\n",
        "      counts[word] = counts.get(word, 0)+1\n",
        "    # sort the dictionary of word list  \n",
        "    ordered = sorted(counts.items(), key= lambda item: item[1],reverse = True)\n",
        "    # Documents per class\n",
        "    documents.append(len(list(dataset[dataset.Category==label].cleaned)))\n",
        "    # Total Word per class\n",
        "    words.append(len(word_list))\n",
        "    # Unique words per class \n",
        "    u_words.append(len(np.unique(word_list)))\n",
        "       \n",
        "    print(\"\\nClass Name : \",label)\n",
        "    print(\"Number of Documents:{}\".format(len(list(dataset[dataset.Category==label].cleaned))))  \n",
        "    print(\"Number of Words:{}\".format(len(word_list))) \n",
        "    print(\"Number of Unique Words:{}\".format(len(np.unique(word_list)))) \n",
        "    print(\"Most Frequent Words:\\n\")\n",
        "    for k,v in ordered[:10]:\n",
        "      print(\"{}\\t{}\".format(k,v))\n",
        "  return documents,words,u_words,class_label\n",
        "\n",
        "# pass the whole dataset into the function\n",
        "\n",
        "documents,words,u_words,class_names = data_summary(dataset)"
      ],
      "execution_count": 21,
      "outputs": [
        {
          "output_type": "stream",
          "name": "stdout",
          "text": [
            "\n",
            "Class Name :  Lifestyle\n",
            "Number of Documents:3\n",
            "Number of Words:104\n",
            "Number of Unique Words:85\n",
            "Most Frequent Words:\n",
            "\n",
            "এবার\t4\n",
            "চ্যাম্পিয়ন\t4\n",
            "হবে\t4\n",
            "অনেক\t3\n",
            "আর\t3\n",
            "এটা\t2\n",
            "ছিল\t2\n",
            "বলবে,\t2\n",
            "আর্জেন্টিনা।\t2\n",
            "ফিফা\t2\n",
            "\n",
            "Class Name :  Politics\n",
            "Number of Documents:2\n",
            "Number of Words:64\n",
            "Number of Unique Words:59\n",
            "Most Frequent Words:\n",
            "\n",
            "দেশের\t2\n",
            "সম্মেলন\t2\n",
            "শুরু\t2\n",
            "সেবা\t2\n",
            "মোবাইল\t2\n",
            "ঐতিহ্যবাহী\t1\n",
            "দল\t1\n",
            "বাংলাদেশ\t1\n",
            "আওয়ামী\t1\n",
            "লীগের\t1\n",
            "\n",
            "Class Name :  Health\n",
            "Number of Documents:2\n",
            "Number of Words:97\n",
            "Number of Unique Words:76\n",
            "Most Frequent Words:\n",
            "\n",
            "ও\t3\n",
            "দুধে\t3\n",
            "অসহিষ্ণুতা\t3\n",
            "ল্যাকটোজ\t3\n",
            "শিশুর\t2\n",
            "জন্য\t2\n",
            "দুধ\t2\n",
            "বা\t2\n",
            "দুগ্ধজাতীয়\t2\n",
            "খাবার\t2\n",
            "\n",
            "Class Name :  Amusement\n",
            "Number of Documents:2\n",
            "Number of Words:96\n",
            "Number of Unique Words:86\n",
            "Most Frequent Words:\n",
            "\n",
            "একটা\t3\n",
            "আর\t2\n",
            "কোনো\t2\n",
            "ঘুরে\t2\n",
            "চেষ্টা\t2\n",
            "করছি।\t2\n",
            "সময়\t2\n",
            "নেই।\t2\n",
            "ফাঁকা\t2\n",
            "এখানে\t1\n",
            "\n",
            "Class Name :  Business\n",
            "Number of Documents:2\n",
            "Number of Words:74\n",
            "Number of Unique Words:66\n",
            "Most Frequent Words:\n",
            "\n",
            "বিনিয়োগ\t2\n",
            "করা\t2\n",
            "বাংলাদেশ\t2\n",
            "নিয়োগের\t2\n",
            "জন্য\t2\n",
            "স্বতন্ত্র\t2\n",
            "পরিচালকের\t2\n",
            "তালিকা\t2\n",
            "আর্থিক\t1\n",
            "অনিয়মের\t1\n",
            "\n",
            "Class Name :  Corporate\n",
            "Number of Documents:1\n",
            "Number of Words:52\n",
            "Number of Unique Words:51\n",
            "Most Frequent Words:\n",
            "\n",
            "কোকাকোলার\t2\n",
            "বাংলাদেশের\t1\n",
            "বাজারে\t1\n",
            "শতভাগ\t1\n",
            "পুনর্ব্যবহৃত\t1\n",
            "বা\t1\n",
            "রিসাইকেল্ড\t1\n",
            "পিইটি\t1\n",
            "প্লাস্টিকের\t1\n",
            "তৈরি\t1\n",
            "\n",
            "Class Name :  Employment\n",
            "Number of Documents:1\n",
            "Number of Words:40\n",
            "Number of Unique Words:38\n",
            "Most Frequent Words:\n",
            "\n",
            "পদে\t2\n",
            "হবে।\t2\n",
            "বাংলাদেশ\t1\n",
            "সরকারি\t1\n",
            "কর্ম\t1\n",
            "কমিশন\t1\n",
            "(পিএসসি)\t1\n",
            "একাধিক\t1\n",
            "নন-ক্যাডার\t1\n",
            "জনবল\t1\n",
            "\n",
            "Class Name :  Chakri\n",
            "Number of Documents:1\n",
            "Number of Words:39\n",
            "Number of Unique Words:33\n",
            "Most Frequent Words:\n",
            "\n",
            "ফরম\t3\n",
            "বিসিএসের\t2\n",
            "সঠিকভাবে\t2\n",
            "আবেদন\t2\n",
            "পূরণ\t2\n",
            "স্বপ্নপূরণের\t1\n",
            "প্রথম\t1\n",
            "পদক্ষেপ\t1\n",
            "হলো\t1\n",
            "করা।\t1\n",
            "\n",
            "Class Name :  Opinion\n",
            "Number of Documents:1\n",
            "Number of Words:73\n",
            "Number of Unique Words:63\n",
            "Most Frequent Words:\n",
            "\n",
            "আগে\t3\n",
            "আর\t3\n",
            "থেকেই\t2\n",
            "ব্রাজিল\t2\n",
            "মুখোমুখি\t2\n",
            "কোন\t2\n",
            "দিকে\t2\n",
            "গেল।\t2\n",
            "কিন্তু\t1\n",
            "তাতে\t1\n",
            "\n",
            "Class Name :  Sports\n",
            "Number of Documents:1\n",
            "Number of Words:55\n",
            "Number of Unique Words:52\n",
            "Most Frequent Words:\n",
            "\n",
            "সৌরভ\t2\n",
            "গাঙ্গুলীর\t2\n",
            "জার্সিটি\t2\n",
            "শুধু\t1\n",
            "তা–ই\t1\n",
            "নয়,\t1\n",
            "পছন্দের\t1\n",
            "ক্লাব\t1\n",
            "আর্সেনালের\t1\n",
            "প্রিয়\t1\n",
            "\n",
            "Class Name :  Accident\n",
            "Number of Documents:1\n",
            "Number of Words:62\n",
            "Number of Unique Words:55\n",
            "Most Frequent Words:\n",
            "\n",
            "চীনের\t3\n",
            "করে\t2\n",
            "অবশ্যই\t2\n",
            "করতে\t2\n",
            "পররাষ্ট্রমন্ত্রী\t2\n",
            "সঙ্গে\t2\n",
            "নিয়ম\t1\n",
            "প্রতিনিয়ত\t1\n",
            "একতরফাভাবে\t1\n",
            "অন্যদের\t1\n",
            "\n",
            "Class Name :  Art\n",
            "Number of Documents:1\n",
            "Number of Words:38\n",
            "Number of Unique Words:35\n",
            "Most Frequent Words:\n",
            "\n",
            "জন্য\t2\n",
            "এ\t2\n",
            "ও\t2\n",
            "বুদ্ধি–পরামর্শের\t1\n",
            "আসেন\t1\n",
            "তাঁর\t1\n",
            "কাছে।\t1\n",
            "নিজে\t1\n",
            "বইপত্র\t1\n",
            "পড়ে,\t1\n"
          ]
        }
      ]
    },
    {
      "cell_type": "code",
      "metadata": {
        "id": "foyQX8RRWnZ8",
        "colab": {
          "base_uri": "https://localhost:8080/",
          "height": 426
        },
        "outputId": "194ff628-9e5b-456e-f893-9615f1714330"
      },
      "source": [
        "data_matrix = pd.DataFrame({'Total Documents':documents,\n",
        "                            'Total Words':words,\n",
        "                            'Unique Words':u_words,\n",
        "                            'Class Names':class_names})\n",
        "data_matrix"
      ],
      "execution_count": 22,
      "outputs": [
        {
          "output_type": "execute_result",
          "data": {
            "text/plain": [
              "    Total Documents  Total Words  Unique Words Class Names\n",
              "0                 3          104            85   Lifestyle\n",
              "1                 2           64            59    Politics\n",
              "2                 2           97            76      Health\n",
              "3                 2           96            86   Amusement\n",
              "4                 2           74            66    Business\n",
              "5                 1           52            51   Corporate\n",
              "6                 1           40            38  Employment\n",
              "7                 1           39            33      Chakri\n",
              "8                 1           73            63     Opinion\n",
              "9                 1           55            52      Sports\n",
              "10                1           62            55    Accident\n",
              "11                1           38            35         Art"
            ],
            "text/html": [
              "\n",
              "  <div id=\"df-0442b72f-b031-4df1-a038-c849ef3f1c1e\">\n",
              "    <div class=\"colab-df-container\">\n",
              "      <div>\n",
              "<style scoped>\n",
              "    .dataframe tbody tr th:only-of-type {\n",
              "        vertical-align: middle;\n",
              "    }\n",
              "\n",
              "    .dataframe tbody tr th {\n",
              "        vertical-align: top;\n",
              "    }\n",
              "\n",
              "    .dataframe thead th {\n",
              "        text-align: right;\n",
              "    }\n",
              "</style>\n",
              "<table border=\"1\" class=\"dataframe\">\n",
              "  <thead>\n",
              "    <tr style=\"text-align: right;\">\n",
              "      <th></th>\n",
              "      <th>Total Documents</th>\n",
              "      <th>Total Words</th>\n",
              "      <th>Unique Words</th>\n",
              "      <th>Class Names</th>\n",
              "    </tr>\n",
              "  </thead>\n",
              "  <tbody>\n",
              "    <tr>\n",
              "      <th>0</th>\n",
              "      <td>3</td>\n",
              "      <td>104</td>\n",
              "      <td>85</td>\n",
              "      <td>Lifestyle</td>\n",
              "    </tr>\n",
              "    <tr>\n",
              "      <th>1</th>\n",
              "      <td>2</td>\n",
              "      <td>64</td>\n",
              "      <td>59</td>\n",
              "      <td>Politics</td>\n",
              "    </tr>\n",
              "    <tr>\n",
              "      <th>2</th>\n",
              "      <td>2</td>\n",
              "      <td>97</td>\n",
              "      <td>76</td>\n",
              "      <td>Health</td>\n",
              "    </tr>\n",
              "    <tr>\n",
              "      <th>3</th>\n",
              "      <td>2</td>\n",
              "      <td>96</td>\n",
              "      <td>86</td>\n",
              "      <td>Amusement</td>\n",
              "    </tr>\n",
              "    <tr>\n",
              "      <th>4</th>\n",
              "      <td>2</td>\n",
              "      <td>74</td>\n",
              "      <td>66</td>\n",
              "      <td>Business</td>\n",
              "    </tr>\n",
              "    <tr>\n",
              "      <th>5</th>\n",
              "      <td>1</td>\n",
              "      <td>52</td>\n",
              "      <td>51</td>\n",
              "      <td>Corporate</td>\n",
              "    </tr>\n",
              "    <tr>\n",
              "      <th>6</th>\n",
              "      <td>1</td>\n",
              "      <td>40</td>\n",
              "      <td>38</td>\n",
              "      <td>Employment</td>\n",
              "    </tr>\n",
              "    <tr>\n",
              "      <th>7</th>\n",
              "      <td>1</td>\n",
              "      <td>39</td>\n",
              "      <td>33</td>\n",
              "      <td>Chakri</td>\n",
              "    </tr>\n",
              "    <tr>\n",
              "      <th>8</th>\n",
              "      <td>1</td>\n",
              "      <td>73</td>\n",
              "      <td>63</td>\n",
              "      <td>Opinion</td>\n",
              "    </tr>\n",
              "    <tr>\n",
              "      <th>9</th>\n",
              "      <td>1</td>\n",
              "      <td>55</td>\n",
              "      <td>52</td>\n",
              "      <td>Sports</td>\n",
              "    </tr>\n",
              "    <tr>\n",
              "      <th>10</th>\n",
              "      <td>1</td>\n",
              "      <td>62</td>\n",
              "      <td>55</td>\n",
              "      <td>Accident</td>\n",
              "    </tr>\n",
              "    <tr>\n",
              "      <th>11</th>\n",
              "      <td>1</td>\n",
              "      <td>38</td>\n",
              "      <td>35</td>\n",
              "      <td>Art</td>\n",
              "    </tr>\n",
              "  </tbody>\n",
              "</table>\n",
              "</div>\n",
              "      <button class=\"colab-df-convert\" onclick=\"convertToInteractive('df-0442b72f-b031-4df1-a038-c849ef3f1c1e')\"\n",
              "              title=\"Convert this dataframe to an interactive table.\"\n",
              "              style=\"display:none;\">\n",
              "        \n",
              "  <svg xmlns=\"http://www.w3.org/2000/svg\" height=\"24px\"viewBox=\"0 0 24 24\"\n",
              "       width=\"24px\">\n",
              "    <path d=\"M0 0h24v24H0V0z\" fill=\"none\"/>\n",
              "    <path d=\"M18.56 5.44l.94 2.06.94-2.06 2.06-.94-2.06-.94-.94-2.06-.94 2.06-2.06.94zm-11 1L8.5 8.5l.94-2.06 2.06-.94-2.06-.94L8.5 2.5l-.94 2.06-2.06.94zm10 10l.94 2.06.94-2.06 2.06-.94-2.06-.94-.94-2.06-.94 2.06-2.06.94z\"/><path d=\"M17.41 7.96l-1.37-1.37c-.4-.4-.92-.59-1.43-.59-.52 0-1.04.2-1.43.59L10.3 9.45l-7.72 7.72c-.78.78-.78 2.05 0 2.83L4 21.41c.39.39.9.59 1.41.59.51 0 1.02-.2 1.41-.59l7.78-7.78 2.81-2.81c.8-.78.8-2.07 0-2.86zM5.41 20L4 18.59l7.72-7.72 1.47 1.35L5.41 20z\"/>\n",
              "  </svg>\n",
              "      </button>\n",
              "      \n",
              "  <style>\n",
              "    .colab-df-container {\n",
              "      display:flex;\n",
              "      flex-wrap:wrap;\n",
              "      gap: 12px;\n",
              "    }\n",
              "\n",
              "    .colab-df-convert {\n",
              "      background-color: #E8F0FE;\n",
              "      border: none;\n",
              "      border-radius: 50%;\n",
              "      cursor: pointer;\n",
              "      display: none;\n",
              "      fill: #1967D2;\n",
              "      height: 32px;\n",
              "      padding: 0 0 0 0;\n",
              "      width: 32px;\n",
              "    }\n",
              "\n",
              "    .colab-df-convert:hover {\n",
              "      background-color: #E2EBFA;\n",
              "      box-shadow: 0px 1px 2px rgba(60, 64, 67, 0.3), 0px 1px 3px 1px rgba(60, 64, 67, 0.15);\n",
              "      fill: #174EA6;\n",
              "    }\n",
              "\n",
              "    [theme=dark] .colab-df-convert {\n",
              "      background-color: #3B4455;\n",
              "      fill: #D2E3FC;\n",
              "    }\n",
              "\n",
              "    [theme=dark] .colab-df-convert:hover {\n",
              "      background-color: #434B5C;\n",
              "      box-shadow: 0px 1px 3px 1px rgba(0, 0, 0, 0.15);\n",
              "      filter: drop-shadow(0px 1px 2px rgba(0, 0, 0, 0.3));\n",
              "      fill: #FFFFFF;\n",
              "    }\n",
              "  </style>\n",
              "\n",
              "      <script>\n",
              "        const buttonEl =\n",
              "          document.querySelector('#df-0442b72f-b031-4df1-a038-c849ef3f1c1e button.colab-df-convert');\n",
              "        buttonEl.style.display =\n",
              "          google.colab.kernel.accessAllowed ? 'block' : 'none';\n",
              "\n",
              "        async function convertToInteractive(key) {\n",
              "          const element = document.querySelector('#df-0442b72f-b031-4df1-a038-c849ef3f1c1e');\n",
              "          const dataTable =\n",
              "            await google.colab.kernel.invokeFunction('convertToInteractive',\n",
              "                                                     [key], {});\n",
              "          if (!dataTable) return;\n",
              "\n",
              "          const docLinkHtml = 'Like what you see? Visit the ' +\n",
              "            '<a target=\"_blank\" href=https://colab.research.google.com/notebooks/data_table.ipynb>data table notebook</a>'\n",
              "            + ' to learn more about interactive tables.';\n",
              "          element.innerHTML = '';\n",
              "          dataTable['output_type'] = 'display_data';\n",
              "          await google.colab.output.renderOutput(dataTable, element);\n",
              "          const docLink = document.createElement('div');\n",
              "          docLink.innerHTML = docLinkHtml;\n",
              "          element.appendChild(docLink);\n",
              "        }\n",
              "      </script>\n",
              "    </div>\n",
              "  </div>\n",
              "  "
            ]
          },
          "metadata": {},
          "execution_count": 22
        }
      ]
    },
    {
      "cell_type": "markdown",
      "metadata": {
        "id": "W0a69zaVcutK"
      },
      "source": [
        "## Data Summary Visualization"
      ]
    },
    {
      "cell_type": "code",
      "metadata": {
        "id": "M1nueRICc0yO",
        "colab": {
          "base_uri": "https://localhost:8080/",
          "height": 789
        },
        "outputId": "2e2b65b4-2afa-4be4-aac2-31af22f5af03"
      },
      "source": [
        "sns.set()\n",
        "plt.figure(figsize =(10, 8))\n",
        "ax = plt.subplot()\n",
        "sns.heatmap(data_matrix.iloc[:,0:3], annot=True,fmt=\"d\", linewidths=0.5,linecolor = 'Black',cmap = \"YlGnBu\",ax = ax)\n",
        "# labels, title and ticks\n",
        "ax.set_ylabel('Class Names') \n",
        "ax.set_title('Data Statistics')\n",
        "y_label = [\"Total Documents\", \"Total Words\", \"Unique Words\"] \n",
        "ax.xaxis.set_ticklabels(y_label, rotation=45); ax.yaxis.set_ticklabels(class_names, rotation=45);\n",
        "ax.xaxis.tick_top()\n"
      ],
      "execution_count": 23,
      "outputs": [
        {
          "output_type": "display_data",
          "data": {
            "text/plain": [
              "<Figure size 1000x800 with 2 Axes>"
            ],
            "image/png": "[encoded data removed]"
          },
          "metadata": {}
        }
      ]
    },
    {
      "cell_type": "markdown",
      "metadata": {
        "id": "3tA2UPuHdwj8"
      },
      "source": [
        "#Label Encoding and Dataset Splitting"
      ]
    },
    {
      "cell_type": "code",
      "metadata": {
        "id": "1TOvXC5gd02a"
      },
      "source": [
        "                   #===========================================================\n",
        "                   ################# Label Encoding Function ##################\n",
        "                   #===========================================================\n",
        "def label_encoding(dataset,bool):\n",
        "  '''\n",
        "  This function will convert categorical class names into a numeric label\n",
        "\n",
        "  Args:\n",
        "  dataset: A dataset\n",
        "  bool : a boolean (True or False)\n",
        "\n",
        "  returns:\n",
        "  labels: encoded labels \n",
        "  '''\n",
        "  le = LabelEncoder()\n",
        "  le.fit(dataset.Category)\n",
        "  encoded_labels = le.transform(dataset.Category)\n",
        "  labels = np.array(encoded_labels) # Converting into numpy array\n",
        "  class_names =le.classes_ ## Define the class names again\n",
        "  if bool == True:\n",
        "    print(color.BOLD+\"\\n\\t\\t\\t===== Label Encoding =====\"+color.END,\"\\nClass Names:-->\",le.classes_)\n",
        "  return labels  \n",
        "\n",
        "                   #===========================================================\n",
        "                   ################# Dataset Splitting Function ###############\n",
        "                   #=========================================================== \n",
        "\n",
        "def dataset_split(news,category):\n",
        "  '''\n",
        "  This function will split the dataset into Train-Test-Validation set\n",
        "\n",
        "  Args:\n",
        "  news: encoded texts\n",
        "  category: class names\n",
        "\n",
        "  returns:\n",
        "  X_train: Encoded Training News  \n",
        "  X_valid: Encoded Validation News\n",
        "  X_test:  Encoded Test news\n",
        "  y_train: Encoded Training labels\n",
        "  y_valid: Encoded Validation labels\n",
        "  y_test:  Encoded Test labels\n",
        "  '''\n",
        "\n",
        "  X,X_test,y,y_test = train_test_split(news,category,train_size = 0.9,\n",
        "                                                  test_size = 0.1,random_state =0)\n",
        "  X_train,X_valid,y_train,y_valid = train_test_split(X,y,train_size = 0.8,\n",
        "                                                  test_size = 0.2,random_state =0)\n",
        "  print(color.BOLD+\"Feature Size :======>\"+color.END,X_train.shape[1])\n",
        "  print(color.BOLD+\"\\nDataset Distribution:\\n\"+color.END)\n",
        "  print(\"\\tSet Name\",\"\\t\\tSize\")\n",
        "  print(\"\\t========\\t\\t======\")\n",
        "\n",
        "  print(\"\\tFull\\t\\t\\t\",news.shape[0],\n",
        "        \"\\n\\tTraining\\t\\t\",X_train.shape[0],\n",
        "        \"\\n\\tTest\\t\\t\\t\",X_test.shape[0],\n",
        "        \"\\n\\tValidation\\t\\t\",X_valid.shape[0])\n",
        "  \n",
        "  return X_train,X_valid,X_test,y_train,y_valid,y_test\n"
      ],
      "execution_count": 24,
      "outputs": []
    },
    {
      "cell_type": "markdown",
      "metadata": {
        "id": "K3_QvYEEeOrQ"
      },
      "source": [
        "#Tokenizer"
      ]
    },
    {
      "cell_type": "code",
      "metadata": {
        "id": "1wYmxJ7UeQZ0",
        "colab": {
          "base_uri": "https://localhost:8080/"
        },
        "outputId": "c886363a-01f1-4f11-b6c8-95497cc1ba86"
      },
      "source": [
        "def encoded_texts(dataset,padding_length,max_words):\n",
        "\n",
        "  '''\n",
        "  This function will encoded the text into a sequence of numbers\n",
        "\n",
        "  Args:\n",
        "  dataset: a dataset\n",
        "  padding_length: maximum length of a encoded texte\n",
        "  max_words : Number of words \n",
        "\n",
        "  returns:\n",
        "  corpus: Number of encoded texts\n",
        "  labels: encoded labels\n",
        "  '''\n",
        "  \n",
        "  tokenizer = Tokenizer(num_words = max_words, filters='!\"#$%&()*+,-./:;<=>?@[\\\\]^_`{|}~\\t\\n-', \n",
        "                      split=' ', char_level=False, oov_token='<oov>', document_count=0)\n",
        "  \n",
        " \n",
        "\n",
        " # Fit the tokenizer\n",
        "  tokenizer.fit_on_texts(dataset.cleaned)\n",
        "  #============================== Tokenizer Info =================================\n",
        "  (word_counts,word_docs,word_index,document_count) = (tokenizer.word_counts,\n",
        "                                                       tokenizer.word_docs,\n",
        "                                                       tokenizer.word_index,\n",
        "                                                       tokenizer.document_count)\n",
        "  def tokenizer_info(mylist,bool):\n",
        "    ordered = sorted(mylist.items(), key= lambda item: item[1],reverse = bool)\n",
        "    for w,c in ordered[:10]:\n",
        "      print(w,\"\\t\",c)\n",
        "  #=============================== Print all the information =========================\n",
        "  print(color.BOLD+\"\\t\\t\\t====== Tokenizer Info ======\"+color.END)   \n",
        "  print(\"Words --> Counts:\")\n",
        "  tokenizer_info(word_counts,bool =True )\n",
        "  print(\"\\nWords --> Documents:\")\n",
        "  tokenizer_info(word_docs,bool =True )\n",
        "  print(\"\\nWords --> Index:\")\n",
        "  tokenizer_info(word_index,bool =True )    \n",
        "  print(\"\\nTotal Documents -->\",document_count)\n",
        "\n",
        "  #=========================== Convert string into list of integer indices =================\n",
        "  sequences = tokenizer.texts_to_sequences(dataset.cleaned)\n",
        "  word_index = tokenizer.word_index\n",
        "  print(color.BOLD+\"\\n\\t\\t\\t====== Encoded Sequences ======\"+color.END,\"\\nFound {} unique tokens\".format(len(word_index)))  \n",
        "  # print(dataset.cleaned[10],\"\\n\",sequences[10]) \n",
        "\n",
        "  #==================================== Pad Sequences ============================== \n",
        "  corpus = keras.preprocessing.sequence.pad_sequences(sequences, value=0.0,\n",
        "                                                      padding='post', maxlen= padding_length)\n",
        "  # print(\"\\n\\t\\t\\t====== Paded Sequences ======\\n\",dataset.cleaned[10],\"\\n\",corpus[10])   \n",
        "\n",
        "  #=================================     Label Encoding ================================\n",
        "  labels = label_encoding(dataset,True)\n",
        "\n",
        "   # save the tokenizer into a pickle file\n",
        "  with open(path+'tokenizer.pickle', 'wb') as handle:\n",
        "    pickle.dump(tokenizer, handle, protocol=pickle.HIGHEST_PROTOCOL)\n",
        "\n",
        "  return corpus,labels\n",
        "  \n",
        "#call the function\n",
        "num_words = 5000\n",
        "corpus,labels = encoded_texts(dataset,\n",
        "                                300,num_words)\n",
        "print(\"\\nShape of Encoded Corpus =====>\",corpus.shape)"
      ],
      "execution_count": 25,
      "outputs": [
        {
          "output_type": "stream",
          "name": "stdout",
          "text": [
            "\u001b[1m\t\t\t====== Tokenizer Info ======\u001b[0m\n",
            "Words --> Counts:\n",
            "হবে \t 9\n",
            "জন্য \t 9\n",
            "করতে \t 8\n",
            "ও \t 8\n",
            "আর \t 8\n",
            "এই \t 5\n",
            "করা \t 5\n",
            "হবে। \t 5\n",
            "এ \t 5\n",
            "দেশের \t 4\n",
            "\n",
            "Words --> Documents:\n",
            "করতে \t 7\n",
            "জন্য \t 7\n",
            "এই \t 5\n",
            "করা \t 5\n",
            "হবে \t 5\n",
            "ও \t 5\n",
            "বাংলাদেশ \t 4\n",
            "দেশের \t 4\n",
            "এ \t 4\n",
            "হবে। \t 4\n",
            "\n",
            "Words --> Index:\n",
            "ডাকেন। \t 598\n",
            "বলেও \t 597\n",
            "শিক্ষক’ \t 596\n",
            "‘কৃষকের \t 595\n",
            "অনেকে \t 594\n",
            "উঠেছেন। \t 593\n",
            "ভরসাস্থল \t 592\n",
            "চাষিদের \t 591\n",
            "তরুণ–যুবক \t 590\n",
            "গ্রামের \t 589\n",
            "\n",
            "Total Documents --> 18\n",
            "\u001b[1m\n",
            "\t\t\t====== Encoded Sequences ======\u001b[0m \n",
            "Found 598 unique tokens\n",
            "\u001b[1m\n",
            "\t\t\t===== Label Encoding =====\u001b[0m \n",
            "Class Names:--> ['Accident' 'Amusement' 'Art' 'Business' 'Chakri' 'Corporate' 'Employment'\n",
            " 'Health' 'Lifestyle' 'Opinion' 'Politics' 'Sports']\n",
            "\n",
            "Shape of Encoded Corpus =====> (18, 300)\n"
          ]
        }
      ]
    },
    {
      "cell_type": "markdown",
      "metadata": {
        "id": "l300dkxyiryZ"
      },
      "source": [
        "**bold text**#Call Dataset Split Function"
      ]
    },
    {
      "cell_type": "code",
      "metadata": {
        "id": "gNEBxFKJiwEv",
        "colab": {
          "base_uri": "https://localhost:8080/"
        },
        "outputId": "0d34436b-6bc1-4985-9268-e0ef7de57ca4"
      },
      "source": [
        "X_train,X_valid,X_test,y_train,y_valid,y_test = dataset_split(corpus,labels)"
      ],
      "execution_count": 26,
      "outputs": [
        {
          "output_type": "stream",
          "name": "stdout",
          "text": [
            "\u001b[1mFeature Size :======>\u001b[0m 300\n",
            "\u001b[1m\n",
            "Dataset Distribution:\n",
            "\u001b[0m\n",
            "\tSet Name \t\tSize\n",
            "\t========\t\t======\n",
            "\tFull\t\t\t 18 \n",
            "\tTraining\t\t 12 \n",
            "\tTest\t\t\t 2 \n",
            "\tValidation\t\t 4\n"
          ]
        }
      ]
    },
    {
      "cell_type": "markdown",
      "metadata": {
        "id": "h-cT7teTjFZU"
      },
      "source": [
        "#Model Defination"
      ]
    },
    {
      "cell_type": "code",
      "metadata": {
        "id": "1p9JST2KBr5V",
        "colab": {
          "base_uri": "https://localhost:8080/"
        },
        "outputId": "55e0c636-d551-465d-a580-ecb46a551bde"
      },
      "source": [
        "\n",
        "embedding_dimension = 128\n",
        "input_length = 300\n",
        "vocab_size = 5000\n",
        "num_classes = 12\n",
        "batch_size = 64\n",
        "num_epochs = 10\n",
        "\n",
        "accuracy_threshold = 0.97\n",
        "\n",
        "\n",
        "class myCallback(keras.callbacks.Callback):\n",
        "  def on_epoch_end(self, epoch, logs={}):\n",
        "      if(logs.get('accuracy')>accuracy_threshold):\n",
        "        print(\"\\nReached %2.2f%% accuracy so we will stop trianing\" % (accuracy_threshold*100))\n",
        "        self.model.stop_training = True\n",
        "\n",
        "acc_callback = myCallback()\n",
        "# Saved the Best Model\n",
        "filepath = path+\"Model.h5\"\n",
        "checkpoint = keras.callbacks.ModelCheckpoint(filepath, monitor='val_accuracy', verbose=2, save_best_only=True, \n",
        "                                             save_weights_only=False, mode='max')\n",
        "# callback list\n",
        "callback_list = [acc_callback, checkpoint] \n",
        "\n",
        "                            ###############################     CNN network architecture ################\n",
        "model = tf.keras.models.Sequential([\n",
        "tf.keras.layers.Embedding(vocab_size, embedding_dimension, input_length = input_length),\n",
        "tf.keras.layers.Conv1D(128, 5, activation= 'relu'),\n",
        "tf.keras.layers.MaxPooling1D(5),\n",
        "tf.keras.layers.Bidirectional(LSTM(64, return_sequences=True,dropout = 0.2)),\n",
        "tf.keras.layers.Bidirectional(LSTM(64, return_sequences=True,dropout = 0.2)),\n",
        "tf.keras.layers.Dense(28, activation='relu'),\n",
        "tf.keras.layers.Dense(14, activation='relu'),\n",
        "keras.layers.Flatten(),\n",
        "tf.keras.layers.Dense(num_classes , activation='softmax')])\n",
        "\n",
        "model.summary()\n",
        "\n",
        "model.compile(optimizer=keras.optimizers.Adam(),\n",
        "    loss='sparse_categorical_crossentropy',\n",
        "    metrics=['accuracy'])\n",
        "   \n",
        "history = model.fit(X_train,\n",
        "    y_train,\n",
        "    epochs=num_epochs,\n",
        "    batch_size = batch_size,\n",
        "    validation_data=(X_valid, y_valid),\n",
        "    verbose =1)\n",
        "    #callbacks = callback_list)\n"
      ],
      "execution_count": 27,
      "outputs": [
        {
          "output_type": "stream",
          "name": "stdout",
          "text": [
            "Model: \"sequential\"\n",
            "_________________________________________________________________\n",
            " Layer (type)                Output Shape              Param #   \n",
            "=================================================================\n",
            " embedding (Embedding)       (None, 300, 128)          640000    \n",
            "                                                                 \n",
            " conv1d (Conv1D)             (None, 296, 128)          82048     \n",
            "                                                                 \n",
            " max_pooling1d (MaxPooling1D  (None, 59, 128)          0         \n",
            " )                                                               \n",
            "                                                                 \n",
            " bidirectional (Bidirectiona  (None, 59, 128)          98816     \n",
            " l)                                                              \n",
            "                                                                 \n",
            " bidirectional_1 (Bidirectio  (None, 59, 128)          98816     \n",
            " nal)                                                            \n",
            "                                                                 \n",
            " dense (Dense)               (None, 59, 28)            3612      \n",
            "                                                                 \n",
            " dense_1 (Dense)             (None, 59, 14)            406       \n",
            "                                                                 \n",
            " flatten (Flatten)           (None, 826)               0         \n",
            "                                                                 \n",
            " dense_2 (Dense)             (None, 12)                9924      \n",
            "                                                                 \n",
            "=================================================================\n",
            "Total params: 933,622\n",
            "Trainable params: 933,622\n",
            "Non-trainable params: 0\n",
            "_________________________________________________________________\n",
            "Epoch 1/10\n",
            "1/1 [==============================] - 21s 21s/step - loss: 2.4855 - accuracy: 0.0833 - val_loss: 2.4764 - val_accuracy: 0.0000e+00\n",
            "Epoch 2/10\n",
            "1/1 [==============================] - 0s 96ms/step - loss: 2.4647 - accuracy: 0.2500 - val_loss: 2.4688 - val_accuracy: 0.2500\n",
            "Epoch 3/10\n",
            "1/1 [==============================] - 0s 82ms/step - loss: 2.4301 - accuracy: 0.1667 - val_loss: 2.4834 - val_accuracy: 0.2500\n",
            "Epoch 4/10\n",
            "1/1 [==============================] - 0s 83ms/step - loss: 2.3787 - accuracy: 0.1667 - val_loss: 2.5463 - val_accuracy: 0.2500\n",
            "Epoch 5/10\n",
            "1/1 [==============================] - 0s 80ms/step - loss: 2.3116 - accuracy: 0.1667 - val_loss: 2.7396 - val_accuracy: 0.2500\n",
            "Epoch 6/10\n",
            "1/1 [==============================] - 0s 84ms/step - loss: 2.2289 - accuracy: 0.1667 - val_loss: 3.1430 - val_accuracy: 0.0000e+00\n",
            "Epoch 7/10\n",
            "1/1 [==============================] - 0s 87ms/step - loss: 2.2014 - accuracy: 0.1667 - val_loss: 3.4033 - val_accuracy: 0.0000e+00\n",
            "Epoch 8/10\n",
            "1/1 [==============================] - 0s 87ms/step - loss: 2.1677 - accuracy: 0.2500 - val_loss: 3.5000 - val_accuracy: 0.0000e+00\n",
            "Epoch 9/10\n",
            "1/1 [==============================] - 0s 83ms/step - loss: 2.0991 - accuracy: 0.3333 - val_loss: 3.5733 - val_accuracy: 0.0000e+00\n",
            "Epoch 10/10\n",
            "1/1 [==============================] - 0s 89ms/step - loss: 2.0700 - accuracy: 0.1667 - val_loss: 3.7121 - val_accuracy: 0.0000e+00\n"
          ]
        }
      ]
    },
    {
      "cell_type": "code",
      "metadata": {
        "id": "ce2NybEGbDB2"
      },
      "source": [
        "# save the model\n",
        "tf.keras.models.save_model(model, path+'Document.h5', save_format='h5')\n",
        "#model.save(path+'Document_Categorization.h5')"
      ],
      "execution_count": 28,
      "outputs": []
    },
    {
      "cell_type": "code",
      "metadata": {
        "id": "26GbSZKBM5It",
        "colab": {
          "base_uri": "https://localhost:8080/",
          "height": 497
        },
        "outputId": "73693c17-cdaf-4a92-ddcf-7ccf35d329ad"
      },
      "source": [
        "loss_values = history.history['loss']\n",
        "val_loss_values = history.history['val_loss']\n",
        "acc = history.history['accuracy']\n",
        "val_acc = history.history['val_accuracy']\n",
        "epochs = range(1, len(acc) + 1)\n",
        "sns.set_style('darkgrid')\n",
        "                  #=========================================================\n",
        "                  ############### Epochs vs Validation Accuracy Plot ##########\n",
        "                  #==========================================================\n",
        "\n",
        "plt.plot(epochs, acc, color='midnightblue', linewidth = 2, \n",
        "          marker='o', markersize=8,label='Training Accuracy')\n",
        "plt.plot(epochs, val_acc, color='darkred', linewidth = 2, \n",
        "          marker='o', markersize=8,label='Training Accuracy')\n",
        "plt.title('Training and validation accuracy',fontsize=12,fontweight='bold')\n",
        "plt.xlabel('Epochs',fontsize=12,fontweight='bold')\n",
        "plt.ylabel('Accuracy',fontsize=12,fontweight='bold')\n",
        "plt.legend(['Training Accuracy','Validation Accuracy'])"
      ],
      "execution_count": 29,
      "outputs": [
        {
          "output_type": "execute_result",
          "data": {
            "text/plain": [
              "<matplotlib.legend.Legend at 0x7f9414e42e00>"
            ]
          },
          "metadata": {},
          "execution_count": 29
        },
        {
          "output_type": "display_data",
          "data": {
            "text/plain": [
              "<Figure size 640x480 with 1 Axes>"
            ],
            "image/png": "[encoded data removed]"
          },
          "metadata": {}
        }
      ]
    },
    {
      "cell_type": "markdown",
      "metadata": {
        "id": "eQ9bAhadNaKd"
      },
      "source": [
        "From the **accuracy plot** it is observed that, the validation accuracy not improved more than 85%, it is due to multiclass imbalanced classification probelm. Moreover by proper tunning the vocabulary size the model perfoemance can be improved."
      ]
    },
    {
      "cell_type": "markdown",
      "metadata": {
        "id": "vEJcNkTVQkJI"
      },
      "source": [
        "# Model Performance on Test Set"
      ]
    },
    {
      "cell_type": "code",
      "metadata": {
        "id": "nVpwpJA-cYO3"
      },
      "source": [
        "# Load the saved model\n",
        "model = load_model(path+'Document.h5')"
      ],
      "execution_count": 30,
      "outputs": []
    },
    {
      "cell_type": "code",
      "metadata": {
        "id": "-FNXIduHQpOK",
        "colab": {
          "base_uri": "https://localhost:8080/",
          "height": 483
        },
        "outputId": "2c72822f-0dc7-428d-dc65-8756a4c7c5e5"
      },
      "source": [
        "class_names = ['Accident' ,'Amusement' ,'Art' ,'Business' ,'Chakri', 'Corporate', 'Employment','Health', 'Lifestyle', 'Opinion' ,'Politics' ,'Sports']\n",
        "predictions = model.predict(X_test)\n",
        "y_pred = np.argmax(predictions, axis=1)\n",
        "report = pd.DataFrame(classification_report(y_true = y_test, y_pred = y_pred, output_dict=True)).transpose()\n",
        "report = report.rename(index={'0': 'Accident','1':'Amusement','2':'Art','3':'Business','4':'Chakri','5':'Corporate','6':'Employment',\n",
        "                              '7': 'Health','8':'Lifestyle','9':'Opinion','10':'Politics','11':'Sports'})\n",
        "report[['precision','recall','f1-score']]=report[['precision','recall','f1-score']].apply(lambda x: round(x*100,2))\n",
        "report"
      ],
      "execution_count": 31,
      "outputs": [
        {
          "output_type": "stream",
          "name": "stdout",
          "text": [
            "1/1 [==============================] - 1s 1s/step\n"
          ]
        },
        {
          "output_type": "stream",
          "name": "stderr",
          "text": [
            "/usr/local/lib/python3.10/dist-packages/sklearn/metrics/_classification.py:1344: UndefinedMetricWarning: Precision and F-score are ill-defined and being set to 0.0 in labels with no predicted samples. Use `zero_division` parameter to control this behavior.\n",
            "  _warn_prf(average, modifier, msg_start, len(result))\n",
            "/usr/local/lib/python3.10/dist-packages/sklearn/metrics/_classification.py:1344: UndefinedMetricWarning: Recall and F-score are ill-defined and being set to 0.0 in labels with no true samples. Use `zero_division` parameter to control this behavior.\n",
            "  _warn_prf(average, modifier, msg_start, len(result))\n",
            "/usr/local/lib/python3.10/dist-packages/sklearn/metrics/_classification.py:1344: UndefinedMetricWarning: Precision and F-score are ill-defined and being set to 0.0 in labels with no predicted samples. Use `zero_division` parameter to control this behavior.\n",
            "  _warn_prf(average, modifier, msg_start, len(result))\n",
            "/usr/local/lib/python3.10/dist-packages/sklearn/metrics/_classification.py:1344: UndefinedMetricWarning: Recall and F-score are ill-defined and being set to 0.0 in labels with no true samples. Use `zero_division` parameter to control this behavior.\n",
            "  _warn_prf(average, modifier, msg_start, len(result))\n",
            "/usr/local/lib/python3.10/dist-packages/sklearn/metrics/_classification.py:1344: UndefinedMetricWarning: Precision and F-score are ill-defined and being set to 0.0 in labels with no predicted samples. Use `zero_division` parameter to control this behavior.\n",
            "  _warn_prf(average, modifier, msg_start, len(result))\n",
            "/usr/local/lib/python3.10/dist-packages/sklearn/metrics/_classification.py:1344: UndefinedMetricWarning: Recall and F-score are ill-defined and being set to 0.0 in labels with no true samples. Use `zero_division` parameter to control this behavior.\n",
            "  _warn_prf(average, modifier, msg_start, len(result))\n"
          ]
        },
        {
          "output_type": "execute_result",
          "data": {
            "text/plain": [
              "              precision  recall  f1-score  support\n",
              "Business            0.0     0.0       0.0      0.0\n",
              "Chakri              0.0     0.0       0.0      1.0\n",
              "Politics            0.0     0.0       0.0      1.0\n",
              "accuracy            0.0     0.0       0.0      0.0\n",
              "macro avg           0.0     0.0       0.0      2.0\n",
              "weighted avg        0.0     0.0       0.0      2.0"
            ],
            "text/html": [
              "\n",
              "  <div id=\"df-c035f461-78b2-4636-a4ee-7a6dde81e853\">\n",
              "    <div class=\"colab-df-container\">\n",
              "      <div>\n",
              "<style scoped>\n",
              "    .dataframe tbody tr th:only-of-type {\n",
              "        vertical-align: middle;\n",
              "    }\n",
              "\n",
              "    .dataframe tbody tr th {\n",
              "        vertical-align: top;\n",
              "    }\n",
              "\n",
              "    .dataframe thead th {\n",
              "        text-align: right;\n",
              "    }\n",
              "</style>\n",
              "<table border=\"1\" class=\"dataframe\">\n",
              "  <thead>\n",
              "    <tr style=\"text-align: right;\">\n",
              "      <th></th>\n",
              "      <th>precision</th>\n",
              "      <th>recall</th>\n",
              "      <th>f1-score</th>\n",
              "      <th>support</th>\n",
              "    </tr>\n",
              "  </thead>\n",
              "  <tbody>\n",
              "    <tr>\n",
              "      <th>Business</th>\n",
              "      <td>0.0</td>\n",
              "      <td>0.0</td>\n",
              "      <td>0.0</td>\n",
              "      <td>0.0</td>\n",
              "    </tr>\n",
              "    <tr>\n",
              "      <th>Chakri</th>\n",
              "      <td>0.0</td>\n",
              "      <td>0.0</td>\n",
              "      <td>0.0</td>\n",
              "      <td>1.0</td>\n",
              "    </tr>\n",
              "    <tr>\n",
              "      <th>Politics</th>\n",
              "      <td>0.0</td>\n",
              "      <td>0.0</td>\n",
              "      <td>0.0</td>\n",
              "      <td>1.0</td>\n",
              "    </tr>\n",
              "    <tr>\n",
              "      <th>accuracy</th>\n",
              "      <td>0.0</td>\n",
              "      <td>0.0</td>\n",
              "      <td>0.0</td>\n",
              "      <td>0.0</td>\n",
              "    </tr>\n",
              "    <tr>\n",
              "      <th>macro avg</th>\n",
              "      <td>0.0</td>\n",
              "      <td>0.0</td>\n",
              "      <td>0.0</td>\n",
              "      <td>2.0</td>\n",
              "    </tr>\n",
              "    <tr>\n",
              "      <th>weighted avg</th>\n",
              "      <td>0.0</td>\n",
              "      <td>0.0</td>\n",
              "      <td>0.0</td>\n",
              "      <td>2.0</td>\n",
              "    </tr>\n",
              "  </tbody>\n",
              "</table>\n",
              "</div>\n",
              "      <button class=\"colab-df-convert\" onclick=\"convertToInteractive('df-c035f461-78b2-4636-a4ee-7a6dde81e853')\"\n",
              "              title=\"Convert this dataframe to an interactive table.\"\n",
              "              style=\"display:none;\">\n",
              "        \n",
              "  <svg xmlns=\"http://www.w3.org/2000/svg\" height=\"24px\"viewBox=\"0 0 24 24\"\n",
              "       width=\"24px\">\n",
              "    <path d=\"M0 0h24v24H0V0z\" fill=\"none\"/>\n",
              "    <path d=\"M18.56 5.44l.94 2.06.94-2.06 2.06-.94-2.06-.94-.94-2.06-.94 2.06-2.06.94zm-11 1L8.5 8.5l.94-2.06 2.06-.94-2.06-.94L8.5 2.5l-.94 2.06-2.06.94zm10 10l.94 2.06.94-2.06 2.06-.94-2.06-.94-.94-2.06-.94 2.06-2.06.94z\"/><path d=\"M17.41 7.96l-1.37-1.37c-.4-.4-.92-.59-1.43-.59-.52 0-1.04.2-1.43.59L10.3 9.45l-7.72 7.72c-.78.78-.78 2.05 0 2.83L4 21.41c.39.39.9.59 1.41.59.51 0 1.02-.2 1.41-.59l7.78-7.78 2.81-2.81c.8-.78.8-2.07 0-2.86zM5.41 20L4 18.59l7.72-7.72 1.47 1.35L5.41 20z\"/>\n",
              "  </svg>\n",
              "      </button>\n",
              "      \n",
              "  <style>\n",
              "    .colab-df-container {\n",
              "      display:flex;\n",
              "      flex-wrap:wrap;\n",
              "      gap: 12px;\n",
              "    }\n",
              "\n",
              "    .colab-df-convert {\n",
              "      background-color: #E8F0FE;\n",
              "      border: none;\n",
              "      border-radius: 50%;\n",
              "      cursor: pointer;\n",
              "      display: none;\n",
              "      fill: #1967D2;\n",
              "      height: 32px;\n",
              "      padding: 0 0 0 0;\n",
              "      width: 32px;\n",
              "    }\n",
              "\n",
              "    .colab-df-convert:hover {\n",
              "      background-color: #E2EBFA;\n",
              "      box-shadow: 0px 1px 2px rgba(60, 64, 67, 0.3), 0px 1px 3px 1px rgba(60, 64, 67, 0.15);\n",
              "      fill: #174EA6;\n",
              "    }\n",
              "\n",
              "    [theme=dark] .colab-df-convert {\n",
              "      background-color: #3B4455;\n",
              "      fill: #D2E3FC;\n",
              "    }\n",
              "\n",
              "    [theme=dark] .colab-df-convert:hover {\n",
              "      background-color: #434B5C;\n",
              "      box-shadow: 0px 1px 3px 1px rgba(0, 0, 0, 0.15);\n",
              "      filter: drop-shadow(0px 1px 2px rgba(0, 0, 0, 0.3));\n",
              "      fill: #FFFFFF;\n",
              "    }\n",
              "  </style>\n",
              "\n",
              "      <script>\n",
              "        const buttonEl =\n",
              "          document.querySelector('#df-c035f461-78b2-4636-a4ee-7a6dde81e853 button.colab-df-convert');\n",
              "        buttonEl.style.display =\n",
              "          google.colab.kernel.accessAllowed ? 'block' : 'none';\n",
              "\n",
              "        async function convertToInteractive(key) {\n",
              "          const element = document.querySelector('#df-c035f461-78b2-4636-a4ee-7a6dde81e853');\n",
              "          const dataTable =\n",
              "            await google.colab.kernel.invokeFunction('convertToInteractive',\n",
              "                                                     [key], {});\n",
              "          if (!dataTable) return;\n",
              "\n",
              "          const docLinkHtml = 'Like what you see? Visit the ' +\n",
              "            '<a target=\"_blank\" href=https://colab.research.google.com/notebooks/data_table.ipynb>data table notebook</a>'\n",
              "            + ' to learn more about interactive tables.';\n",
              "          element.innerHTML = '';\n",
              "          dataTable['output_type'] = 'display_data';\n",
              "          await google.colab.output.renderOutput(dataTable, element);\n",
              "          const docLink = document.createElement('div');\n",
              "          docLink.innerHTML = docLinkHtml;\n",
              "          element.appendChild(docLink);\n",
              "        }\n",
              "      </script>\n",
              "    </div>\n",
              "  </div>\n",
              "  "
            ]
          },
          "metadata": {},
          "execution_count": 31
        }
      ]
    },
    {
      "cell_type": "code",
      "metadata": {
        "colab": {
          "base_uri": "https://localhost:8080/"
        },
        "outputId": "fc3b19b4-4090-46d5-a34d-fa48247cc88b",
        "id": "Lxpz_cQToMg2"
      },
      "source": [
        "def encoded_texts(dataset,padding_length,max_words):\n",
        "\n",
        "  '''\n",
        "  This function will encoded the text into a sequence of numbers\n",
        "\n",
        "  Args:\n",
        "  dataset: a dataset\n",
        "  padding_length: maximum length of a encoded texte\n",
        "  max_words : Number of words \n",
        "\n",
        "  returns:\n",
        "  corpus: Number of encoded texts\n",
        "  labels: encoded labels\n",
        "  '''\n",
        "  \n",
        "  tokenizer = Tokenizer(num_words = max_words, filters='!\"#$%&()*+,-./:;<=>?@[\\\\]^_`{|}~\\t\\n-', \n",
        "                      split=' ', char_level=False, oov_token='<oov>', document_count=0)\n",
        "  \n",
        " \n",
        "\n",
        " # Fit the tokenizer\n",
        "  tokenizer.fit_on_texts(dataset.cleaned)\n",
        "  #============================== Tokenizer Info =================================\n",
        "  (word_counts,word_docs,word_index,document_count) = (tokenizer.word_counts,\n",
        "                                                       tokenizer.word_docs,\n",
        "                                                       tokenizer.word_index,\n",
        "                                                       tokenizer.document_count)\n",
        "  def tokenizer_info(mylist,bool):\n",
        "    ordered = sorted(mylist.items(), key= lambda item: item[1],reverse = bool)\n",
        "    for w,c in ordered[:10]:\n",
        "      print(w,\"\\t\",c)\n",
        "  #=============================== Print all the information =========================\n",
        "  print(color.BOLD+\"\\t\\t\\t====== Tokenizer Info ======\"+color.END)   \n",
        "  print(\"Words --> Counts:\")\n",
        "  tokenizer_info(word_counts,bool =True )\n",
        "  print(\"\\nWords --> Documents:\")\n",
        "  tokenizer_info(word_docs,bool =True )\n",
        "  print(\"\\nWords --> Index:\")\n",
        "  tokenizer_info(word_index,bool =True )    \n",
        "  print(\"\\nTotal Documents -->\",document_count)\n",
        "\n",
        "  #=========================== Convert string into list of integer indices =================\n",
        "  sequences = tokenizer.texts_to_sequences(dataset.cleaned)\n",
        "  word_index = tokenizer.word_index\n",
        "  print(color.BOLD+\"\\n\\t\\t\\t====== Encoded Sequences ======\"+color.END,\"\\nFound {} unique tokens\".format(len(word_index)))  \n",
        "  # print(dataset.cleaned[10],\"\\n\",sequences[10]) \n",
        "\n",
        "  #==================================== Pad Sequences ============================== \n",
        "  corpus = keras.preprocessing.sequence.pad_sequences(sequences, value=0.0,\n",
        "                                                      padding='post', maxlen= padding_length)\n",
        "  # print(\"\\n\\t\\t\\t====== Paded Sequences ======\\n\",dataset.cleaned[10],\"\\n\",corpus[10])   \n",
        "\n",
        "  #=================================     Label Encoding ================================\n",
        "  labels = label_encoding(dataset,True)\n",
        "\n",
        "   # save the tokenizer into a pickle file\n",
        "  with open(path+'tokenizer.pickle', 'wb') as handle:\n",
        "    pickle.dump(tokenizer, handle, protocol=pickle.HIGHEST_PROTOCOL)\n",
        "\n",
        "  return corpus,labels\n",
        "  \n",
        "#call the function\n",
        "num_words = 5000\n",
        "corpus,labels = encoded_texts(dataset,\n",
        "                                300,num_words)\n",
        "print(\"\\nShape of Encoded Corpus =====>\",corpus.shape)"
      ],
      "execution_count": 32,
      "outputs": [
        {
          "output_type": "stream",
          "name": "stdout",
          "text": [
            "\u001b[1m\t\t\t====== Tokenizer Info ======\u001b[0m\n",
            "Words --> Counts:\n",
            "হবে \t 9\n",
            "জন্য \t 9\n",
            "করতে \t 8\n",
            "ও \t 8\n",
            "আর \t 8\n",
            "এই \t 5\n",
            "করা \t 5\n",
            "হবে। \t 5\n",
            "এ \t 5\n",
            "দেশের \t 4\n",
            "\n",
            "Words --> Documents:\n",
            "করতে \t 7\n",
            "জন্য \t 7\n",
            "এই \t 5\n",
            "করা \t 5\n",
            "হবে \t 5\n",
            "ও \t 5\n",
            "বাংলাদেশ \t 4\n",
            "দেশের \t 4\n",
            "এ \t 4\n",
            "হবে। \t 4\n",
            "\n",
            "Words --> Index:\n",
            "ডাকেন। \t 598\n",
            "বলেও \t 597\n",
            "শিক্ষক’ \t 596\n",
            "‘কৃষকের \t 595\n",
            "অনেকে \t 594\n",
            "উঠেছেন। \t 593\n",
            "ভরসাস্থল \t 592\n",
            "চাষিদের \t 591\n",
            "তরুণ–যুবক \t 590\n",
            "গ্রামের \t 589\n",
            "\n",
            "Total Documents --> 18\n",
            "\u001b[1m\n",
            "\t\t\t====== Encoded Sequences ======\u001b[0m \n",
            "Found 598 unique tokens\n",
            "\u001b[1m\n",
            "\t\t\t===== Label Encoding =====\u001b[0m \n",
            "Class Names:--> ['Accident' 'Amusement' 'Art' 'Business' 'Chakri' 'Corporate' 'Employment'\n",
            " 'Health' 'Lifestyle' 'Opinion' 'Politics' 'Sports']\n",
            "\n",
            "Shape of Encoded Corpus =====> (18, 300)\n"
          ]
        }
      ]
    },
    {
      "cell_type": "markdown",
      "metadata": {
        "id": "vSMg_JAMSYNM"
      },
      "source": [
        "By observing precision,recall and f1-score we can see that all the classes are classified reasonably well except **Art and Environment.** "
      ]
    },
    {
      "cell_type": "markdown",
      "metadata": {
        "id": "MH3HoWz_OeeE"
      },
      "source": [
        "## Confusion Matrix"
      ]
    },
    {
      "cell_type": "code",
      "metadata": {
        "id": "CUdG2LdjGHRi",
        "colab": {
          "base_uri": "https://localhost:8080/",
          "height": 623
        },
        "outputId": "4d45d113-1735-441a-d2d6-27e00ba9aee9"
      },
      "source": [
        "from sklearn.metrics import classification_report, confusion_matrix\n",
        "predictions = model.predict(X_test)\n",
        "y_pred = np.argmax(predictions, axis=1)\n",
        "\n",
        "cm = confusion_matrix(y_test, y_pred) \n",
        "\n",
        "class_names = ['Accident' ,'Amusement' ,'Art' ,'Business' ,'Chakri', 'Corporate', 'Employment','Health', 'Lifestyle', 'Opinion' ,'Politics' ,'Sports']\n",
        "# Transform to df for easier plotting\n",
        "# cm_df = pd.DataFrame(cm,index = class_names,columns = class_names)\n",
        "\n",
        "plt.figure(figsize=(8,6))\n",
        "# sns.heatmap(cm_df, annot=True,cmap=\"Greens\", fmt='g')\n",
        "plt.title('CNN-BiLSTM \\nAccuracy: {0:.2f}'.format(accuracy_score(y_test, y_pred)*100))\n",
        "plt.ylabel('True label')\n",
        "plt.xlabel('Predicted label')\n",
        "plt.xticks(rotation = 45)\n",
        "plt.yticks(rotation = 45)\n",
        "plt.show()\n"
      ],
      "execution_count": 33,
      "outputs": [
        {
          "output_type": "stream",
          "name": "stdout",
          "text": [
            "1/1 [==============================] - 0s 25ms/step\n"
          ]
        },
        {
          "output_type": "display_data",
          "data": {
            "text/plain": [
              "<Figure size 800x600 with 1 Axes>"
            ],
            "image/png": "[encoded data removed]"
          },
          "metadata": {}
        }
      ]
    },
    {
      "cell_type": "markdown",
      "metadata": {
        "id": "GH8lMDKxSz1M"
      },
      "source": [
        "The confusion matrix provides a good understanding about how many documents are correctly classified in each class and which classes get confused during classification. Here, we can see that Art, Entertainment, Politics category gives larger number of false classified result.  "
      ]
    },
    {
      "cell_type": "markdown",
      "metadata": {
        "id": "l0aWT-JIcrL8"
      },
      "source": [
        "## Test with our own news "
      ]
    },
    {
      "cell_type": "code",
      "metadata": {
        "id": "dR0dy_qccvW-",
        "colab": {
          "base_uri": "https://localhost:8080/"
        },
        "outputId": "e7d7d6ed-5e02-408c-92ec-bca3f75b846c"
      },
      "source": [
        "sample_news = 'াশ করেছে। এ প্রতিষ্ঠানে ১৬ ক্যাটাগরির পদে ৯ম থেকে ১২তম গ্রেডে স্থায়ী ও অস্থায়ী ভিত্তিত'\n",
        "cleaned_news = cleaning_documents(sample_news)\n",
        "\n",
        "class_names = ['Accident' ,'Amusement' ,'Art' ,'Business' ,'Chakri', 'Corporate', 'Employment','Health', 'Lifestyle', 'Opinion' ,'Politics' ,'Sports']\n",
        "\n",
        "#print(cleaned_news)\n",
        "# load the saved tokenizer\n",
        "with open(path+'tokenizer.pickle', 'rb') as handle:\n",
        "    loaded_tokenizer = pickle.load(handle)\n",
        "#print(len(loaded_tokenizer.word_index))\n",
        "seq= loaded_tokenizer.texts_to_sequences([cleaned_news])\n",
        "padded = pad_sequences(seq, value=0.0,padding='post', maxlen= 300 )\n",
        "pred = model.predict(padded)\n",
        "print(pred) \n",
        "class_names[np.argmax(pred)] \n",
        "\n",
        "print(class_names)\n"
      ],
      "execution_count": 34,
      "outputs": [
        {
          "output_type": "stream",
          "name": "stdout",
          "text": [
            "1/1 [==============================] - 0s 68ms/step\n",
            "[[0.07818535 0.09618838 0.0038297  0.15470974 0.00344949 0.09503961\n",
            "  0.09488276 0.14835373 0.16372982 0.04148826 0.11391912 0.00622403]]\n",
            "['Accident', 'Amusement', 'Art', 'Business', 'Chakri', 'Corporate', 'Employment', 'Health', 'Lifestyle', 'Opinion', 'Politics', 'Sports']\n"
          ]
        }
      ]
    },
    {
      "cell_type": "code",
      "metadata": {
        "id": "kcWqif08u13d",
        "colab": {
          "base_uri": "https://localhost:8080/"
        },
        "outputId": "1058148a-e5b5-442f-816a-f536915a72ad"
      },
      "source": [
        "# print top most classes\n",
        "y_pred = pred.reshape(-1)\n",
        "class_labels=[(class_names[i],round(prob*100,2)) for i,prob in enumerate(y_pred) if prob > 0.1]\n",
        "\n",
        "for k, v in class_labels:\n",
        "  print(k,'====>',v,'%')"
      ],
      "execution_count": 35,
      "outputs": [
        {
          "output_type": "stream",
          "name": "stdout",
          "text": [
            "Business ====> 15.47 %\n",
            "Health ====> 14.84 %\n",
            "Lifestyle ====> 16.37 %\n",
            "Politics ====> 11.39 %\n"
          ]
        }
      ]
    }
  ]
}